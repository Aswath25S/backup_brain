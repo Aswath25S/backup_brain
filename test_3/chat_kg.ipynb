{
 "cells": [
  {
   "cell_type": "code",
   "execution_count": 1,
   "id": "42dd779b-b829-4b0a-910e-613f1f9e6f25",
   "metadata": {},
   "outputs": [],
   "source": [
    "import pandas as pd\n",
    "import networkx as nx\n",
    "import matplotlib.pyplot as plt\n",
    "\n",
    "from langchain_openai import ChatOpenAI\n",
    "from langchain_text_splitters import TokenTextSplitter\n",
    "from langchain_core.prompts import ChatPromptTemplate\n",
    "from langchain_core.output_parsers import StrOutputParser"
   ]
  },
  {
   "cell_type": "code",
   "execution_count": 2,
   "id": "befd86e6-4d9a-4453-82aa-6b76dab18ccc",
   "metadata": {},
   "outputs": [],
   "source": [
    "main_path = \"/home/aswath/Projects/deep_learning/backup_brain/test_3/\""
   ]
  },
  {
   "cell_type": "markdown",
   "id": "9d4a067b-63d0-42f8-bf87-45a88f2bdda9",
   "metadata": {},
   "source": [
    "### Demonstration of Knowledge Graph Creation"
   ]
  },
  {
   "cell_type": "code",
   "execution_count": 5,
   "id": "6936f724-08ae-4fcb-9922-a51271a99dba",
   "metadata": {},
   "outputs": [],
   "source": [
    "input_path = main_path + \"input/tca_chat.txt\""
   ]
  },
  {
   "cell_type": "code",
   "execution_count": 6,
   "id": "8bca9631-3866-4799-b2c7-afc7ffbd512c",
   "metadata": {},
   "outputs": [],
   "source": [
    "with open(input_path, 'r') as file:\n",
    "    content = file.read()\n",
    "\n",
    "text_splitter = TokenTextSplitter(chunk_size=2000, chunk_overlap=100)\n",
    "texts = text_splitter.split_text(content)"
   ]
  },
  {
   "cell_type": "code",
   "execution_count": 37,
   "id": "573735d1-d54c-44a4-b6bd-617041264004",
   "metadata": {},
   "outputs": [],
   "source": [
    "prompt_template = \"\"\"\n",
    "-Goal-\n",
    "Given a chat log from a WhatsApp group involving members of a community (e.g., Tamil Cricket Association), extract all significant entities and relationships related to participants, activities, cultural references, and group dynamics. Also identify recurring themes or clusters of behavior (like jokes, sports events, or content sharing) if applicable.\n",
    "\n",
    "-Steps-\n",
    "1. Identify all entities. For each identified entity, extract the following information:\n",
    "- entity_name: Name or term identifying the person, event, media, place, or cultural item\n",
    "- entity_type: One of the following types: [participant, event, shared media, place, cultural reference, inside joke, discussion topic, recurring activity, sentiment expression]\n",
    "- entity_description: A brief but comprehensive description of the entity’s role or relevance in the chat\n",
    "Format each entity as (\"entity\" : <entity_name>, <entity_type> : <entity_description>)\n",
    "\n",
    "2. From the entities identified in step 1, identify all pairs of (source_entity, target_entity) that are *clearly related* to each other.\n",
    "For each pair of related entities, extract the following information:\n",
    "- source_entity: name of the source entity, as identified in step 1\n",
    "- target_entity: name of the target entity, as identified in step 1\n",
    "- relationship_description: explanation as to why you think the source entity and the target entity are related to each other\n",
    "- relationship_strength: an integer score between 1 to 10, indicating strength of the relationship between the source entity and target entity\n",
    "Format each relationship as (\"relationship\" : <source_entity>, <target_entity>, \"relationship description\" : <relationship_description>, \"relationship strength\" : <relationship_strength>)\n",
    "\n",
    "3. Return output in English as a single list of all the entities and relationships identified in steps 1 and 2. Use **{{record_delimiter}}** as the list delimiter.\n",
    "\n",
    "4. If you have to translate into English, just translate the descriptions, nothing else!\n",
    "\n",
    "5. When finished, output {{completion_delimiter}}.\n",
    "\n",
    "-Examples-\n",
    "######################\n",
    "entity_types: [participant, event, shared media, place, cultural reference, inside joke, discussion topic, recurring activity, sentiment expression]\n",
    "text: {input_text}\n",
    "######################\n",
    "output:\n",
    "\"\"\""
   ]
  },
  {
   "cell_type": "code",
   "execution_count": 38,
   "id": "646ab79d-3446-4482-adb1-aea035ecc0fe",
   "metadata": {},
   "outputs": [],
   "source": [
    "llm = ChatOpenAI(temperature=0.0, model=\"gpt-4o\", api_key= \"dummy_val\")\n",
    "\n",
    "prompt = ChatPromptTemplate.from_template(prompt_template)\n",
    "chain = prompt | llm | StrOutputParser()"
   ]
  },
  {
   "cell_type": "code",
   "execution_count": 39,
   "id": "fe82db4e-815c-4edd-a807-cdf25a33fbc2",
   "metadata": {},
   "outputs": [],
   "source": [
    "response = chain.invoke({\"input_text\": content[:25000]})"
   ]
  },
  {
   "cell_type": "code",
   "execution_count": 40,
   "id": "ed264086-fe10-472d-a841-b7295d4b3bf7",
   "metadata": {
    "scrolled": true
   },
   "outputs": [
    {
     "name": "stdout",
     "output_type": "stream",
     "text": [
      "**Entities:**\n",
      "\n",
      "1. (\"entity\": \"Adarsh\", \"participant\": \"A member of the group who frequently shares media and engages in conversations.\")\n",
      "2. (\"entity\": \"Sushil\", \"participant\": \"A member of the group who initiates discussions about cricket and shares media.\")\n",
      "3. (\"entity\": \"Muthu Manimaran\", \"participant\": \"A member who shares media and engages in cultural discussions.\")\n",
      "4. (\"entity\": \"Praveen TAMIL Senior\", \"participant\": \"A senior member who shares media and engages in cultural and film discussions.\")\n",
      "5. (\"entity\": \"Dinesh Anna IIT Senior\", \"participant\": \"A senior member who shares media and engages in discussions.\")\n",
      "6. (\"entity\": \"Tharun ESED Junior\", \"participant\": \"A junior member who engages in conversations and shares media.\")\n",
      "7. (\"entity\": \"Gymkhana\", \"place\": \"A location mentioned for playing cricket.\")\n",
      "8. (\"entity\": \"Cricket\", \"recurring activity\": \"A sport frequently discussed and played by the group members.\")\n",
      "9. (\"entity\": \"Vaathi\", \"cultural reference\": \"A Tamil film discussed in the group.\")\n",
      "10. (\"entity\": \"Dhanush\", \"cultural reference\": \"An actor mentioned in the context of the film Vaathi.\")\n",
      "11. (\"entity\": \"Inside Jokes\", \"inside joke\": \"Recurring humorous references that are understood within the group.\")\n",
      "12. (\"entity\": \"Bakasuran\", \"cultural reference\": \"A movie discussed critically by the group members.\")\n",
      "13. (\"entity\": \"Filter Coffee\", \"cultural reference\": \"A traditional South Indian beverage mentioned in the chat.\")\n",
      "14. (\"entity\": \"Idli\", \"cultural reference\": \"A South Indian dish compared to cake in the chat.\")\n",
      "15. (\"entity\": \"Sambar\", \"cultural reference\": \"A South Indian dish praised for its taste in the chat.\")\n",
      "16. (\"entity\": \"Neeya Naana\", \"cultural reference\": \"A TV show mentioned in the chat.\")\n",
      "17. (\"entity\": \"Kumbhakarna\", \"cultural reference\": \"A mythological reference used humorously in the chat.\")\n",
      "18. (\"entity\": \"Azaan\", \"cultural reference\": \"A religious reference mentioned in the context of a joke.\")\n",
      "19. (\"entity\": \"Biriyani\", \"cultural reference\": \"A popular dish mentioned in the context of a treat.\")\n",
      "20. (\"entity\": \"Tamil Film Recommendations\", \"discussion topic\": \"A list of Tamil films recommended by a group member.\")\n",
      "21. (\"entity\": \"Caste Discrimination\", \"discussion topic\": \"A serious topic discussed in the context of a student's experience.\")\n",
      "22. (\"entity\": \"MISA Detention\", \"cultural reference\": \"A historical reference mentioned in the context of an exhibition.\")\n",
      "23. (\"entity\": \"Stalin\", \"cultural reference\": \"A political figure mentioned in the context of MISA detention.\")\n",
      "24. (\"entity\": \"Kamal\", \"cultural reference\": \"An actor mentioned in the context of opening an exhibition.\")\n",
      "25. (\"entity\": \"Selva\", \"participant\": \"A member mentioned in the context of a birthday and group dynamics.\")\n",
      "26. (\"entity\": \"Prashanth Anna\", \"participant\": \"A member mentioned in the context of a biriyani treat.\")\n",
      "27. (\"entity\": \"Siva\", \"cultural reference\": \"Referred to as 'Agila ulaga superstar' in a humorous context.\")\n",
      "28. (\"entity\": \"Anirudh\", \"cultural reference\": \"A music composer mentioned in the context of a fake musical.\")\n",
      "29. (\"entity\": \"Jessie\", \"cultural reference\": \"A character discussed in the context of a film review.\")\n",
      "30. (\"entity\": \"GVM\", \"cultural reference\": \"A director mentioned in the context of a birthday roast.\")\n",
      "31. (\"entity\": \"Vikram\", \"cultural reference\": \"A film mentioned in the context of a shooting location.\")\n",
      "32. (\"entity\": \"Fahad\", \"cultural reference\": \"An actor mentioned in the context of a film shoot.\")\n",
      "33. (\"entity\": \"Megha Akash\", \"cultural reference\": \"An actress mentioned in the context of an interview.\")\n",
      "34. (\"entity\": \"Azhagarsaamiyin Kuthirai\", \"cultural reference\": \"A story mentioned in the context of a writer's work.\")\n",
      "35. (\"entity\": \"Baskar Sakthi\", \"cultural reference\": \"A writer discussed in the context of political correctness.\")\n",
      "36. (\"entity\": \"Suseendhran\", \"cultural reference\": \"A director mentioned in the context of a writer's group.\")\n",
      "37. (\"entity\": \"Aadi Maasam\", \"cultural reference\": \"A Tamil month mentioned in a humorous context.\")\n",
      "38. (\"entity\": \"Koozh\", \"cultural reference\": \"A traditional dish mentioned in a humorous context.\")\n",
      "39. (\"entity\": \"Dark Devil\", \"inside joke\": \"A humorous reference used in the chat.\")\n",
      "40. (\"entity\": \"MG\", \"cultural reference\": \"A reference to a person or character in a humorous context.\")\n",
      "41. (\"entity\": \"Sanatana Dharma\", \"cultural reference\": \"A religious reference mentioned in a critical context.\")\n",
      "42. (\"entity\": \"MCU Part 4\", \"cultural reference\": \"A humorous reference to a movie franchise.\")\n",
      "43. (\"entity\": \"Ayali\", \"cultural reference\": \"A film mentioned in the context of a director's work.\")\n",
      "44. (\"entity\": \"Zee Entertainment\", \"cultural reference\": \"A company mentioned in the context of film production.\")\n",
      "45. (\"entity\": \"Sundar anna IITB Phd\", \"participant\": \"A senior member who shares media and engages in discussions.\")\n",
      "46. (\"entity\": \"Madhu IITB Junior\", \"participant\": \"A new member who joined the group.\")\n",
      "47. (\"entity\": \"Karthi Bro IITB Aero\", \"participant\": \"A new member added to the group.\")\n",
      "48. (\"entity\": \"Gowtam Elec Junior\", \"participant\": \"A junior member who shares media.\")\n",
      "49. (\"entity\": \"Akshay Aero Junior\", \"participant\": \"A junior member who engages in conversations.\")\n",
      "50. (\"entity\": \"Vinu Rakav IITB Junior\", \"participant\": \"A junior member who engages in conversations.\")\n",
      "51. (\"entity\": \"Darshan\", \"participant\": \"A member who engages in conversations.\")\n",
      "52. (\"entity\": \"Sarath\", \"participant\": \"A member who shares media and engages in conversations.\")\n",
      "53. (\"entity\": \"RamKumar Civil Brother\", \"participant\": \"A member who engages in conversations.\")\n",
      "54. (\"entity\": \"Keshav Ram IITB Junior\", \"participant\": \"A junior member who engages in conversations.\")\n",
      "55. (\"entity\": \"Tamilthedal Anna\", \"participant\": \"A member who engages in conversations and shares media.\")\n",
      "56. (\"entity\": \"Dharun Aerospace\", \"participant\": \"A member who shares media and engages in conversations.\")\n",
      "57. (\"entity\": \"Hitler\", \"cultural reference\": \"A historical figure mentioned in a humorous context.\")\n",
      "58. (\"entity\": \"Naam Tamilar\", \"cultural reference\": \"A political reference mentioned in a humorous context.\")\n",
      "59. (\"entity\": \"Parole\", \"cultural reference\": \"A Tamil film recommended by a group member.\")\n",
      "60. (\"entity\": \"Rathasatchi\", \"cultural reference\": \"A Tamil film recommended by a group member.\")\n",
      "61. (\"entity\": \"Witness\", \"cultural reference\": \"A Tamil film recommended by a group member.\")\n",
      "62. (\"entity\": \"Thankam\", \"cultural reference\": \"A film mentioned in the context of good reviews.\")\n",
      "63. (\"entity\": \"Indendies\", \"cultural reference\": \"A French film mentioned in the context of a similar impact.\")\n",
      "64. (\"entity\": \"Arivu\", \"cultural reference\": \"A singer mentioned in a humorous context.\")\n",
      "65. (\"entity\": \"Viduthalai\", \"cultural reference\": \"A film mentioned in the context of a discussion.\")\n",
      "66. (\"entity\": \"Kurattai Oli\", \"cultural reference\": \"A humorous reference mentioned in the context of a school essay.\")\n",
      "67. (\"entity\": \"CBSE\", \"cultural reference\": \"An educational board mentioned in the context of a school essay.\")\n",
      "68. (\"entity\": \"Chennai\", \"place\": \"A city mentioned in the context of living arrangements.\")\n",
      "69. (\"entity\": \"Tharun ESED Junior\", \"participant\": \"A junior member who shares media and engages in conversations.\")\n",
      "70. (\"entity\": \"Vinu Rakav IITB Junior\", \"participant\": \"A junior member who engages in conversations.\")\n",
      "71. (\"entity\": \"Gowtam Elec Junior\", \"participant\": \"A junior member who shares media.\")\n",
      "72. (\"entity\": \"Akshay Aero Junior\", \"participant\": \"A junior member who engages in conversations.\")\n",
      "73. (\"entity\": \"Madhu IITB Junior\", \"participant\": \"A new member who joined the group.\")\n",
      "74. (\"entity\": \"Karthi Bro IITB Aero\", \"participant\": \"A new member added to the group.\")\n",
      "75. (\"entity\": \"Darshan\", \"participant\": \"A member who engages in conversations.\")\n",
      "76. (\"entity\": \"Sarath\", \"participant\": \"A member who shares media and engages in conversations.\")\n",
      "77. (\"entity\": \"RamKumar Civil Brother\", \"participant\": \"A member who engages in conversations.\")\n",
      "78. (\"entity\": \"Keshav Ram IITB Junior\", \"participant\": \"A junior member who engages in conversations.\")\n",
      "79. (\"entity\": \"Tamilthedal Anna\", \"participant\": \"A member who engages in conversations and shares media.\")\n",
      "80. (\"entity\": \"Dharun Aerospace\", \"participant\": \"A member who shares media and engages in conversations.\")\n",
      "81. (\"entity\": \"Hitler\", \"cultural reference\": \"A historical figure mentioned in a humorous context.\")\n",
      "82. (\"entity\": \"Naam Tamilar\", \"cultural reference\": \"A political reference mentioned in a humorous context.\")\n",
      "83. (\"entity\": \"Parole\", \"cultural reference\": \"A Tamil film recommended by a group member.\")\n",
      "84. (\"entity\": \"Rathasatchi\", \"cultural reference\": \"A Tamil film recommended by a group member.\")\n",
      "85. (\"entity\": \"Witness\", \"cultural reference\": \"A Tamil film recommended by a group member.\")\n",
      "86. (\"entity\": \"Thankam\", \"cultural reference\": \"A film mentioned in the context of good reviews.\")\n",
      "87. (\"entity\": \"Indendies\", \"cultural reference\": \"A French film mentioned in the context of a similar impact.\")\n",
      "88. (\"entity\": \"Arivu\", \"cultural reference\": \"A singer mentioned in a humorous context.\")\n",
      "89. (\"entity\": \"Viduthalai\", \"cultural reference\": \"A film mentioned in the context of a discussion.\")\n",
      "90. (\"entity\": \"Kurattai Oli\", \"cultural reference\": \"A humorous reference mentioned in the context of a school essay.\")\n",
      "91. (\"entity\": \"CBSE\", \"cultural reference\": \"An educational board mentioned in the context of a school essay.\")\n",
      "92. (\"entity\": \"Chennai\", \"place\": \"A city mentioned in the context of living arrangements.\")\n",
      "\n",
      "**Relationships:**\n",
      "\n",
      "1. (\"relationship\": \"Adarsh\", \"Sushil\", \"relationship description\": \"Both members frequently engage in conversations and share media.\", \"relationship strength\": 7)\n",
      "2. (\"relationship\": \"Muthu Manimaran\", \"Praveen TAMIL Senior\", \"relationship description\": \"Both members engage in cultural discussions and share media.\", \"relationship strength\": 8)\n",
      "3. (\"relationship\": \"Dinesh Anna IIT Senior\", \"Tharun ESED Junior\", \"relationship description\": \"Both members share media and engage in conversations.\", \"relationship strength\": 6)\n",
      "4. (\"relationship\": \"Cricket\", \"Gymkhana\", \"relationship description\": \"Gymkhana is mentioned as a place for playing cricket.\", \"relationship strength\": 9)\n",
      "5. (\"relationship\": \"Vaathi\", \"Dhanush\", \"relationship description\": \"Dhanush is an actor in the film Vaathi.\", \"relationship strength\": 8)\n",
      "6. (\"relationship\": \"Inside Jokes\", \"Adarsh\", \"relationship description\": \"Adarsh frequently uses inside jokes in conversations.\", \"relationship strength\": 7)\n",
      "7. (\"relationship\": \"Bakasuran\", \"Adarsh\", \"relationship description\": \"Adarsh discusses the movie Bakasuran critically.\", \"relationship strength\": 6)\n",
      "8. (\"relationship\": \"Filter Coffee\", \"Idli\", \"relationship description\": \"Both are traditional South Indian foods mentioned in the chat.\", \"relationship strength\": 7)\n",
      "9. (\"relationship\": \"Neeya Naana\", \"Praveen TAMIL Senior\", \"relationship description\": \"Praveen mentions the TV show Neeya Naana.\", \"relationship strength\": 5)\n",
      "10. (\"relationship\": \"Kumbhakarna\", \"Azaan\", \"relationship description\": \"Both are used in a humorous context in the chat.\", \"relationship strength\": 6)\n",
      "11. (\"relationship\": \"Biriyani\", \"Prashanth Anna\", \"relationship description\": \"Prashanth Anna is mentioned in the context of a biriyani treat.\", \"relationship strength\": 8)\n",
      "12. (\"relationship\": \"Tamil Film Recommendations\", \"Caste Discrimination\", \"relationship description\": \"Both are serious topics discussed by the group.\", \"relationship strength\": 5)\n",
      "13. (\"relationship\": \"MISA Detention\", \"Stalin\", \"relationship description\": \"Stalin's MISA detention is displayed in an exhibition.\", \"relationship strength\": 9)\n",
      "14. (\"relationship\": \"Kamal\", \"MISA Detention\", \"relationship description\": \"Kamal opened the exhibition displaying MISA detention.\", \"relationship strength\": 8)\n",
      "15. (\"relationship\": \"Selva\", \"Praveen TAMIL Senior\", \"relationship description\": \"Selva is mentioned in the context of a birthday and group dynamics.\", \"relationship strength\": 6)\n",
      "16. (\"relationship\": \"Siva\", \"Adarsh\", \"relationship description\": \"Adarsh humorously refers to Siva as 'Agila ulaga superstar'.\", \"relationship strength\": 7)\n",
      "17. (\"relationship\": \"Anirudh\", \"Adarsh\", \"relationship description\": \"Adarsh mentions Anirudh in the context of a fake musical.\", \"relationship strength\": 6)\n",
      "18. (\"relationship\": \"Jessie\", \"Muthu Manimaran\", \"relationship description\": \"Muthu Manimaran discusses the character Jessie in a film review.\", \"relationship strength\": 5)\n",
      "19. (\"relationship\": \"GVM\", \"Adarsh\", \"relationship description\": \"Adarsh mentions GVM in the context of a birthday roast.\", \"relationship strength\": 6)\n",
      "20. (\"relationship\": \"Vikram\", \"Fahad\", \"relationship description\": \"Fahad is mentioned in the context of a film shoot for Vikram.\", \"relationship strength\": 7)\n",
      "21. (\"relationship\": \"Megha Akash\", \"Adarsh\", \"relationship description\": \"Adarsh mentions Megha Akash in the context of an interview.\", \"relationship strength\": 5)\n",
      "22. (\"relationship\": \"Azhagarsaamiyin Kuthirai\", \"Baskar Sakthi\", \"relationship description\": \"Baskar Sakthi is mentioned as the writer of Azhagarsaamiyin Kuthirai.\", \"relationship strength\": 8)\n",
      "23. (\"relationship\": \"Baskar Sakthi\", \"Suseendhran\", \"relationship description\": \"Baskar Sakthi is mentioned in the context of Suseendhran's group.\", \"relationship strength\": 6)\n",
      "24. (\"relationship\": \"Aadi Maasam\", \"Koozh\", \"relationship description\": \"Both are mentioned in a humorous context.\", \"relationship strength\": 7)\n",
      "25. (\"relationship\": \"Dark Devil\", \"Adarsh\", \"relationship description\": \"Adarsh uses the term Dark Devil in a humorous context.\", \"relationship strength\": 6)\n",
      "26. (\"relationship\": \"MG\", \"Adarsh\", \"relationship description\": \"Adarsh humorously refers to MG in the chat.\", \"relationship strength\": 5)\n",
      "27. (\"relationship\": \"Sanatana Dharma\", \"Muthu Manimaran\", \"relationship description\": \"Muthu Manimaran mentions Sanatana Dharma in a critical context.\", \"relationship strength\": 7)\n",
      "28. (\"relationship\": \"MCU Part 4\", \"Adarsh\", \"relationship description\": \"Adarsh humorously refers to MCU Part 4 in the chat.\", \"relationship strength\": 5)\n",
      "29. (\"relationship\": \"Ayali\", \"Zee Entertainment\", \"relationship description\": \"Zee Entertainment is mentioned in the context of producing Ayali.\", \"relationship strength\": 8)\n",
      "30. (\"relationship\": \"Parole\", \"Rathasatchi\", \"relationship description\": \"Both are Tamil films recommended by a group member.\", \"relationship strength\": 7)\n",
      "31. (\"relationship\": \"Witness\", \"Parole\", \"relationship description\": \"Both are Tamil films recommended by a group member.\", \"relationship strength\": 7)\n",
      "32. (\"relationship\": \"Thankam\", \"Indendies\", \"relationship description\": \"Both are films mentioned in the context of good reviews.\", \"relationship strength\": 6)\n",
      "33. (\"relationship\": \"Arivu\", \"Adarsh\", \"relationship description\": \"Adarsh humorously refers to Arivu in the chat.\", \"relationship strength\": 5)\n",
      "34. (\"relationship\": \"Viduthalai\", \"Adarsh\", \"relationship description\": \"Adarsh mentions Viduthalai in the context of a discussion.\", \"relationship strength\": 5)\n",
      "35. (\"relationship\": \"Kurattai Oli\", \"CBSE\", \"relationship description\": \"Kurattai Oli is mentioned in the context of a CBSE school essay.\", \"relationship strength\": 7)\n",
      "36. (\"relationship\": \"Chennai\", \"Adarsh\", \"relationship description\": \"Adarsh mentions Chennai in the context of living arrangements.\", \"relationship strength\": 6)\n",
      "\n",
      "**{record_delimiter}**\n"
     ]
    }
   ],
   "source": [
    "print(response)"
   ]
  },
  {
   "cell_type": "code",
   "execution_count": 47,
   "id": "91b06ffe-5ebe-455a-8b96-e376703948c9",
   "metadata": {
    "scrolled": true
   },
   "outputs": [],
   "source": [
    "response_2 = chain.invoke({\"input_text\": content[-25000:]})"
   ]
  },
  {
   "cell_type": "code",
   "execution_count": 48,
   "id": "37ff734d-bf20-494e-a946-6c185786d152",
   "metadata": {},
   "outputs": [
    {
     "name": "stdout",
     "output_type": "stream",
     "text": [
      "**(\"entity\" : Dharun Aerospace, \"participant\" : \"A participant in the chat who often engages in humorous exchanges and shares birthday wishes.\")**  \n",
      "**{record_delimiter}**  \n",
      "**(\"entity\" : Athav IITB Junior, \"participant\" : \"A participant who engages in playful banter and references cultural events like Easter.\")**  \n",
      "**{record_delimiter}**  \n",
      "**(\"entity\" : Aswath, \"participant\" : \"A participant who is often involved in humorous exchanges and shares media content.\")**  \n",
      "**{record_delimiter}**  \n",
      "**(\"entity\" : Tharun ESED Junior, \"participant\" : \"A participant who frequently engages in jokes and playful banter, often using emojis.\")**  \n",
      "**{record_delimiter}**  \n",
      "**(\"entity\" : Adarsh, \"participant\" : \"A participant who shares media content and engages in discussions about cricket and other topics.\")**  \n",
      "**{record_delimiter}**  \n",
      "**(\"entity\" : Muthu Manimaran, \"participant\" : \"A participant who shares media content and engages in humorous exchanges.\")**  \n",
      "**{record_delimiter}**  \n",
      "**(\"entity\" : Dinesh Anna IIT Senior, \"participant\" : \"A participant who shares media content and engages in group discussions.\")**  \n",
      "**{record_delimiter}**  \n",
      "**(\"entity\" : Sundar anna IITB Phd, \"participant\" : \"A participant who shares media content and engages in group discussions.\")**  \n",
      "**{record_delimiter}**  \n",
      "**(\"entity\" : Vinu Rakav IITB Junior, \"participant\" : \"A participant who wishes others well and engages in group discussions.\")**  \n",
      "**{record_delimiter}**  \n",
      "**(\"entity\" : Sushil, \"participant\" : \"A participant who shares personal stories and expresses gratitude towards others.\")**  \n",
      "**{record_delimiter}**  \n",
      "**(\"entity\" : Prasanth Anna IITB, \"participant\" : \"A participant who shares birthday wishes and engages in group discussions.\")**  \n",
      "**{record_delimiter}**  \n",
      "**(\"entity\" : Marimuthu Tamil Senior, \"participant\" : \"A participant who expresses gratitude and engages in group discussions.\")**  \n",
      "**{record_delimiter}**  \n",
      "**(\"entity\" : Sarath, \"participant\" : \"A participant who engages in humorous exchanges and group discussions.\")**  \n",
      "**{record_delimiter}**  \n",
      "**(\"entity\" : Praveen TAMIL Senior, \"participant\" : \"A participant who shares birthday wishes and engages in group discussions.\")**  \n",
      "**{record_delimiter}**  \n",
      "**(\"entity\" : Karmugilan IITB Elec Junior, \"participant\" : \"A participant who engages in humorous exchanges and group discussions.\")**  \n",
      "**{record_delimiter}**  \n",
      "**(\"entity\" : Gokul IITB Junior, \"participant\" : \"A participant who engages in humorous exchanges and group discussions.\")**  \n",
      "**{record_delimiter}**  \n",
      "**(\"entity\" : Tamil Cricket Association (TCA), \"cultural reference\" : \"The group or community that the chat participants are part of, often referenced in discussions.\")**  \n",
      "**{record_delimiter}**  \n",
      "**(\"entity\" : Easter, \"cultural reference\" : \"A cultural event mentioned in the chat, indicating the time of year or a celebration.\")**  \n",
      "**{record_delimiter}**  \n",
      "**(\"entity\" : Cricket, \"discussion topic\" : \"A recurring topic of discussion in the chat, often related to matches and team performances.\")**  \n",
      "**{record_delimiter}**  \n",
      "**(\"entity\" : Birthday Wishes, \"recurring activity\" : \"A common activity in the chat where participants wish each other on their birthdays.\")**  \n",
      "**{record_delimiter}**  \n",
      "**(\"entity\" : Inside Jokes, \"inside joke\" : \"Humorous exchanges and references that are understood within the group, often involving playful banter.\")**  \n",
      "**{record_delimiter}**  \n",
      "**(\"entity\" : Shared Media, \"shared media\" : \"Various media content shared by participants, including links, images, and videos.\")**  \n",
      "**{record_delimiter}**  \n",
      "**(\"entity\" : Sentiment Expression, \"sentiment expression\" : \"Expressions of gratitude, well-wishes, and other emotions shared by participants.\")**  \n",
      "**{record_delimiter}**  \n",
      "**(\"relationship\" : \"Dharun Aerospace\", \"Aswath\", \"relationship description\" : \"Dharun Aerospace and Aswath engage in humorous exchanges and share birthday wishes.\", \"relationship strength\" : 7)**  \n",
      "**{record_delimiter}**  \n",
      "**(\"relationship\" : \"Tharun ESED Junior\", \"Adarsh\", \"relationship description\" : \"Tharun ESED Junior and Adarsh frequently engage in playful banter and discussions about cricket.\", \"relationship strength\" : 8)**  \n",
      "**{record_delimiter}**  \n",
      "**(\"relationship\" : \"Marimuthu Tamil Senior\", \"Sushil\", \"relationship description\" : \"Sushil expresses gratitude towards Marimuthu Tamil Senior for his help and support.\", \"relationship strength\" : 9)**  \n",
      "**{record_delimiter}**  \n",
      "**(\"relationship\" : \"Cricket\", \"Tamil Cricket Association (TCA)\", \"relationship description\" : \"Cricket is a central theme in the Tamil Cricket Association group, often discussed by participants.\", \"relationship strength\" : 10)**  \n",
      "**{record_delimiter}**  \n",
      "**(\"relationship\" : \"Birthday Wishes\", \"Sentiment Expression\", \"relationship description\" : \"Birthday wishes are a form of sentiment expression, commonly shared in the group.\", \"relationship strength\" : 8)**  \n",
      "**{record_delimiter}**  \n",
      "**(\"relationship\" : \"Inside Jokes\", \"Shared Media\", \"relationship description\" : \"Inside jokes are often accompanied by shared media, enhancing the humor and context.\", \"relationship strength\" : 7)**  \n",
      "**{record_delimiter}**  \n",
      "**(\"relationship\" : \"Easter\", \"Cultural Reference\", \"relationship description\" : \"Easter is mentioned as a cultural reference, indicating a time of celebration.\", \"relationship strength\" : 6)**  \n",
      "**{record_delimiter}**  \n",
      "**(\"relationship\" : \"Sentiment Expression\", \"Marimuthu Tamil Senior\", \"relationship description\" : \"Marimuthu Tamil Senior expresses gratitude and well-wishes, contributing to the sentiment expression in the group.\", \"relationship strength\" : 8)**  \n",
      "**{record_delimiter}**  \n",
      "**{completion_delimiter}**\n"
     ]
    }
   ],
   "source": [
    "print(response_2)"
   ]
  },
  {
   "cell_type": "markdown",
   "id": "6abb88af-6184-4999-89a7-7ab2965a47c6",
   "metadata": {},
   "source": [
    "### Analysing Created Knowledge Graph"
   ]
  },
  {
   "cell_type": "code",
   "execution_count": 16,
   "id": "966eb964-b833-4d81-980c-30023b703d0e",
   "metadata": {},
   "outputs": [],
   "source": [
    "entities_path = main_path + \"output/entities.parquet\"\n",
    "communities_path = main_path + \"output/communities.parquet\"\n",
    "# community_reports_path = main_path + \"output/community_reports.parquet\"\n",
    "documents_path = main_path + \"output/documents.parquet\"\n",
    "relationships_path = \"output/relationships.parquet\"\n",
    "\n",
    "entity_df = pd.read_parquet(entities_path)\n",
    "community_df = pd.read_parquet(communities_path)\n",
    "# community_report_df = pd.read_parquet(community_reports_path)\n",
    "documents_df = pd.read_parquet(documents_path)\n",
    "relationships_df = pd.read_parquet(relationships_path)"
   ]
  },
  {
   "cell_type": "markdown",
   "id": "99eeee5b-62d6-462f-9fe0-e49b90e729df",
   "metadata": {},
   "source": [
    "### Entity"
   ]
  },
  {
   "cell_type": "code",
   "execution_count": 17,
   "id": "7ffd7a54-3afc-4a28-80f2-12446e95e42c",
   "metadata": {},
   "outputs": [
    {
     "data": {
      "text/html": [
       "<div>\n",
       "<style scoped>\n",
       "    .dataframe tbody tr th:only-of-type {\n",
       "        vertical-align: middle;\n",
       "    }\n",
       "\n",
       "    .dataframe tbody tr th {\n",
       "        vertical-align: top;\n",
       "    }\n",
       "\n",
       "    .dataframe thead th {\n",
       "        text-align: right;\n",
       "    }\n",
       "</style>\n",
       "<table border=\"1\" class=\"dataframe\">\n",
       "  <thead>\n",
       "    <tr style=\"text-align: right;\">\n",
       "      <th></th>\n",
       "      <th>id</th>\n",
       "      <th>human_readable_id</th>\n",
       "      <th>title</th>\n",
       "      <th>type</th>\n",
       "      <th>description</th>\n",
       "      <th>text_unit_ids</th>\n",
       "      <th>frequency</th>\n",
       "      <th>degree</th>\n",
       "      <th>x</th>\n",
       "      <th>y</th>\n",
       "    </tr>\n",
       "  </thead>\n",
       "  <tbody>\n",
       "    <tr>\n",
       "      <th>0</th>\n",
       "      <td>0fd18e16-a98a-4745-8deb-3aef8555b714</td>\n",
       "      <td>0</td>\n",
       "      <td>AJITH KUMAR</td>\n",
       "      <td>PERSON</td>\n",
       "      <td>Ajith Kumar is a Tamil actor who was reportedl...</td>\n",
       "      <td>[8d53c3ffba9a7f60d181c6057ec4d81d44b6d1268f486...</td>\n",
       "      <td>1</td>\n",
       "      <td>3</td>\n",
       "      <td>0</td>\n",
       "      <td>0</td>\n",
       "    </tr>\n",
       "    <tr>\n",
       "      <th>1</th>\n",
       "      <td>b16b70ce-8656-4286-88e6-74f3a8753bdb</td>\n",
       "      <td>1</td>\n",
       "      <td>CHENNAI AIRPORT</td>\n",
       "      <td>GEO</td>\n",
       "      <td>Location where Tamil actor Ajith Kumar was mob...</td>\n",
       "      <td>[8d53c3ffba9a7f60d181c6057ec4d81d44b6d1268f486...</td>\n",
       "      <td>1</td>\n",
       "      <td>1</td>\n",
       "      <td>0</td>\n",
       "      <td>0</td>\n",
       "    </tr>\n",
       "    <tr>\n",
       "      <th>2</th>\n",
       "      <td>2c7e31b4-64c6-46b6-a559-f43ef7d54d5a</td>\n",
       "      <td>2</td>\n",
       "      <td>ADARSH</td>\n",
       "      <td>PERSON</td>\n",
       "      <td>A participant in the conversation, commenting ...</td>\n",
       "      <td>[8d53c3ffba9a7f60d181c6057ec4d81d44b6d1268f486...</td>\n",
       "      <td>1</td>\n",
       "      <td>1</td>\n",
       "      <td>0</td>\n",
       "      <td>0</td>\n",
       "    </tr>\n",
       "    <tr>\n",
       "      <th>3</th>\n",
       "      <td>40c978b2-9fc8-4155-bc7f-35b97a157b4b</td>\n",
       "      <td>3</td>\n",
       "      <td>THARUN ESED JUNIOR</td>\n",
       "      <td>PERSON</td>\n",
       "      <td>A participant in the conversation, expressing ...</td>\n",
       "      <td>[8d53c3ffba9a7f60d181c6057ec4d81d44b6d1268f486...</td>\n",
       "      <td>1</td>\n",
       "      <td>1</td>\n",
       "      <td>0</td>\n",
       "      <td>0</td>\n",
       "    </tr>\n",
       "    <tr>\n",
       "      <th>4</th>\n",
       "      <td>a221ace7-baca-4b13-89c3-902202bd0ca4</td>\n",
       "      <td>4</td>\n",
       "      <td>MUTHU MANIMARAN</td>\n",
       "      <td></td>\n",
       "      <td></td>\n",
       "      <td>[8d53c3ffba9a7f60d181c6057ec4d81d44b6d1268f486...</td>\n",
       "      <td>1</td>\n",
       "      <td>2</td>\n",
       "      <td>0</td>\n",
       "      <td>0</td>\n",
       "    </tr>\n",
       "  </tbody>\n",
       "</table>\n",
       "</div>"
      ],
      "text/plain": [
       "                                     id  human_readable_id  \\\n",
       "0  0fd18e16-a98a-4745-8deb-3aef8555b714                  0   \n",
       "1  b16b70ce-8656-4286-88e6-74f3a8753bdb                  1   \n",
       "2  2c7e31b4-64c6-46b6-a559-f43ef7d54d5a                  2   \n",
       "3  40c978b2-9fc8-4155-bc7f-35b97a157b4b                  3   \n",
       "4  a221ace7-baca-4b13-89c3-902202bd0ca4                  4   \n",
       "\n",
       "                title    type  \\\n",
       "0         AJITH KUMAR  PERSON   \n",
       "1     CHENNAI AIRPORT     GEO   \n",
       "2              ADARSH  PERSON   \n",
       "3  THARUN ESED JUNIOR  PERSON   \n",
       "4     MUTHU MANIMARAN           \n",
       "\n",
       "                                         description  \\\n",
       "0  Ajith Kumar is a Tamil actor who was reportedl...   \n",
       "1  Location where Tamil actor Ajith Kumar was mob...   \n",
       "2  A participant in the conversation, commenting ...   \n",
       "3  A participant in the conversation, expressing ...   \n",
       "4                                                      \n",
       "\n",
       "                                       text_unit_ids  frequency  degree  x  y  \n",
       "0  [8d53c3ffba9a7f60d181c6057ec4d81d44b6d1268f486...          1       3  0  0  \n",
       "1  [8d53c3ffba9a7f60d181c6057ec4d81d44b6d1268f486...          1       1  0  0  \n",
       "2  [8d53c3ffba9a7f60d181c6057ec4d81d44b6d1268f486...          1       1  0  0  \n",
       "3  [8d53c3ffba9a7f60d181c6057ec4d81d44b6d1268f486...          1       1  0  0  \n",
       "4  [8d53c3ffba9a7f60d181c6057ec4d81d44b6d1268f486...          1       2  0  0  "
      ]
     },
     "execution_count": 17,
     "metadata": {},
     "output_type": "execute_result"
    }
   ],
   "source": [
    "entity_df.head()"
   ]
  },
  {
   "cell_type": "code",
   "execution_count": 23,
   "id": "df6eee00-4c4f-4e4f-a9bf-b920e3310a75",
   "metadata": {
    "scrolled": true
   },
   "outputs": [
    {
     "name": "stdout",
     "output_type": "stream",
     "text": [
      "\n",
      "\n",
      "Entity : AJITH KUMAR    Type : PERSON\n",
      "Description : Ajith Kumar is a Tamil actor who was reportedly mobbed at Chennai airport and hospitalized after suffering a leg injury\n",
      "\n",
      "\n",
      "Entity : CHENNAI AIRPORT    Type : GEO\n",
      "Description : Location where Tamil actor Ajith Kumar was mobbed leading to his hospitalization\n",
      "\n",
      "\n",
      "Entity : ADARSH    Type : PERSON\n",
      "Description : A participant in the conversation, commenting on Ajith Kumar's situation and sharing media\n",
      "\n",
      "\n",
      "Entity : THARUN ESED JUNIOR    Type : PERSON\n",
      "Description : A participant in the conversation, expressing opinions and stating language preferences\n",
      "\n",
      "\n",
      "Entity : MUTHU MANIMARAN    Type : \n",
      "Description : \n",
      "\n",
      "\n",
      "Entity : FACEBOOK    Type : ORGANIZATION\n",
      "Description : Facebook is a social media platform where the URL is directing to, indicating an activity or event mentioned in the text\n",
      "\n",
      "\n",
      "Entity : ASWATH    Type : \n",
      "Description : \n"
     ]
    }
   ],
   "source": [
    "for i in range(entity_df.shape[0]):\n",
    "    print(f\"\\n\\nEntity : {entity_df.iloc[i][\"title\"]}    Type : {entity_df.iloc[i][\"type\"]}\")\n",
    "    print(f\"Description : {entity_df.iloc[i][\"description\"]}\")"
   ]
  },
  {
   "cell_type": "markdown",
   "id": "a58f2ed9-2475-4c50-81b7-c461e8721510",
   "metadata": {},
   "source": [
    "### Relationships"
   ]
  },
  {
   "cell_type": "code",
   "execution_count": 24,
   "id": "cceeb54c-eeee-4132-8e07-69850e72bac0",
   "metadata": {},
   "outputs": [
    {
     "data": {
      "text/html": [
       "<div>\n",
       "<style scoped>\n",
       "    .dataframe tbody tr th:only-of-type {\n",
       "        vertical-align: middle;\n",
       "    }\n",
       "\n",
       "    .dataframe tbody tr th {\n",
       "        vertical-align: top;\n",
       "    }\n",
       "\n",
       "    .dataframe thead th {\n",
       "        text-align: right;\n",
       "    }\n",
       "</style>\n",
       "<table border=\"1\" class=\"dataframe\">\n",
       "  <thead>\n",
       "    <tr style=\"text-align: right;\">\n",
       "      <th></th>\n",
       "      <th>id</th>\n",
       "      <th>human_readable_id</th>\n",
       "      <th>source</th>\n",
       "      <th>target</th>\n",
       "      <th>description</th>\n",
       "      <th>weight</th>\n",
       "      <th>combined_degree</th>\n",
       "      <th>text_unit_ids</th>\n",
       "    </tr>\n",
       "  </thead>\n",
       "  <tbody>\n",
       "    <tr>\n",
       "      <th>0</th>\n",
       "      <td>2d9d656a-6992-497b-a67d-2582241ec4f9</td>\n",
       "      <td>0</td>\n",
       "      <td>AJITH KUMAR</td>\n",
       "      <td>CHENNAI AIRPORT</td>\n",
       "      <td>Ajith Kumar was mobbed at Chennai Airport, lea...</td>\n",
       "      <td>1.0</td>\n",
       "      <td>4</td>\n",
       "      <td>[8d53c3ffba9a7f60d181c6057ec4d81d44b6d1268f486...</td>\n",
       "    </tr>\n",
       "    <tr>\n",
       "      <th>1</th>\n",
       "      <td>2465d006-cf5b-4146-bfa8-0103200cd545</td>\n",
       "      <td>1</td>\n",
       "      <td>AJITH KUMAR</td>\n",
       "      <td>MUTHU MANIMARAN</td>\n",
       "      <td>Muthu Manimaran shared news about Ajith Kumar'...</td>\n",
       "      <td>7.0</td>\n",
       "      <td>5</td>\n",
       "      <td>[8d53c3ffba9a7f60d181c6057ec4d81d44b6d1268f486...</td>\n",
       "    </tr>\n",
       "    <tr>\n",
       "      <th>2</th>\n",
       "      <td>56ac9ecc-56b2-44e7-b17d-4001ab7a0e66</td>\n",
       "      <td>2</td>\n",
       "      <td>AJITH KUMAR</td>\n",
       "      <td>ADARSH</td>\n",
       "      <td>Adarsh commented on Ajith Kumar's vulnerabilit...</td>\n",
       "      <td>5.0</td>\n",
       "      <td>4</td>\n",
       "      <td>[8d53c3ffba9a7f60d181c6057ec4d81d44b6d1268f486...</td>\n",
       "    </tr>\n",
       "    <tr>\n",
       "      <th>3</th>\n",
       "      <td>a6ff5f36-ebf4-42a4-81d0-0a6808b40996</td>\n",
       "      <td>3</td>\n",
       "      <td>THARUN ESED JUNIOR</td>\n",
       "      <td>MUTHU MANIMARAN</td>\n",
       "      <td>Tharun ESED Junior responds to Muthu Manimaran...</td>\n",
       "      <td>1.0</td>\n",
       "      <td>3</td>\n",
       "      <td>[8d53c3ffba9a7f60d181c6057ec4d81d44b6d1268f486...</td>\n",
       "    </tr>\n",
       "    <tr>\n",
       "      <th>4</th>\n",
       "      <td>deac39d6-fea5-46f8-ad57-674de9cf1af6</td>\n",
       "      <td>4</td>\n",
       "      <td>FACEBOOK</td>\n",
       "      <td>ASWATH</td>\n",
       "      <td>Aswath is potentially linked to an activity or...</td>\n",
       "      <td>1.0</td>\n",
       "      <td>2</td>\n",
       "      <td>[0b81dd19d118480eb5e7b3404fe51e8c39e730a73ead6...</td>\n",
       "    </tr>\n",
       "  </tbody>\n",
       "</table>\n",
       "</div>"
      ],
      "text/plain": [
       "                                     id  human_readable_id  \\\n",
       "0  2d9d656a-6992-497b-a67d-2582241ec4f9                  0   \n",
       "1  2465d006-cf5b-4146-bfa8-0103200cd545                  1   \n",
       "2  56ac9ecc-56b2-44e7-b17d-4001ab7a0e66                  2   \n",
       "3  a6ff5f36-ebf4-42a4-81d0-0a6808b40996                  3   \n",
       "4  deac39d6-fea5-46f8-ad57-674de9cf1af6                  4   \n",
       "\n",
       "               source           target  \\\n",
       "0         AJITH KUMAR  CHENNAI AIRPORT   \n",
       "1         AJITH KUMAR  MUTHU MANIMARAN   \n",
       "2         AJITH KUMAR           ADARSH   \n",
       "3  THARUN ESED JUNIOR  MUTHU MANIMARAN   \n",
       "4            FACEBOOK           ASWATH   \n",
       "\n",
       "                                         description  weight  combined_degree  \\\n",
       "0  Ajith Kumar was mobbed at Chennai Airport, lea...     1.0                4   \n",
       "1  Muthu Manimaran shared news about Ajith Kumar'...     7.0                5   \n",
       "2  Adarsh commented on Ajith Kumar's vulnerabilit...     5.0                4   \n",
       "3  Tharun ESED Junior responds to Muthu Manimaran...     1.0                3   \n",
       "4  Aswath is potentially linked to an activity or...     1.0                2   \n",
       "\n",
       "                                       text_unit_ids  \n",
       "0  [8d53c3ffba9a7f60d181c6057ec4d81d44b6d1268f486...  \n",
       "1  [8d53c3ffba9a7f60d181c6057ec4d81d44b6d1268f486...  \n",
       "2  [8d53c3ffba9a7f60d181c6057ec4d81d44b6d1268f486...  \n",
       "3  [8d53c3ffba9a7f60d181c6057ec4d81d44b6d1268f486...  \n",
       "4  [0b81dd19d118480eb5e7b3404fe51e8c39e730a73ead6...  "
      ]
     },
     "execution_count": 24,
     "metadata": {},
     "output_type": "execute_result"
    }
   ],
   "source": [
    "relationships_df.head()"
   ]
  },
  {
   "cell_type": "code",
   "execution_count": 25,
   "id": "40640e0f-b408-443e-a81c-e2b6b1926b56",
   "metadata": {
    "scrolled": true
   },
   "outputs": [
    {
     "name": "stdout",
     "output_type": "stream",
     "text": [
      "\n",
      "\n",
      "Source : AJITH KUMAR    Target : CHENNAI AIRPORT    Weight : 1.0\n",
      "Description : Ajith Kumar was mobbed at Chennai Airport, leading to his hospitalization\n",
      "\n",
      "\n",
      "Source : AJITH KUMAR    Target : MUTHU MANIMARAN    Weight : 7.0\n",
      "Description : Muthu Manimaran shared news about Ajith Kumar's incident at Chennai Airport\n",
      "\n",
      "\n",
      "Source : AJITH KUMAR    Target : ADARSH    Weight : 5.0\n",
      "Description : Adarsh commented on Ajith Kumar's vulnerability, referring to him metaphorically\n",
      "\n",
      "\n",
      "Source : THARUN ESED JUNIOR    Target : MUTHU MANIMARAN    Weight : 1.0\n",
      "Description : Tharun ESED Junior responds to Muthu Manimaran's messages in the conversation\n",
      "\n",
      "\n",
      "Source : FACEBOOK    Target : ASWATH    Weight : 1.0\n",
      "Description : Aswath is potentially linked to an activity or event mentioned on a Facebook page, suggesting a connection or interest in the content shared on the platform\n"
     ]
    }
   ],
   "source": [
    "for i in range(relationships_df.shape[0]):\n",
    "    print(f\"\\n\\nSource : {relationships_df.iloc[i][\"source\"]}    Target : {relationships_df.iloc[i][\"target\"]}    Weight : {relationships_df.iloc[i][\"weight\"]}\")\n",
    "    print(f\"Description : {relationships_df.iloc[i][\"description\"]}\")"
   ]
  },
  {
   "cell_type": "markdown",
   "id": "200fc007-e945-488e-bcbc-b45179a08172",
   "metadata": {},
   "source": [
    "### Communities"
   ]
  },
  {
   "cell_type": "code",
   "execution_count": 26,
   "id": "5a81dd90-094f-4a7b-8021-3766582e6c7d",
   "metadata": {},
   "outputs": [
    {
     "ename": "NameError",
     "evalue": "name 'community_report_df' is not defined",
     "output_type": "error",
     "traceback": [
      "\u001b[31m---------------------------------------------------------------------------\u001b[39m",
      "\u001b[31mNameError\u001b[39m                                 Traceback (most recent call last)",
      "\u001b[36mCell\u001b[39m\u001b[36m \u001b[39m\u001b[32mIn[26]\u001b[39m\u001b[32m, line 1\u001b[39m\n\u001b[32m----> \u001b[39m\u001b[32m1\u001b[39m \u001b[43mcommunity_report_df\u001b[49m.head()\n",
      "\u001b[31mNameError\u001b[39m: name 'community_report_df' is not defined"
     ]
    }
   ],
   "source": [
    "community_report_df.head()"
   ]
  },
  {
   "cell_type": "code",
   "execution_count": 77,
   "id": "a3dd0db1-365e-4120-afa0-0b2e0825a018",
   "metadata": {
    "scrolled": true
   },
   "outputs": [
    {
     "name": "stdout",
     "output_type": "stream",
     "text": [
      "\n",
      "\n",
      "Title : Berkshire Hathaway and Warren Buffett's Investment Network   Rank : 9.5\n",
      "Rating Explanation : The impact severity rating is high due to Berkshire Hathaway's significant influence in the global financial markets and its strategic investments across various industries.\n",
      "\n",
      "Summary : The community is centered around Berkshire Hathaway, a multinational conglomerate led by Warren Buffett, with significant contributions from Charlie Munger. Key entities include major acquisitions such as GEICO, General Re, and Burlington Northern Santa Fe, which highlight Buffett's strategic investment approach. The relationships within this network demonstrate a focus on insurance, transportation, and strategic partnerships, reflecting a diversified investment strategy that has been pivotal in Berkshire Hathaway's growth and influence.\n",
      "\n",
      "\n",
      "Title : MidAmerican Energy and Walter Scott   Rank : 6.5\n",
      "Rating Explanation : The impact severity rating is moderately high due to the involvement of high-profile individuals and significant financial investments.\n",
      "\n",
      "Summary : The community is centered around MidAmerican Energy, an electric utility company, and its relationship with Walter Scott, a former CEO of Kiewit Construction. Walter Scott's involvement in a joint venture with MidAmerican Energy highlights the interconnectedness of these entities, with significant investments from Warren Buffett adding to the community's importance.\n",
      "\n",
      "\n",
      "Title : Berkshire Hathaway and Key Investments   Rank : 9.5\n",
      "Rating Explanation : The impact severity rating is high due to Berkshire Hathaway's substantial influence in multiple industries and its strategic investment decisions.\n",
      "\n",
      "Summary : The community is centered around Berkshire Hathaway, led by Warren Buffett and Charlie Munger, with significant investments in various industries. Key entities include GEICO, General Re, and Burlington Northern Santa Fe, among others. The relationships highlight strategic acquisitions and leadership decisions that have shaped the conglomerate's success.\n",
      "\n",
      "\n",
      "Title : Salomon Brothers and Travelers Corporation   Rank : 7.5\n",
      "Rating Explanation : The impact severity rating is high due to the involvement of major financial entities and the significant leadership role played by Warren Buffett during a critical period.\n",
      "\n",
      "Summary : The community is centered around Salomon Brothers, an investment bank involved in a financial scandal, and its acquisition by Travelers Corporation. Warren Buffett played a crucial role as interim CEO during the crisis at Salomon Brothers, which was later acquired by Travelers Corporation, highlighting significant corporate restructuring and leadership dynamics.\n",
      "\n",
      "\n",
      "Title : Berkshire Hathaway and Its Strategic Investments   Rank : 9.5\n",
      "Rating Explanation : The impact severity rating is high due to Berkshire Hathaway's extensive influence and strategic investments across multiple major industries.\n",
      "\n",
      "Summary : The community is centered around Berkshire Hathaway, a multinational conglomerate led by Warren Buffett, known for its strategic investments and acquisitions across various industries. Key entities include major companies like Goldman Sachs, Coca-Cola, and American Express, among others. The relationships highlight Berkshire Hathaway's significant influence in the global market through its diverse portfolio, which includes wholly owned companies and substantial stock positions in leading corporations.\n",
      "\n",
      "\n",
      "Title : Omaha and See's Candies Financial Network   Rank : 8.5\n",
      "Rating Explanation : The impact severity rating is high due to the substantial financial activities and the influence of Berkshire Hathaway in the global market.\n",
      "\n",
      "Summary : This community is centered around Omaha, Nebraska, which serves as the headquarters for Berkshire Hathaway, and See's Candies, a subsidiary of Berkshire Hathaway. The relationship between these entities is highlighted by the significant financial transactions, specifically the transfer of $1.65 billion in free cash from See's Candies to Omaha, underscoring Omaha's role as a financial hub for Berkshire Hathaway's operations.\n",
      "\n",
      "\n",
      "Title : Warren Buffett's Acquisitions Post-9/11   Rank : 7.5\n",
      "Rating Explanation : The impact severity rating is high due to the significant influence of Warren Buffett's investment decisions on the market and the strategic timing of these acquisitions post-9/11.\n",
      "\n",
      "Summary : This community centers around the acquisitions made by Warren Buffett in the late 1990s and early 2000s, specifically focusing on Shaw Carpets, Benjamin Moore Paints, and Clayton Homes. These acquisitions occurred during a period when industries were generally out of favor following the September 11 terrorist attacks, highlighting Buffett's strategic investment approach during times of economic uncertainty.\n",
      "\n",
      "\n",
      "Title : Berkshire Hathaway and Key Acquisitions   Rank : 9.0\n",
      "Rating Explanation : The impact severity rating is high due to Berkshire Hathaway's significant influence in the global financial markets and its strategic acquisitions.\n",
      "\n",
      "Summary : The community is centered around Berkshire Hathaway, a multinational conglomerate holding company led by Warren Buffett. Key entities within this community include GEICO, General Re, and other significant acquisitions such as Burlington Northern Santa Fe and National Indemnity. The relationships between these entities highlight Berkshire Hathaway's strategic investment approach and its impact on the financial and insurance sectors.\n",
      "\n",
      "\n",
      "Title : Berkshire Hathaway and Its Strategic Investments   Rank : 9.0\n",
      "Rating Explanation : The impact severity rating is high due to Berkshire Hathaway's substantial influence in multiple industries and its role in significant financial transactions.\n",
      "\n",
      "Summary : The community is centered around Berkshire Hathaway, a multinational conglomerate led by Warren Buffett, known for its diverse portfolio of wholly owned companies and stock investments. Key entities include See's Candies, Goldman Sachs, and several major corporations in which Berkshire Hathaway has made significant investments. The relationships highlight Berkshire Hathaway's strategic acquisitions and investments across various industries, underscoring its influence in the global market.\n",
      "\n",
      "\n",
      "Title : Berkshire Hathaway and Key Acquisitions   Rank : 9.0\n",
      "Rating Explanation : The impact severity rating is high due to Berkshire Hathaway's significant influence in the global financial and insurance sectors.\n",
      "\n",
      "Summary : The community is centered around Berkshire Hathaway, a multinational conglomerate holding company led by Warren Buffett. Key entities include GEICO, General Re, and other significant acquisitions such as Burlington Northern Santa Fe and National Indemnity. The relationships within this community highlight strategic acquisitions and leadership roles that have shaped the company's growth and influence in various industries.\n",
      "\n",
      "\n",
      "Title : Stiritz and Strategic Acquisitions   Rank : 7.5\n",
      "Rating Explanation : The impact severity rating is high due to Stiritz's significant influence in the business world through strategic acquisitions and his innovative management approach.\n",
      "\n",
      "Summary : The community is centered around Stiritz, a business executive known for his innovative and analytical management style, particularly in his leadership of Ralston. Stiritz's approach is characterized by strategic acquisitions and a focus on cash flow, as demonstrated in his dealings with companies like Energizer and Nestlé. His network includes key figures such as Rand Araskog and Pat Mulcahy, and he is noted for his unconventional methods and adaptability.\n",
      "\n",
      "\n",
      "Title : Lehman Brothers Collapse and Liberty Media's Strategic Maneuvers   Rank : 9.0\n",
      "Rating Explanation : The impact severity rating is high due to the global financial implications of Lehman Brothers' collapse and the strategic responses by major financial players.\n",
      "\n",
      "Summary : This community is centered around the collapse of Lehman Brothers in September 2008, a pivotal event that triggered a global financial crisis. Key entities include Lehman Brothers, Liberty Media, and influential figures like John Malone and Warren Buffett. The relationships between these entities highlight strategic financial maneuvers and investments made in response to the crisis, particularly by Liberty Media under John Malone's leadership and Warren Buffett's significant investments.\n"
     ]
    }
   ],
   "source": [
    "for i in range(community_report_df.shape[0]):\n",
    "    print(f\"\\n\\nTitle : {community_report_df.iloc[i][\"title\"]}   Rank : {community_report_df.iloc[i][\"rank\"]}\")\n",
    "    print(f\"Rating Explanation : {community_report_df.iloc[i][\"rating_explanation\"]}\")\n",
    "    print(f\"\\nSummary : {community_report_df.iloc[i][\"summary\"]}\")"
   ]
  },
  {
   "cell_type": "markdown",
   "id": "05312619-5f26-4a5d-8505-e70593fe5294",
   "metadata": {},
   "source": [
    "### Community"
   ]
  },
  {
   "cell_type": "code",
   "execution_count": 27,
   "id": "b1609f50-ea23-4ea9-a19f-2072e55d5cdc",
   "metadata": {},
   "outputs": [
    {
     "ename": "NameError",
     "evalue": "name 'community_report_df' is not defined",
     "output_type": "error",
     "traceback": [
      "\u001b[31m---------------------------------------------------------------------------\u001b[39m",
      "\u001b[31mNameError\u001b[39m                                 Traceback (most recent call last)",
      "\u001b[36mCell\u001b[39m\u001b[36m \u001b[39m\u001b[32mIn[27]\u001b[39m\u001b[32m, line 1\u001b[39m\n\u001b[32m----> \u001b[39m\u001b[32m1\u001b[39m \u001b[43mcommunity_report_df\u001b[49m.iloc[\u001b[32m0\u001b[39m]\n",
      "\u001b[31mNameError\u001b[39m: name 'community_report_df' is not defined"
     ]
    }
   ],
   "source": [
    "community_report_df.iloc[0]"
   ]
  },
  {
   "cell_type": "code",
   "execution_count": 89,
   "id": "cfa34cf5-fd7a-4142-aec9-2b52d248ac7f",
   "metadata": {},
   "outputs": [
    {
     "name": "stdout",
     "output_type": "stream",
     "text": [
      "Title : Berkshire Hathaway and Warren Buffett's Investment Network\n",
      "\n",
      "Summary : The community is centered around Berkshire Hathaway, a multinational conglomerate led by Warren Buffett, with significant contributions from Charlie Munger. Key entities include major acquisitions such as GEICO, General Re, and Burlington Northern Santa Fe, which highlight Buffett's strategic investment approach. The relationships within this network demonstrate a focus on insurance, transportation, and strategic partnerships, reflecting a diversified investment strategy that has been pivotal in Berkshire Hathaway's growth and influence.\n"
     ]
    }
   ],
   "source": [
    "print(f\"Title : {community_report_df.iloc[0][\"title\"]}\")\n",
    "print(f\"\\nSummary : {community_report_df.iloc[0][\"summary\"]}\")"
   ]
  },
  {
   "cell_type": "code",
   "execution_count": 90,
   "id": "ee38aee5-e03e-4592-999a-9bf8515743b2",
   "metadata": {
    "scrolled": true
   },
   "outputs": [
    {
     "name": "stdout",
     "output_type": "stream",
     "text": [
      "# Berkshire Hathaway and Warren Buffett's Investment Network\n",
      "\n",
      "The community is centered around Berkshire Hathaway, a multinational conglomerate led by Warren Buffett, with significant contributions from Charlie Munger. Key entities include major acquisitions such as GEICO, General Re, and Burlington Northern Santa Fe, which highlight Buffett's strategic investment approach. The relationships within this network demonstrate a focus on insurance, transportation, and strategic partnerships, reflecting a diversified investment strategy that has been pivotal in Berkshire Hathaway's growth and influence.\n",
      "\n",
      "## Warren Buffett's Strategic Leadership\n",
      "\n",
      "Warren Buffett, as the chairman and CEO of Berkshire Hathaway, is a central figure in this community. His leadership and investment strategies have been instrumental in shaping the company's direction and success. Buffett's ability to identify and capitalize on investment opportunities, particularly during financial crises, has earned him the nickname 'Oracle of Omaha' [Data: Entities (29)]. His strategic acquisitions, such as GEICO and General Re, demonstrate his focus on long-term value and market influence [Data: Relationships (48, 49)].\n",
      "\n",
      "## Charlie Munger's Influence on Investment Strategy\n",
      "\n",
      "Charlie Munger, the vice chairman of Berkshire Hathaway, has played a crucial role in influencing Warren Buffett's investment strategy. Munger's insights have been pivotal in shifting the company's focus from traditional value investing to prioritizing companies with strong brands and market positions [Data: Entities (30); Relationships (27)]. This strategic shift has allowed Berkshire Hathaway to maintain its competitive edge and continue its growth trajectory.\n",
      "\n",
      "## Significant Acquisitions: GEICO and General Re\n",
      "\n",
      "GEICO and General Re are two significant acquisitions by Berkshire Hathaway that highlight its strategic focus on the insurance sector. GEICO, acquired in 1996, has become a major contributor to the conglomerate's portfolio, reflecting its importance and value [Data: Entities (35); Relationships (48)]. General Re, acquired in 1998 for $22 billion, marked the largest transaction in Berkshire Hathaway's history, underscoring the company's commitment to expanding its insurance operations [Data: Entities (45); Relationships (49)].\n",
      "\n",
      "## Diversification through Transportation: Burlington Northern Santa Fe\n",
      "\n",
      "The acquisition of Burlington Northern Santa Fe in 2010 represents Berkshire Hathaway's strategic diversification into the transportation sector. As the largest railroad in the United States, this acquisition has strengthened the conglomerate's presence in the transportation industry and provided a stable revenue stream [Data: Entities (57); Relationships (55)]. This move aligns with Buffett's strategy of investing in essential infrastructure that supports economic growth.\n",
      "\n",
      "## The Role of Insurance Float in Investment Strategy\n",
      "\n",
      "Warren Buffett's acquisition of National Indemnity in 1967 highlights the strategic use of insurance float in Berkshire Hathaway's investment strategy. The float, which refers to the funds held by insurers before claims are paid, provides a significant source of capital for investment [Data: Entities (58); Relationships (56)]. This approach has allowed Berkshire Hathaway to leverage its insurance operations to fund other strategic investments, contributing to its overall growth and success.\n"
     ]
    }
   ],
   "source": [
    "print(community_report_df.iloc[0][\"full_content\"])"
   ]
  },
  {
   "cell_type": "markdown",
   "id": "77f260e8-cf92-4edf-a45d-15fcf1c5a6ab",
   "metadata": {},
   "source": [
    "#### Summary under consideration\n",
    "Diversification through Transportation: Burlington Northern Santa Fe\n",
    "\n",
    "The acquisition of Burlington Northern Santa Fe in 2010 represents Berkshire Hathaway's strategic diversification into the transportation sector. As the largest railroad in the United States, this acquisition has strengthened the conglomerate's presence in the transportation industry and provided a stable revenue stream [Data: Entities (57); Relationships (55)]. This move aligns with Buffett's strategy of investing in essential infrastructure that supports economic growth."
   ]
  },
  {
   "cell_type": "code",
   "execution_count": 28,
   "id": "781a98ec-31dc-4cd2-b36a-901053e60d35",
   "metadata": {},
   "outputs": [
    {
     "ename": "IndexError",
     "evalue": "single positional indexer is out-of-bounds",
     "output_type": "error",
     "traceback": [
      "\u001b[31m---------------------------------------------------------------------------\u001b[39m",
      "\u001b[31mIndexError\u001b[39m                                Traceback (most recent call last)",
      "\u001b[36mCell\u001b[39m\u001b[36m \u001b[39m\u001b[32mIn[28]\u001b[39m\u001b[32m, line 2\u001b[39m\n\u001b[32m      1\u001b[39m idx = \u001b[32m57\u001b[39m\n\u001b[32m----> \u001b[39m\u001b[32m2\u001b[39m \u001b[38;5;28mprint\u001b[39m(\u001b[33mf\u001b[39m\u001b[33m\"\u001b[39m\u001b[33mEntity : \u001b[39m\u001b[38;5;132;01m{\u001b[39;00m\u001b[43mentity_df\u001b[49m\u001b[43m.\u001b[49m\u001b[43miloc\u001b[49m\u001b[43m[\u001b[49m\u001b[43midx\u001b[49m\u001b[43m]\u001b[49m[\u001b[33m\"\u001b[39m\u001b[33mtitle\u001b[39m\u001b[33m\"\u001b[39m]\u001b[38;5;132;01m}\u001b[39;00m\u001b[33m    Type : \u001b[39m\u001b[38;5;132;01m{\u001b[39;00mentity_df.iloc[idx][\u001b[33m\"\u001b[39m\u001b[33mtype\u001b[39m\u001b[33m\"\u001b[39m]\u001b[38;5;132;01m}\u001b[39;00m\u001b[33m\"\u001b[39m)\n\u001b[32m      3\u001b[39m \u001b[38;5;28mprint\u001b[39m(\u001b[33mf\u001b[39m\u001b[33m\"\u001b[39m\u001b[33mDescription : \u001b[39m\u001b[38;5;132;01m{\u001b[39;00mentity_df.iloc[idx][\u001b[33m\"\u001b[39m\u001b[33mdescription\u001b[39m\u001b[33m\"\u001b[39m]\u001b[38;5;132;01m}\u001b[39;00m\u001b[33m\"\u001b[39m)\n",
      "\u001b[36mFile \u001b[39m\u001b[32m~/Projects/deep_learning/backup_brain/venv/lib/python3.12/site-packages/pandas/core/indexing.py:1191\u001b[39m, in \u001b[36m_LocationIndexer.__getitem__\u001b[39m\u001b[34m(self, key)\u001b[39m\n\u001b[32m   1189\u001b[39m maybe_callable = com.apply_if_callable(key, \u001b[38;5;28mself\u001b[39m.obj)\n\u001b[32m   1190\u001b[39m maybe_callable = \u001b[38;5;28mself\u001b[39m._check_deprecated_callable_usage(key, maybe_callable)\n\u001b[32m-> \u001b[39m\u001b[32m1191\u001b[39m \u001b[38;5;28;01mreturn\u001b[39;00m \u001b[38;5;28;43mself\u001b[39;49m\u001b[43m.\u001b[49m\u001b[43m_getitem_axis\u001b[49m\u001b[43m(\u001b[49m\u001b[43mmaybe_callable\u001b[49m\u001b[43m,\u001b[49m\u001b[43m \u001b[49m\u001b[43maxis\u001b[49m\u001b[43m=\u001b[49m\u001b[43maxis\u001b[49m\u001b[43m)\u001b[49m\n",
      "\u001b[36mFile \u001b[39m\u001b[32m~/Projects/deep_learning/backup_brain/venv/lib/python3.12/site-packages/pandas/core/indexing.py:1752\u001b[39m, in \u001b[36m_iLocIndexer._getitem_axis\u001b[39m\u001b[34m(self, key, axis)\u001b[39m\n\u001b[32m   1749\u001b[39m     \u001b[38;5;28;01mraise\u001b[39;00m \u001b[38;5;167;01mTypeError\u001b[39;00m(\u001b[33m\"\u001b[39m\u001b[33mCannot index by location index with a non-integer key\u001b[39m\u001b[33m\"\u001b[39m)\n\u001b[32m   1751\u001b[39m \u001b[38;5;66;03m# validate the location\u001b[39;00m\n\u001b[32m-> \u001b[39m\u001b[32m1752\u001b[39m \u001b[38;5;28;43mself\u001b[39;49m\u001b[43m.\u001b[49m\u001b[43m_validate_integer\u001b[49m\u001b[43m(\u001b[49m\u001b[43mkey\u001b[49m\u001b[43m,\u001b[49m\u001b[43m \u001b[49m\u001b[43maxis\u001b[49m\u001b[43m)\u001b[49m\n\u001b[32m   1754\u001b[39m \u001b[38;5;28;01mreturn\u001b[39;00m \u001b[38;5;28mself\u001b[39m.obj._ixs(key, axis=axis)\n",
      "\u001b[36mFile \u001b[39m\u001b[32m~/Projects/deep_learning/backup_brain/venv/lib/python3.12/site-packages/pandas/core/indexing.py:1685\u001b[39m, in \u001b[36m_iLocIndexer._validate_integer\u001b[39m\u001b[34m(self, key, axis)\u001b[39m\n\u001b[32m   1683\u001b[39m len_axis = \u001b[38;5;28mlen\u001b[39m(\u001b[38;5;28mself\u001b[39m.obj._get_axis(axis))\n\u001b[32m   1684\u001b[39m \u001b[38;5;28;01mif\u001b[39;00m key >= len_axis \u001b[38;5;129;01mor\u001b[39;00m key < -len_axis:\n\u001b[32m-> \u001b[39m\u001b[32m1685\u001b[39m     \u001b[38;5;28;01mraise\u001b[39;00m \u001b[38;5;167;01mIndexError\u001b[39;00m(\u001b[33m\"\u001b[39m\u001b[33msingle positional indexer is out-of-bounds\u001b[39m\u001b[33m\"\u001b[39m)\n",
      "\u001b[31mIndexError\u001b[39m: single positional indexer is out-of-bounds"
     ]
    }
   ],
   "source": [
    "idx = 57\n",
    "print(f\"Entity : {entity_df.iloc[idx][\"title\"]}    Type : {entity_df.iloc[idx][\"type\"]}\")\n",
    "print(f\"Description : {entity_df.iloc[idx][\"description\"]}\")"
   ]
  },
  {
   "cell_type": "code",
   "execution_count": 99,
   "id": "ca0a58dc-78de-46fd-b457-22f15d501d58",
   "metadata": {},
   "outputs": [
    {
     "name": "stdout",
     "output_type": "stream",
     "text": [
      "Source : WARREN BUFFETT    Target : BURLINGTON NORTHERN SANTA FE    Weight : 9.0\n",
      "Description : Warren Buffett acquired Burlington Northern Santa Fe in 2010\n"
     ]
    }
   ],
   "source": [
    "idx = 55\n",
    "print(f\"Source : {relationships_df.iloc[idx][\"source\"]}    Target : {relationships_df.iloc[idx][\"target\"]}    Weight : {relationships_df.iloc[idx][\"weight\"]}\")\n",
    "print(f\"Description : {relationships_df.iloc[idx][\"description\"]}\")"
   ]
  },
  {
   "cell_type": "markdown",
   "id": "d0a6fec5-3707-403c-86f9-9b4bf179221e",
   "metadata": {},
   "source": [
    "#### Summary under consideration\n",
    "\n",
    "Significant Acquisitions: GEICO and General Re\n",
    "\n",
    "GEICO and General Re are two significant acquisitions by Berkshire Hathaway that highlight its strategic focus on the insurance sector. GEICO, acquired in 1996, has become a major contributor to the conglomerate's portfolio, reflecting its importance and value [Data: Entities (35); Relationships (48)]. General Re, acquired in 1998 for $22 billion, marked the largest transaction in Berkshire Hathaway's history, underscoring the company's commitment to expanding its insurance operations [Data: Entities (45); Relationships (49)]."
   ]
  },
  {
   "cell_type": "code",
   "execution_count": 102,
   "id": "1eb1fd74-24db-4316-a01f-31d780d65338",
   "metadata": {},
   "outputs": [
    {
     "name": "stdout",
     "output_type": "stream",
     "text": [
      "Entity : GENERAL RE    Type : ORGANIZATION\n",
      "Description : General Re is a prominent reinsurer that was acquired by Berkshire Hathaway in 1998. This acquisition was a significant milestone, as it marked the largest transaction in Berkshire Hathaway's history, with a deal valued at $22 billion.\n"
     ]
    }
   ],
   "source": [
    "idx = 45\n",
    "print(f\"Entity : {entity_df.iloc[idx][\"title\"]}    Type : {entity_df.iloc[idx][\"type\"]}\")\n",
    "print(f\"Description : {entity_df.iloc[idx][\"description\"]}\")"
   ]
  },
  {
   "cell_type": "code",
   "execution_count": 103,
   "id": "4d2753d4-20a5-4090-912b-8f550aa161be",
   "metadata": {},
   "outputs": [
    {
     "name": "stdout",
     "output_type": "stream",
     "text": [
      "Source : WARREN BUFFETT    Target : GENERAL RE    Weight : 8.0\n",
      "Description : Warren Buffett acquired General Re in 1998 for $22 billion\n"
     ]
    }
   ],
   "source": [
    "idx = 49\n",
    "print(f\"Source : {relationships_df.iloc[idx][\"source\"]}    Target : {relationships_df.iloc[idx][\"target\"]}    Weight : {relationships_df.iloc[idx][\"weight\"]}\")\n",
    "print(f\"Description : {relationships_df.iloc[idx][\"description\"]}\")"
   ]
  },
  {
   "cell_type": "markdown",
   "id": "3c2e7f9c-cb89-4f58-8bae-33e9f752bea1",
   "metadata": {},
   "source": [
    "### Visualize Graph"
   ]
  },
  {
   "cell_type": "code",
   "execution_count": 29,
   "id": "4e00a8c2-d62e-4dc0-9c6c-885715687f96",
   "metadata": {},
   "outputs": [],
   "source": [
    "G = nx.DiGraph()"
   ]
  },
  {
   "cell_type": "code",
   "execution_count": 30,
   "id": "a0369d6f-efcd-446a-bc83-6108074d189d",
   "metadata": {},
   "outputs": [],
   "source": [
    "for _, row in entity_df.iterrows():\n",
    "    G.add_node(row['title'], type=row['type'], description=row['description'])"
   ]
  },
  {
   "cell_type": "code",
   "execution_count": 31,
   "id": "6db1522e-7cb7-4a60-936b-3c10d9040766",
   "metadata": {},
   "outputs": [],
   "source": [
    "for _, row in relationships_df.iterrows():\n",
    "    G.add_edge(row['source'], row['target'], description=row['description'], strength=row['weight'])"
   ]
  },
  {
   "cell_type": "code",
   "execution_count": 32,
   "id": "50cea2ac-d964-4356-b59b-f0ba0d8ea6e2",
   "metadata": {},
   "outputs": [
    {
     "data": {
      "image/png": "[encoded data removed]",
      "text/plain": [
       "<Figure size 2500x2500 with 1 Axes>"
      ]
     },
     "metadata": {},
     "output_type": "display_data"
    }
   ],
   "source": [
    "plt.figure(figsize=(25, 25))\n",
    "pos = nx.spring_layout(G, k=0.5)\n",
    "\n",
    "node_colors = ['lightblue' if G.nodes[n]['type'] == 'user' else 'lightgreen' for n in G.nodes]\n",
    "nx.draw_networkx_nodes(G, pos, node_size=500, node_color=node_colors)\n",
    "\n",
    "nx.draw_networkx_edges(G, pos, arrowstyle='->', arrowsize=10)\n",
    "\n",
    "nx.draw_networkx_labels(G, pos, font_size=12)\n",
    "\n",
    "edge_labels = {(u, v): d['strength'] for u, v, d in G.edges(data=True)}\n",
    "nx.draw_networkx_edge_labels(G, pos, edge_labels=edge_labels, font_color='red')\n",
    "\n",
    "plt.title(\"Knowledge Graph Visualization\")\n",
    "plt.axis('off')\n",
    "plt.tight_layout()\n",
    "plt.show()"
   ]
  },
  {
   "cell_type": "code",
   "execution_count": null,
   "id": "dd354cc3-914c-4899-be7d-e51bca6107f7",
   "metadata": {},
   "outputs": [],
   "source": []
  }
 ],
 "metadata": {
  "kernelspec": {
   "display_name": "Python 3 (ipykernel)",
   "language": "python",
   "name": "python3"
  },
  "language_info": {
   "codemirror_mode": {
    "name": "ipython",
    "version": 3
   },
   "file_extension": ".py",
   "mimetype": "text/x-python",
   "name": "python",
   "nbconvert_exporter": "python",
   "pygments_lexer": "ipython3",
   "version": "3.12.3"
  }
 },
 "nbformat": 4,
 "nbformat_minor": 5
}
