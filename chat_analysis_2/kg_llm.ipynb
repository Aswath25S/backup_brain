{
 "cells": [
  {
   "cell_type": "code",
   "execution_count": 1,
   "id": "42dd779b-b829-4b0a-910e-613f1f9e6f25",
   "metadata": {},
   "outputs": [],
   "source": [
    "import subprocess\n",
    "import shlex\n",
    "from typing import Optional\n",
    "\n",
    "import pandas as pd\n",
    "import networkx as nx\n",
    "import matplotlib.pyplot as plt\n",
    "\n",
    "from langchain_openai import ChatOpenAI\n",
    "from langchain_text_splitters import TokenTextSplitter\n",
    "from langchain_core.prompts import ChatPromptTemplate\n",
    "from langchain_core.output_parsers import StrOutputParser"
   ]
  },
  {
   "cell_type": "code",
   "execution_count": 2,
   "id": "befd86e6-4d9a-4453-82aa-6b76dab18ccc",
   "metadata": {},
   "outputs": [],
   "source": [
    "main_path = \"/home/aswath/Projects/deep_learning/backup_brain/test_4/\""
   ]
  },
  {
   "cell_type": "markdown",
   "id": "6abb88af-6184-4999-89a7-7ab2965a47c6",
   "metadata": {},
   "source": [
    "#### load data"
   ]
  },
  {
   "cell_type": "code",
   "execution_count": 3,
   "id": "966eb964-b833-4d81-980c-30023b703d0e",
   "metadata": {},
   "outputs": [],
   "source": [
    "entities_path = main_path + \"output/entities.parquet\"\n",
    "communities_path = main_path + \"output/communities.parquet\"\n",
    "community_reports_path = main_path + \"output/community_reports.parquet\"\n",
    "documents_path = main_path + \"output/documents.parquet\"\n",
    "relationships_path = \"output/relationships.parquet\"\n",
    "\n",
    "entity_df = pd.read_parquet(entities_path)\n",
    "community_df = pd.read_parquet(communities_path)\n",
    "community_report_df = pd.read_parquet(community_reports_path)\n",
    "documents_df = pd.read_parquet(documents_path)\n",
    "relationships_df = pd.read_parquet(relationships_path)"
   ]
  },
  {
   "cell_type": "code",
   "execution_count": 4,
   "id": "c469db27-dd31-4915-96a7-d67dade4082b",
   "metadata": {},
   "outputs": [],
   "source": [
    "def ask_graph(query, root_path, method = \"global\", timeout = None, community_level = 2, dynamic_community_selection = False):    \n",
    "    if community_level < 0:\n",
    "        raise ValueError(\"Community level must be non-negative\")\n",
    "    \n",
    "    command = ['graphrag', 'query', '--root', root_path, '--method', method, '--query', query, '--community-level', str(community_level)]\n",
    "    if dynamic_community_selection:\n",
    "        command.append('--dynamic-community-selection')\n",
    "\n",
    "    result = subprocess.run(command, capture_output=True, text=True, timeout=timeout)\n",
    "    result.check_returncode()\n",
    "    \n",
    "    return result"
   ]
  },
  {
   "cell_type": "code",
   "execution_count": 14,
   "id": "c8dc016e-28b7-46cd-abb0-6bb9d436ada4",
   "metadata": {},
   "outputs": [],
   "source": [
    "result_local = ask_graph(\n",
    "    query=\"Simulate a conversation between Aswath and Vinu Rakav.\",\n",
    "    root_path = \"/home/aswath/Projects/deep_learning/backup_brain/test_2\",\n",
    "    method=\"local\"\n",
    ")\n",
    "\n",
    "result_global = ask_graph(\n",
    "    query=\"Simulate a conversation between Aswath and Vinu Rakav.\",\n",
    "    root_path = \"/home/aswath/Projects/deep_learning/backup_brain/test_2\",\n",
    "    method=\"global\"\n",
    ")"
   ]
  },
  {
   "cell_type": "markdown",
   "id": "2e50de65-a15e-4767-b3ff-c0ad09a28cb2",
   "metadata": {},
   "source": [
    "### Global Search Response"
   ]
  },
  {
   "cell_type": "code",
   "execution_count": 12,
   "id": "42557248-eff2-4f4b-a7a1-d8af1d032444",
   "metadata": {},
   "outputs": [
    {
     "name": "stdout",
     "output_type": "stream",
     "text": [
      "SUCCESS: Global Search Response:\n",
      "I am sorry but I am unable to answer this question given the provided data.\n"
     ]
    }
   ],
   "source": [
    "print(result_global.stdout.strip())"
   ]
  },
  {
   "cell_type": "markdown",
   "id": "4ee552b9-b9f9-4a13-b892-9823abf563ac",
   "metadata": {},
   "source": [
    "### Local Search Response"
   ]
  },
  {
   "cell_type": "code",
   "execution_count": 13,
   "id": "291cec26-3eed-40f7-8524-c93c65aed2ec",
   "metadata": {},
   "outputs": [
    {
     "name": "stdout",
     "output_type": "stream",
     "text": [
      "INFO: Vector Store Args: {\n",
      "    \"default_vector_store\": {\n",
      "        \"type\": \"lancedb\",\n",
      "        \"db_uri\": \"/home/aswath/Projects/deep_learning/backup_brain/test_2/output/lancedb\",\n",
      "        \"url\": null,\n",
      "        \"audience\": null,\n",
      "        \"container_name\": \"==== REDACTED ====\",\n",
      "        \"database_name\": null,\n",
      "        \"overwrite\": true\n",
      "    }\n",
      "}\n",
      "\n",
      "SUCCESS: Local Search Response:\n",
      "I'm sorry, but I don't have access to any specific conversations between Aswath and Vinu Rakav in the provided data. Therefore, I can't simulate a conversation between them. If you have any other questions or need information on a different topic, feel free to ask!\n"
     ]
    }
   ],
   "source": [
    "print(result_local.stdout.strip())"
   ]
  },
  {
   "cell_type": "markdown",
   "id": "c569fe24-67fa-42ef-92d8-ff27d5b248b4",
   "metadata": {},
   "source": [
    "### Response from model\n",
    "\n",
    "The \"best\" CEOs can vary depending on the criteria—such as innovation, shareholder returns, leadership during crises, or long-term vision. However, here are some widely recognized CEOs and the reasons behind their acclaim:\n",
    "\n",
    "---\n",
    "\n",
    "##### **Satya Nadella – Microsoft**\n",
    "\n",
    "* **Why**: Transformed Microsoft from a stagnating legacy tech company into a cloud powerhouse with Azure.\n",
    "* **Impact**: Stock price surged over 800% since he became CEO in 2014. Fostered a more open, collaborative culture.\n",
    "* **Vision**: Shifted focus from Windows to cloud services, AI, and enterprise tools.\n",
    "\n",
    "---\n",
    "\n",
    "##### **Tim Cook – Apple**\n",
    "\n",
    "* **Why**: Successfully succeeded Steve Jobs and turned Apple into the world’s first \\$3 trillion company.\n",
    "* **Impact**: Streamlined supply chains, massively grew revenue, and expanded into new product lines like Apple Watch and services.\n",
    "* **Vision**: Focused on sustainability, privacy, and services diversification.\n",
    "\n",
    "---\n",
    "\n",
    "##### **Elon Musk – Tesla / SpaceX**\n",
    "\n",
    "* **Why**: Disrupted the automotive and aerospace industries simultaneously.\n",
    "* **Impact**: Made EVs mainstream and drastically lowered the cost of launching payloads into space.\n",
    "* **Vision**: Committed to solving global problems like climate change and space colonization.\n",
    "\n",
    "---\n",
    "\n",
    "##### **Reed Hastings – Netflix (former)**\n",
    "\n",
    "* **Why**: Pioneered streaming and revolutionized how the world consumes media.\n",
    "* **Impact**: Took Netflix from a DVD rental business to a global content and tech company.\n",
    "* **Vision**: Always focused on future media trends, even cannibalizing his own model to stay ahead.\n",
    "\n",
    "---\n",
    "\n",
    "##### **Jensen Huang – NVIDIA**\n",
    "\n",
    "* **Why**: Positioned NVIDIA as the core enabler of AI and GPU computing.\n",
    "* **Impact**: Market cap exploded due to AI boom. Dominates GPU tech crucial for gaming, AI, and data centers.\n",
    "* **Vision**: Focused on being not just a chipmaker but a full-stack AI company.\n",
    "\n",
    "---\n",
    "\n",
    "##### **Mary Barra – General Motors**\n",
    "\n",
    "* **Why**: First female CEO of a major global automaker, pushing hard into EVs and autonomous driving.\n",
    "* **Impact**: Reoriented GM toward a more sustainable future, including investments in EV platform Ultium.\n",
    "* **Vision**: Committed to zero crashes, zero emissions, and zero congestion.\n",
    "\n",
    "---\n",
    "\n",
    "##### **Andy Jassy – Amazon (current)**\n",
    "\n",
    "* **Why**: Successfully transitioned from AWS CEO to leading Amazon as a whole.\n",
    "* **Impact**: Managing complex operations across retail, AWS, logistics, and more during uncertain economic times.\n",
    "* **Vision**: Focused on long-term investments and operational discipline."
   ]
  }
 ],
 "metadata": {
  "kernelspec": {
   "display_name": "Python 3 (ipykernel)",
   "language": "python",
   "name": "python3"
  },
  "language_info": {
   "codemirror_mode": {
    "name": "ipython",
    "version": 3
   },
   "file_extension": ".py",
   "mimetype": "text/x-python",
   "name": "python",
   "nbconvert_exporter": "python",
   "pygments_lexer": "ipython3",
   "version": "3.12.3"
  }
 },
 "nbformat": 4,
 "nbformat_minor": 5
}
