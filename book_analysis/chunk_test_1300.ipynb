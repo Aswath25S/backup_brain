{
 "cells": [
  {
   "cell_type": "code",
   "execution_count": 1,
   "id": "b836b372-bcaf-4f80-9e56-859c03cdc4fb",
   "metadata": {},
   "outputs": [],
   "source": [
    "import os\n",
    "import chromadb\n",
    "import openai\n",
    "import tiktoken\n",
    "from chromadb.utils import embedding_functions\n",
    "\n",
    "from chunking_evaluation.utils import openai_token_count\n",
    "from chunking_evaluation.chunking import ClusterSemanticChunker, LLMSemanticChunker, FixedTokenChunker\n",
    "from chunking_evaluation.chunking import RecursiveTokenChunker, KamradtModifiedChunker\n",
    "\n",
    "from langchain_openai import ChatOpenAI\n",
    "from langchain_core.prompts import ChatPromptTemplate\n",
    "from langchain_experimental.text_splitter import SemanticChunker\n",
    "from langchain_openai.embeddings import OpenAIEmbeddings\n",
    "from langchain_core.output_parsers import StrOutputParser\n",
    "from langchain_text_splitters import TokenTextSplitter"
   ]
  },
  {
   "cell_type": "code",
   "execution_count": 2,
   "id": "a5cfc2eb-8ff8-4f3b-b6cc-a5c0b540b3e6",
   "metadata": {},
   "outputs": [],
   "source": [
    "main_path = \"/home/aswath/Projects/deep_learning/backup_brain/test_2/\"\n",
    "input_path = main_path + \"input/outsiders.txt\"\n",
    "\n",
    "with open(input_path, 'r') as file:\n",
    "    document = file.read()"
   ]
  },
  {
   "cell_type": "code",
   "execution_count": 3,
   "id": "22166369-6906-4608-915b-022fb708feb9",
   "metadata": {},
   "outputs": [
    {
     "name": "stdout",
     "output_type": "stream",
     "text": [
      "The OUTSIDERS\n",
      "\n",
      "\n",
      "\n",
      "Introduction\n",
      "\n",
      "An Intelligent Iconoclasm\n",
      "\n",
      "It is impossible to produce superior performance unless you do something different.\n",
      "\n",
      "—John Templeton\n",
      "\n",
      "\n",
      "The New Yorker’s Atul Gawande uses the term positive deviant to describe unusually effective performers in the field of medicine. To Gawande, it is natural that we should study these outliers in order to learn from them and improve performance.1\n",
      "\n",
      "Surprisingly, in business the best are not studied as closely as in other fields like medicine, the law, politics, or sports. After studying Henry Singleton, I began, with the help of a talented group of Harvard MBA students, to look for other cases where one company handily beat both its peers and Jack Welch (in terms of relative market performance). It turned out, as Warren Buffett’s quote in the preface suggests, that these companies (and CEOs) were rare as hen’s teeth. After extensive searching in databases at Harvard Business School’s Baker Library, we came across only seven other\n"
     ]
    }
   ],
   "source": [
    "print(document[:1000])"
   ]
  },
  {
   "cell_type": "markdown",
   "id": "6172ad39-88f9-4707-9731-22b022ff5694",
   "metadata": {},
   "source": [
    "### General Helper Functions"
   ]
  },
  {
   "cell_type": "code",
   "execution_count": 4,
   "id": "4b9190b6-3a33-49d0-a079-609baf6a1edd",
   "metadata": {},
   "outputs": [],
   "source": [
    "def analyze_chunks(chunks, use_tokens=False):\n",
    "    # Print the chunks of interest\n",
    "    print(\"\\nNumber of Chunks:\", len(chunks))\n",
    "    print(\"\\n\", \"=\"*50, \"10th Chunk\", \"=\"*50,\"\\n\", chunks[9])\n",
    "    print(\"\\n\", \"=\"*50, \"11st Chunk\", \"=\"*50,\"\\n\", chunks[10])\n",
    "    \n",
    "    chunk1, chunk2 = chunks[9], chunks[10]\n",
    "    \n",
    "    if use_tokens:\n",
    "        encoding = tiktoken.get_encoding(\"cl100k_base\")\n",
    "        tokens1 = encoding.encode(chunk1)\n",
    "        tokens2 = encoding.encode(chunk2)\n",
    "        \n",
    "        # Find overlapping tokens\n",
    "        for i in range(len(tokens1), 0, -1):\n",
    "            if tokens1[-i:] == tokens2[:i]:\n",
    "                overlap = encoding.decode(tokens1[-i:])\n",
    "                print(\"\\n\", \"=\"*50, f\"\\nOverlapping text ({i} tokens):\", overlap)\n",
    "                return\n",
    "        print(\"\\nNo token overlap found\")\n",
    "    else:\n",
    "        # Find overlapping characters\n",
    "        for i in range(min(len(chunk1), len(chunk2)), 0, -1):\n",
    "            if chunk1[-i:] == chunk2[:i]:\n",
    "                print(\"\\n\", \"=\"*50, f\"\\nOverlapping text ({i} chars):\", chunk1[-i:])\n",
    "                return\n",
    "        print(\"\\nNo character overlap found\")"
   ]
  },
  {
   "cell_type": "markdown",
   "id": "1fe9f2c3-3686-4053-a7d9-4770f980bc95",
   "metadata": {},
   "source": [
    "### Simple Split"
   ]
  },
  {
   "cell_type": "code",
   "execution_count": 5,
   "id": "b601809a-a0a9-4a94-bf65-dc4654d00768",
   "metadata": {},
   "outputs": [],
   "source": [
    "def chunk_text(document, chunk_size, overlap):\n",
    "    chunks = []\n",
    "    stride = chunk_size - overlap\n",
    "    current_idx = 0\n",
    "    \n",
    "    while current_idx < len(document):\n",
    "        # Take chunk_size characters starting from current_idx\n",
    "        chunk = document[current_idx:current_idx + chunk_size]\n",
    "        if not chunk:  # Break if we're out of text\n",
    "            break\n",
    "        chunks.append(chunk)\n",
    "        current_idx += stride  # Move forward by stride\n",
    "    \n",
    "    return chunks"
   ]
  },
  {
   "cell_type": "code",
   "execution_count": 6,
   "id": "eb93ea6a-6b66-4034-bd85-036513b70059",
   "metadata": {},
   "outputs": [
    {
     "name": "stdout",
     "output_type": "stream",
     "text": [
      "\n",
      "Number of Chunks: 318\n",
      "\n",
      " ================================================== 10th Chunk ================================================== \n",
      " ismatic leadership and more on careful deployment of firm resources.\n",
      "\n",
      "At bottom, these CEOs thought more like investors than managers. Fundamentally, they had confidence in their own analytical skills, and on the rare occasions when they saw compelling discrepancies between value and price, they were prepared to act boldly. When their stock was cheap, they bought it (often in large quantities), and when it was expensive, they used it to buy other companies or to raise inexpensive capital to fund future growth. If they couldn’t identify compelling projects, they were comfortable waiting, sometimes for very long periods of time (an entire decade in the case of General Cinema’s Dick Smith). Over the long term, this systematic, methodical blend of low buying and high selling produced exceptional returns for shareholders.\n",
      "\n",
      "A Distant Mirror: 1974–1982\n",
      "\n",
      "In assessing the current relevance of these outsider CEOs, it’s worth looking at how each navigated the post–World War II period that looks most like today’s extended economic malaise: the brutal 1974–1982 period.\n",
      "\n",
      "That period featured a tox\n",
      "\n",
      " ================================================== 11st Chunk ================================================== \n",
      " ost like today’s extended economic malaise: the brutal 1974–1982 period.\n",
      "\n",
      "That period featured a toxic combination of an external oil shock, disastrous fiscal and monetary policy, and the worst domestic political scandal in the nation’s history. This cocktail of negative news produced an eight-year period that saw crippling inflation, two deep recessions (and bear markets), 18 percent interest rates, a threefold increase in oil prices, and the first resignation of a sitting US president in over one hundred years. In the middle of this dark period, in August 1979, BusinessWeek famously ran a cover story titled “Are Equities Dead?”\n",
      "\n",
      "The times, like now, were so uncertain and scary that most managers sat on their hands, but for all the outsider CEOs it was among the most active periods of their careers—every single one was engaged in either a significant share repurchase program or a series of large acquisitions (or in the case of Tom Murphy, both). As a group, they were, in the words of Warren Buffett, very “greedy” while their peers were deeply “fearful.”a\n",
      "\n",
      "a. Author interview with Wa\n",
      "\n",
      " ================================================== \n",
      "Overlapping text (100 chars): ost like today’s extended economic malaise: the brutal 1974–1982 period.\n",
      "\n",
      "That period featured a tox\n"
     ]
    }
   ],
   "source": [
    "simp_chunks = chunk_text(document, chunk_size=1100, overlap=100)\n",
    "analyze_chunks(simp_chunks)"
   ]
  },
  {
   "cell_type": "code",
   "execution_count": 7,
   "id": "f73e589d-c722-4783-b09e-52bd701c8bec",
   "metadata": {},
   "outputs": [
    {
     "name": "stdout",
     "output_type": "stream",
     "text": [
      "1098.254716981132\n"
     ]
    }
   ],
   "source": [
    "length = 0\n",
    "for i in simp_chunks:\n",
    "    length += len(i)\n",
    "print(length/len(simp_chunks))"
   ]
  },
  {
   "cell_type": "markdown",
   "id": "13792fcc-0a53-4bda-83c0-a4c8630805ed",
   "metadata": {},
   "source": [
    "### Token Split"
   ]
  },
  {
   "cell_type": "code",
   "execution_count": 10,
   "id": "2fa6a60d-1d2f-4e44-9062-6547aac2731f",
   "metadata": {},
   "outputs": [],
   "source": [
    "def count_tokens(text, model=\"cl100k_base\"):\n",
    "    encoder = tiktoken.get_encoding(model)\n",
    "    return print(f\"Number of tokens: {len(encoder.encode(text))}\")"
   ]
  },
  {
   "cell_type": "code",
   "execution_count": 11,
   "id": "4d523413-52fd-4001-a4c4-72fc26cefd9b",
   "metadata": {},
   "outputs": [
    {
     "name": "stdout",
     "output_type": "stream",
     "text": [
      "Tokens: [28400, 1625, 63811, 1625, 7731, 389, 279, 6558]\n",
      "Token 1: hum\n",
      "Token 2: pty\n",
      "Token 3:  dum\n",
      "Token 4: pty\n",
      "Token 5:  sat\n",
      "Token 6:  on\n",
      "Token 7:  the\n",
      "Token 8:  floor\n",
      "Full Decoding:  humpty dumpty sat on the floor\n"
     ]
    }
   ],
   "source": [
    "encoder = tiktoken.get_encoding(\"cl100k_base\")\n",
    "\n",
    "text = \"humpty dumpty sat on the floor\"\n",
    "tokens = encoder.encode(text)\n",
    "\n",
    "print(\"Tokens:\", tokens)\n",
    "\n",
    "for i in range(len(tokens)):\n",
    "    print(f\"Token {i+1}:\", encoder.decode([tokens[i]]))\n",
    "\n",
    "print(\"Full Decoding: \", encoder.decode(tokens))"
   ]
  },
  {
   "cell_type": "code",
   "execution_count": 22,
   "id": "b7a0c414-45ff-4baa-8ad3-7dd6674a2e5e",
   "metadata": {},
   "outputs": [
    {
     "name": "stdout",
     "output_type": "stream",
     "text": [
      "\n",
      "Number of Chunks: 321\n",
      "\n",
      " ================================================== 10th Chunk ================================================== \n",
      "  their own analytical skills, and on the rare occasions when they saw compelling discrepancies between value and price, they were prepared to act boldly. When their stock was cheap, they bought it (often in large quantities), and when it was expensive, they used it to buy other companies or to raise inexpensive capital to fund future growth. If they couldn’t identify compelling projects, they were comfortable waiting, sometimes for very long periods of time (an entire decade in the case of General Cinema’s Dick Smith). Over the long term, this systematic, methodical blend of low buying and high selling produced exceptional returns for shareholders.\n",
      "\n",
      "A Distant Mirror: 1974–1982\n",
      "\n",
      "In assessing the current relevance of these outsider CEOs, it’s worth looking at how each navigated the post–World War II period that looks most like today’s extended economic malaise: the brutal 1974–1982 period.\n",
      "\n",
      "That period featured a toxic combination of an external oil shock, disastrous fiscal and monetary policy, and the worst domestic political scandal in the nation’s history. This cocktail of negative news produced an\n",
      "\n",
      " ================================================== 11st Chunk ================================================== \n",
      "  monetary policy, and the worst domestic political scandal in the nation’s history. This cocktail of negative news produced an eight-year period that saw crippling inflation, two deep recessions (and bear markets), 18 percent interest rates, a threefold increase in oil prices, and the first resignation of a sitting US president in over one hundred years. In the middle of this dark period, in August 1979, BusinessWeek famously ran a cover story titled “Are Equities Dead?”\n",
      "\n",
      "The times, like now, were so uncertain and scary that most managers sat on their hands, but for all the outsider CEOs it was among the most active periods of their careers—every single one was engaged in either a significant share repurchase program or a series of large acquisitions (or in the case of Tom Murphy, both). As a group, they were, in the words of Warren Buffett, very “greedy” while their peers were deeply “fearful.”a\n",
      "\n",
      "a. Author interview with Warren Buffett, July 24, 2006.\n",
      "\n",
      "This reformulation of the CEO’s job stemmed\n",
      "\n",
      " ================================================== \n",
      "Overlapping text (22 tokens):  monetary policy, and the worst domestic political scandal in the nation’s history. This cocktail of negative news produced an\n"
     ]
    }
   ],
   "source": [
    "fixed_token_chunker = FixedTokenChunker(chunk_size=218, chunk_overlap=22, encoding_name=\"cl100k_base\")\n",
    "token_chunks = fixed_token_chunker.split_text(document)\n",
    "analyze_chunks(token_chunks, use_tokens=True)"
   ]
  },
  {
   "cell_type": "code",
   "execution_count": 23,
   "id": "0c7dff2a-7726-48c3-a24d-5c4a854746df",
   "metadata": {},
   "outputs": [
    {
     "name": "stdout",
     "output_type": "stream",
     "text": [
      "1100.9127725856697\n"
     ]
    }
   ],
   "source": [
    "length = 0\n",
    "for i in token_chunks:\n",
    "    length += len(i)\n",
    "print(length/len(token_chunks))"
   ]
  },
  {
   "cell_type": "markdown",
   "id": "9abbf1f0-35b5-4528-a865-b495d85eaed8",
   "metadata": {},
   "source": [
    "### Recursive Character Split"
   ]
  },
  {
   "cell_type": "code",
   "execution_count": 34,
   "id": "8ce2894f-5a4e-4df2-9268-afe1e78b9b60",
   "metadata": {},
   "outputs": [
    {
     "name": "stdout",
     "output_type": "stream",
     "text": [
      "\n",
      "Number of Chunks: 293\n",
      "\n",
      " ================================================== 10th Chunk ================================================== \n",
      " That period featured a toxic combination of an external oil shock, disastrous fiscal and monetary policy, and the worst domestic political scandal in the nation’s history. This cocktail of negative news produced an eight-year period that saw crippling inflation, two deep recessions (and bear markets), 18 percent interest rates, a threefold increase in oil prices, and the first resignation of a sitting US president in over one hundred years. In the middle of this dark period, in August 1979, BusinessWeek famously ran a cover story titled “Are Equities Dead?”\n",
      "\n",
      "The times, like now, were so uncertain and scary that most managers sat on their hands, but for all the outsider CEOs it was among the most active periods of their careers—every single one was engaged in either a significant share repurchase program or a series of large acquisitions (or in the case of Tom Murphy, both). As a group, they were, in the words of Warren Buffett, very “greedy” while their peers were deeply “fearful.”a\n",
      "\n",
      "a. Author interview with Warren Buffett, July 24, 2006.\n",
      "\n",
      " ================================================== 11st Chunk ================================================== \n",
      " a. Author interview with Warren Buffett, July 24, 2006.\n",
      "\n",
      "This reformulation of the CEO’s job stemmed from shared (and unusual) backgrounds. All of these CEOs were outsiders. All were first-time chief executives (half not yet forty when they took the job), and all but one were new to their industries. They were not bound by prior experience or industry convention, and their collective records show the enormous power of fresh eyes. This freshness of perspective is an age-old catalyst for innovation across many fields. In science, Thomas Kuhn, inventor of the concept of the paradigm shift, found that the greatest discoveries were almost invariably made by newcomers and the very young (think of the middle-aged former printer, Ben Franklin, taming lightning; or Einstein, the twenty-seven-year-old patent clerk, deriving E = mc2).\n",
      "\n",
      "This fox-like outsider’s perspective helped these executives develop differentiated approaches, and it informed their entire management philosophy. As a group, they were deeply independent, generally avoiding communication with Wall Street, disdaining the use of advisers, and preferring decentralized organizational structures that self-selected for other independent thinkers.\n",
      "\n",
      ". . .\n",
      "\n",
      " ================================================== \n",
      "Overlapping text (55 chars): a. Author interview with Warren Buffett, July 24, 2006.\n"
     ]
    }
   ],
   "source": [
    "recursive_character_chunker = RecursiveTokenChunker(chunk_size=1375, chunk_overlap=137, length_function=len, separators=[\"\\n\\n\", \"\\n\", \".\", \"?\", \"!\", \" \", \"\"])\n",
    "rec_ch_chunks = recursive_character_chunker.split_text(document)\n",
    "analyze_chunks(rec_ch_chunks, use_tokens=False)"
   ]
  },
  {
   "cell_type": "code",
   "execution_count": 35,
   "id": "fe633509-5dd5-4447-811f-0fcddb3abf18",
   "metadata": {},
   "outputs": [
    {
     "name": "stdout",
     "output_type": "stream",
     "text": [
      "1091.5767918088736\n"
     ]
    }
   ],
   "source": [
    "length = 0\n",
    "for i in rec_ch_chunks:\n",
    "    length += len(i)\n",
    "print(length/len(rec_ch_chunks))"
   ]
  },
  {
   "cell_type": "markdown",
   "id": "5ecfa155-ab1b-4a64-96df-0ad008cfbb42",
   "metadata": {},
   "source": [
    "### Recursive Token Split"
   ]
  },
  {
   "cell_type": "code",
   "execution_count": 49,
   "id": "33dd7abb-1a84-418a-add6-b4359585c1a3",
   "metadata": {
    "scrolled": true
   },
   "outputs": [
    {
     "name": "stdout",
     "output_type": "stream",
     "text": [
      "\n",
      "Number of Chunks: 288\n",
      "\n",
      " ================================================== 10th Chunk ================================================== \n",
      " a. Author interview with Warren Buffett, July 24, 2006.\n",
      "\n",
      "This reformulation of the CEO’s job stemmed from shared (and unusual) backgrounds. All of these CEOs were outsiders. All were first-time chief executives (half not yet forty when they took the job), and all but one were new to their industries. They were not bound by prior experience or industry convention, and their collective records show the enormous power of fresh eyes. This freshness of perspective is an age-old catalyst for innovation across many fields. In science, Thomas Kuhn, inventor of the concept of the paradigm shift, found that the greatest discoveries were almost invariably made by newcomers and the very young (think of the middle-aged former printer, Ben Franklin, taming lightning; or Einstein, the twenty-seven-year-old patent clerk, deriving E = mc2).\n",
      "\n",
      "This fox-like outsider’s perspective helped these executives develop differentiated approaches, and it informed their entire management philosophy. As a group, they were deeply independent, generally avoiding communication with Wall Street, disdaining the use of advisers, and preferring decentralized organizational structures that self-selected for other independent thinkers.\n",
      "\n",
      ". . .\n",
      "\n",
      " ================================================== 11st Chunk ================================================== \n",
      " . . .\n",
      "\n",
      "In his recent bestseller, Outliers, Malcolm Gladwell presents a rule of thumb that expertise across a wide variety of fields requires ten thousand hours of practice.3 So how does the phenomenal success of this group of neophyte CEOs square with that heuristic? Certainly none of these CEOs had logged close to ten thousand hours as managers before assuming the top spot, and perhaps their success points to an important distinction between expertise and innovation.\n",
      "\n",
      "Gladwell’s rule is a guide to achieving mastery, which is not necessarily the same thing as innovation. As John Templeton’s quote at the beginning of this chapter suggests, exceptional relative performance demands new thinking, and at the center of the worldview shared by these CEOs was a commitment to rationality, to analyzing the data, to thinking for themselves.\n",
      "\n",
      "No token overlap found\n"
     ]
    }
   ],
   "source": [
    "recursive_token_chunker = RecursiveTokenChunker(chunk_size=275, chunk_overlap=27, length_function=openai_token_count, separators=[\"\\n\\n\", \"\\n\", \".\", \"?\", \"!\", \" \", \"\"])\n",
    "rec_tk_chunks = recursive_token_chunker.split_text(document)\n",
    "analyze_chunks(rec_tk_chunks, use_tokens=True)"
   ]
  },
  {
   "cell_type": "code",
   "execution_count": 50,
   "id": "4a71f348-e71e-4898-9b99-f61cf450ae68",
   "metadata": {},
   "outputs": [
    {
     "name": "stdout",
     "output_type": "stream",
     "text": [
      "1107.173611111111\n"
     ]
    }
   ],
   "source": [
    "length = 0\n",
    "for i in rec_tk_chunks:\n",
    "    length += len(i)\n",
    "print(length/len(rec_tk_chunks))"
   ]
  },
  {
   "cell_type": "markdown",
   "id": "a24bf2c1-b48c-45ce-9786-f59b85fe904a",
   "metadata": {},
   "source": [
    "### Semantic Chunker"
   ]
  },
  {
   "cell_type": "code",
   "execution_count": 53,
   "id": "8078b5c7-e740-4c2a-93a8-dd6e63071433",
   "metadata": {},
   "outputs": [],
   "source": [
    "openai.api_key = 'dummy_val'\n",
    "embedding_function = embedding_functions.OpenAIEmbeddingFunction(api_key=openai.api_key, model_name=\"text-embedding-3-large\")"
   ]
  },
  {
   "cell_type": "markdown",
   "id": "12419fe4-d899-42f1-8e0d-668910dd455c",
   "metadata": {},
   "source": [
    "#### Greg Kamradt Semantic Chunker"
   ]
  },
  {
   "cell_type": "code",
   "execution_count": 80,
   "id": "c31fda7f-8596-4f62-a13f-d02f68933e55",
   "metadata": {},
   "outputs": [],
   "source": [
    "kamradt_chunker = KamradtModifiedChunker(avg_chunk_size=220, min_chunk_size=20, embedding_function=embedding_function)\n",
    "modified_kamradt_chunks = kamradt_chunker.split_text(document)"
   ]
  },
  {
   "cell_type": "code",
   "execution_count": 81,
   "id": "8d34e7d6-a2ae-40b3-a4f5-753982bbc995",
   "metadata": {
    "scrolled": true
   },
   "outputs": [
    {
     "name": "stdout",
     "output_type": "stream",
     "text": [
      "\n",
      "Number of Chunks: 289\n",
      "\n",
      " ================================================== 10th Chunk ================================================== \n",
      " . Only two had MBAs. As a group, they did not attract or seek the spotlight . Rather, they labored in relative obscurity and were generally appreciated by only a handful of sophisticated investors and aficionados . As a group, they shared old-fashioned, premodern values including frugality, humility, independence, and an unusual combination of conservatism and boldness . They typically worked out of bare-bones offices (of which they were inordinately proud), generally eschewed perks such as corporate planes, avoided the spotlight wherever possible, and rarely communicated with Wall Street or the business press . They also actively avoided bankers and other advisers, preferring their own counsel and that of a select group around them . Ben Franklin would have liked these guys. This group of happily married, middle-aged men (and one woman) led seemingly unexciting, balanced, quietly philanthropic lives, yet in their business lives they were neither conventional nor complacent . They were positive deviants, and they were deeply iconoclastic. The word iconoclast is derived from Greek and means “smasher of icons .” The word has evolved to have the more general meaning of someone who is determinedly different, proudly eccentric . The original iconoclasts came from outside the societies (and temples) where icons resided; they were challengers of societal norms and conventions, and they were much feared in ancient Greece . The CEOs profiled in this book were not nearly so fearsome, but they did share interesting\n",
      "\n",
      " ================================================== 11st Chunk ================================================== \n",
      " similarities with their ancient forbears: they were also outsiders, disdaining long-accepted conventional approaches (like paying dividends or avoiding share repurchases) and relishing their unorthodoxy . Like Singleton, these CEOs consistently made very different decisions than their peers did . They were not, however, blindly contrarian . Theirs was an intelligent iconoclasm informed by careful analysis and often expressed in unusual financial metrics that were distinctly different from industry or Wall Street conventions\n",
      "\n",
      "No token overlap found\n",
      "\n",
      "\n",
      " ================================================== \n",
      "\n",
      "\n",
      "Number of tokens: 302\n",
      "Number of tokens: 93\n"
     ]
    }
   ],
   "source": [
    "analyze_chunks(modified_kamradt_chunks, use_tokens=True)\n",
    "print(\"\\n\\n\", \"=\"*50, \"\\n\\n\")\n",
    "count_tokens(modified_kamradt_chunks[9])\n",
    "count_tokens(modified_kamradt_chunks[10])"
   ]
  },
  {
   "cell_type": "code",
   "execution_count": 82,
   "id": "d2c14b00-0aa2-46e5-9424-8ffe71670e02",
   "metadata": {},
   "outputs": [
    {
     "name": "stdout",
     "output_type": "stream",
     "text": [
      "1101.3356401384083\n"
     ]
    }
   ],
   "source": [
    "length = 0\n",
    "for i in modified_kamradt_chunks:\n",
    "    length += len(i)\n",
    "print(length/len(modified_kamradt_chunks))"
   ]
  },
  {
   "cell_type": "markdown",
   "id": "41f6fca1-ff14-4bc4-935f-fb2e13426783",
   "metadata": {},
   "source": [
    "#### Cluster Semantic Chunker"
   ]
  },
  {
   "cell_type": "code",
   "execution_count": 89,
   "id": "9253e89d-52a6-4741-99ba-ecf86657530b",
   "metadata": {},
   "outputs": [],
   "source": [
    "cluster_chunker = ClusterSemanticChunker(embedding_function=embedding_function, max_chunk_size=790, length_function=openai_token_count)\n",
    "cluster_chunker_chunks = cluster_chunker.split_text(document)"
   ]
  },
  {
   "cell_type": "code",
   "execution_count": 90,
   "id": "7a12cf03-92aa-4db6-b11f-4e3bd8794dc2",
   "metadata": {
    "scrolled": true
   },
   "outputs": [
    {
     "name": "stdout",
     "output_type": "stream",
     "text": [
      "\n",
      "Number of Chunks: 306\n",
      "\n",
      " ================================================== 10th Chunk ================================================== \n",
      " one hundred years\n",
      "\n",
      " ================================================== 11st Chunk ================================================== \n",
      " . In the middle of this dark period, in August 1979, BusinessWeek famously ran a cover story titled “Are Equities Dead?” The times, like now, were so uncertain and scary that most managers sat on their hands, but for all the outsider CEOs it was among the most active periods of their careers—every single one was engaged in either a significant share repurchase program or a series of large acquisitions (or in the case of Tom Murphy, both) . As a group, they were, in the words of Warren Buffett, very “greedy” while their peers were deeply “fearful.”a a. Author interview with Warren Buffett, July 24, 2006. This reformulation of the CEO’s job stemmed from shared (and unusual) backgrounds. All of these CEOs were outsiders . All were first-time chief executives (half not yet forty when they took the job), and all but one were new to their industries. They were not bound by prior experience or industry convention, and their collective records show the enormous power of fresh eyes\n",
      "\n",
      "No token overlap found\n"
     ]
    }
   ],
   "source": [
    "analyze_chunks(cluster_chunker_chunks, use_tokens=True)"
   ]
  },
  {
   "cell_type": "code",
   "execution_count": 91,
   "id": "40e6feff-1046-4588-b371-0632ff41f5fd",
   "metadata": {},
   "outputs": [
    {
     "name": "stdout",
     "output_type": "stream",
     "text": [
      "1037.6666666666667\n"
     ]
    }
   ],
   "source": [
    "length = 0\n",
    "for i in cluster_chunker_chunks:\n",
    "    length += len(i)\n",
    "print(length/len(cluster_chunker_chunks))"
   ]
  },
  {
   "cell_type": "markdown",
   "id": "70467e5d-e2fd-48de-a6d7-5a7344bd4083",
   "metadata": {},
   "source": [
    "### Testing Chunks"
   ]
  },
  {
   "cell_type": "code",
   "execution_count": 94,
   "id": "0a09646f-b8bf-4baa-8cde-c8cc34f48eae",
   "metadata": {},
   "outputs": [],
   "source": [
    "llm = ChatOpenAI(temperature=0.0, model=\"gpt-4o\", api_key= openai.api_key)"
   ]
  },
  {
   "cell_type": "markdown",
   "id": "51ffb968-7ef0-40c1-8dc7-13d7a85d2a85",
   "metadata": {},
   "source": [
    "simp_chunks, token_chunks, rec_ch_chunks, rec_tk_chunks, lc_semantic_chunks, modified_kamradt_chunks, cluster_chunker_chunks, llm_chunker_chunks"
   ]
  },
  {
   "cell_type": "code",
   "execution_count": 95,
   "id": "cbc69ab0-2942-47cb-b36e-4c82184e0188",
   "metadata": {},
   "outputs": [],
   "source": [
    "def add_chunks(texts, collection):\n",
    "    add_count = 0\n",
    "    for text in texts:\n",
    "        collection.add(documents=[text], ids=f\"chunk_{add_count}\")\n",
    "        add_count += 1\n",
    "\n",
    "def chroma_retrieval(query, collection, num_results=15):\n",
    "    results = collection.query(query_texts=[query], n_results=num_results)\n",
    "    return results\n",
    "\n",
    "def chroma_rag(query, collection):\n",
    "    retrieved_docs = chroma_retrieval(query, collection)[\"documents\"][0]\n",
    "    response = rag_chain.invoke({\"retrieved_docs\": retrieved_docs, \"query\": query})\n",
    "    return retrieved_docs, response"
   ]
  },
  {
   "cell_type": "code",
   "execution_count": 96,
   "id": "5c6bf843-4692-45d6-9e0f-300c0503e644",
   "metadata": {},
   "outputs": [],
   "source": [
    "client_path = main_path + \"/notebook/chromadb\"\n",
    "chroma_client = chromadb.PersistentClient(path=client_path)"
   ]
  },
  {
   "cell_type": "code",
   "execution_count": 123,
   "id": "e9402805-9926-4b28-be95-b98215cd6491",
   "metadata": {},
   "outputs": [],
   "source": [
    "rag_prompt_template = \"\"\"\n",
    "Generate a response that responds to the user's question, summarizing all information in the input data tables, and incorporating any relevant general knowledge.\n",
    "\n",
    "Do not include information where the supporting evidence for it is not provided.\n",
    "\n",
    "Context: {retrieved_docs}\n",
    "\n",
    "User Question: {query}\n",
    "\n",
    "\"\"\""
   ]
  },
  {
   "cell_type": "markdown",
   "id": "99db9dce-fd76-47c9-9408-a10a7b3389c1",
   "metadata": {},
   "source": [
    "#### Simple Chunking"
   ]
  },
  {
   "cell_type": "code",
   "execution_count": 134,
   "id": "83eda4fe-4a88-42a2-902d-9e011321de0a",
   "metadata": {},
   "outputs": [],
   "source": [
    "simple_collection = chroma_client.get_or_create_collection(name=\"simple_collection_1100\")\n",
    "# add_chunks(simp_chunks, simple_collection)"
   ]
  },
  {
   "cell_type": "code",
   "execution_count": 135,
   "id": "12192e6b-23ce-45e4-8f3c-68f708dfb41f",
   "metadata": {},
   "outputs": [],
   "source": [
    "rag_prompt = ChatPromptTemplate.from_template(rag_prompt_template)\n",
    "rag_chain = rag_prompt | llm | StrOutputParser()"
   ]
  },
  {
   "cell_type": "code",
   "execution_count": 136,
   "id": "dcf4c3f4-a18f-4db9-99b9-6fad31516f2f",
   "metadata": {
    "scrolled": true
   },
   "outputs": [],
   "source": [
    "docs, response = chroma_rag(\"Give me who are the best CEO's and elaborate reasons behind it ?\", simple_collection)"
   ]
  },
  {
   "cell_type": "code",
   "execution_count": 137,
   "id": "75c6402a-9497-4392-beee-d30d2680f816",
   "metadata": {},
   "outputs": [
    {
     "name": "stdout",
     "output_type": "stream",
     "text": [
      "The input data highlights a group of CEOs often referred to as \"outsider CEOs,\" who are considered highly effective due to their unconventional management styles and impressive long-term performance. These CEOs include figures like Warren Buffett, John Malone, and Bill Anders, among others. Here are the key reasons behind their success:\n",
      "\n",
      "1. **Long-term Value Focus**: These CEOs prioritized optimizing long-term shareholder value over short-term organizational growth. They often shrank their companies through share repurchases and asset sales, focusing on maximizing value rather than size.\n",
      "\n",
      "2. **Capital Allocation**: They were adept at capital allocation, making disciplined acquisitions, and using leverage selectively. They focused on cash flow rather than reported net income, which is a common metric for most public company CEOs.\n",
      "\n",
      "3. **Decentralization**: They ran highly decentralized organizations, allowing local managers to make operating decisions while centralizing capital allocation. This approach fostered independence and innovation within their companies.\n",
      "\n",
      "4. **Contrarian Approach**: These CEOs often acted contrary to conventional wisdom, making bold moves when others were hesitant. They were willing to wait for the right opportunities, sometimes for extended periods, and acted decisively when they arose.\n",
      "\n",
      "5. **Simplicity and Rationality**: They had a genius for simplicity, cutting through complexity to focus on core economic characteristics. Their decision-making was based on sound reasoning and data analysis, often ignoring the noise of conventional wisdom.\n",
      "\n",
      "6. **Independence from Wall Street**: They generally avoided communication with Wall Street, disdained the use of advisers, and did not provide earnings guidance. This independence allowed them to focus on long-term strategies without external pressures.\n",
      "\n",
      "7. **Innovative Thinking**: Despite not having extensive managerial experience before becoming CEOs, they brought fresh perspectives and innovative approaches to their roles, which contributed to their exceptional performance.\n",
      "\n",
      "These CEOs demonstrated that effective leadership does not require being a charismatic visionary but rather involves a commitment to rational decision-making, strategic capital allocation, and a focus on long-term value creation.\n"
     ]
    }
   ],
   "source": [
    "print(response)"
   ]
  },
  {
   "cell_type": "markdown",
   "id": "89f58fbd-434b-4f23-b170-c29bbe1d8252",
   "metadata": {},
   "source": [
    "#### Token Chunking"
   ]
  },
  {
   "cell_type": "code",
   "execution_count": 138,
   "id": "3c5ff1c2-3617-4338-b3c2-aec928b34a7f",
   "metadata": {},
   "outputs": [],
   "source": [
    "token_collection = chroma_client.get_or_create_collection(name=\"token_collection_1100\")\n",
    "# add_chunks(token_chunks, token_collection)"
   ]
  },
  {
   "cell_type": "code",
   "execution_count": 139,
   "id": "af1d54fe-052b-40d3-9665-60a60aa14048",
   "metadata": {},
   "outputs": [],
   "source": [
    "rag_prompt = ChatPromptTemplate.from_template(rag_prompt_template)\n",
    "rag_chain = rag_prompt | llm | StrOutputParser()"
   ]
  },
  {
   "cell_type": "code",
   "execution_count": 140,
   "id": "6ecfb5cf-ca9a-41fd-80f4-50eb5ed138d3",
   "metadata": {},
   "outputs": [],
   "source": [
    "docs, response = chroma_rag(\"Give me who are the best CEO's and elaborate reasons behind it ?\", token_collection)"
   ]
  },
  {
   "cell_type": "code",
   "execution_count": 141,
   "id": "afd6371e-d28c-4e1d-9d3e-5dc72e6cf961",
   "metadata": {},
   "outputs": [
    {
     "name": "stdout",
     "output_type": "stream",
     "text": [
      "Determining the \"best\" CEOs can be subjective and depends on various criteria such as financial performance, innovation, leadership style, and impact on society. However, some CEOs are frequently recognized for their exceptional leadership and contributions to their companies and industries. Here are a few notable examples:\n",
      "\n",
      "1. **Tim Cook (Apple Inc.)**: Tim Cook is often praised for his operational expertise and ability to maintain Apple's profitability and innovation after Steve Jobs. Under his leadership, Apple has expanded its product line and services, including the Apple Watch and Apple Music, and has become the first U.S. company to reach a $2 trillion market capitalization.\n",
      "\n",
      "2. **Satya Nadella (Microsoft)**: Nadella is credited with transforming Microsoft by focusing on cloud computing and artificial intelligence. His leadership has revitalized the company, leading to significant growth in its Azure cloud services and a substantial increase in Microsoft's stock value.\n",
      "\n",
      "3. **Elon Musk (Tesla, SpaceX)**: Musk is known for his visionary approach and willingness to take risks. Under his leadership, Tesla has become a leader in electric vehicles, and SpaceX has achieved significant milestones in space exploration, including the development of reusable rockets.\n",
      "\n",
      "4. **Jeff Bezos (Amazon)**: Although Bezos stepped down as CEO in 2021, his impact on Amazon's growth and innovation is undeniable. He transformed Amazon from an online bookstore into a global e-commerce and cloud computing giant, emphasizing customer-centricity and long-term thinking.\n",
      "\n",
      "5. **Mary Barra (General Motors)**: Barra is recognized for her efforts to steer General Motors towards a future focused on electric and autonomous vehicles. Her leadership has been pivotal in GM's commitment to sustainability and innovation in the automotive industry.\n",
      "\n",
      "These CEOs are often highlighted for their strategic vision, ability to adapt to changing markets, and focus on innovation and sustainability. Their leadership has not only driven financial success but also positioned their companies as leaders in their respective industries.\n"
     ]
    }
   ],
   "source": [
    "print(response)"
   ]
  },
  {
   "cell_type": "markdown",
   "id": "76a58ba6-18fa-48a5-86f3-843ab9fee07e",
   "metadata": {},
   "source": [
    "#### Recursive Character Chunking"
   ]
  },
  {
   "cell_type": "code",
   "execution_count": 142,
   "id": "1d755c92-93f6-417c-a39a-aff249c5bf2a",
   "metadata": {},
   "outputs": [],
   "source": [
    "rec_ch_collection = chroma_client.get_or_create_collection(name=\"rec_ch_collection_1100\")\n",
    "# add_chunks(rec_ch_chunks, rec_ch_collection)"
   ]
  },
  {
   "cell_type": "code",
   "execution_count": 143,
   "id": "7b781353-4be6-4894-97f1-4efe1ed47f90",
   "metadata": {},
   "outputs": [],
   "source": [
    "rag_prompt = ChatPromptTemplate.from_template(rag_prompt_template)\n",
    "rag_chain = rag_prompt | llm | StrOutputParser()"
   ]
  },
  {
   "cell_type": "code",
   "execution_count": 144,
   "id": "f8b2b2b4-cbb3-475b-ace7-c41c988db01a",
   "metadata": {},
   "outputs": [],
   "source": [
    "docs, response = chroma_rag(\"Give me who are the best CEO's and elaborate reasons behind it ?\", rec_ch_collection)"
   ]
  },
  {
   "cell_type": "code",
   "execution_count": 158,
   "id": "406ee332-8911-4000-a705-07504b20c1b8",
   "metadata": {},
   "outputs": [
    {
     "name": "stdout",
     "output_type": "stream",
     "text": [
      "The best CEOs, as highlighted in the context, are those who adopt an unconventional approach to management and resource allocation. These CEOs, often referred to as \"outsider CEOs,\" include individuals like Stonecipher, Tillerson, and others who have achieved extraordinary results by consistently making decisions that differ from their peers. Here are the key reasons behind their success:\n",
      "\n",
      "1. **Long-term Investor Mindset**: These CEOs think more like investors than traditional managers. They focus on creating value for shareholders by making disciplined capital allocation decisions and optimizing resources.\n",
      "\n",
      "2. **Decentralized Organizations**: They run highly decentralized organizations, allowing for efficient decision-making at local levels while maintaining centralized control over capital allocation.\n",
      "\n",
      "3. **Contrarian Approach**: They are intelligent contrarians, willing to act differently from the crowd. This includes making large acquisitions, buying back stock, and minimizing taxes, all while avoiding dividends and Wall Street guidance.\n",
      "\n",
      "4. **Focus on Cash Flow**: Instead of prioritizing quarterly net income, these CEOs emphasize cash flow, which provides a clearer picture of a company's financial health and long-term potential.\n",
      "\n",
      "5. **Pragmatic and Analytical**: They possess a genius for simplicity, cutting through complexity to focus on core economic realities. This pragmatic approach allows them to make value-enhancing decisions and avoid value-destroying ones.\n",
      "\n",
      "6. **Minimal Reliance on External Advice**: These CEOs are comfortable making decisions with minimal input from outside consultants, relying on their own analytical skills and judgment.\n",
      "\n",
      "7. **Adaptability**: They optimize within given circumstances, adapting their strategies to the unique challenges and opportunities they face.\n",
      "\n",
      "Overall, the success of these CEOs is attributed to their ability to think independently, act boldly when necessary, and maintain a disciplined focus on long-term value creation.\n"
     ]
    }
   ],
   "source": [
    "print(response)"
   ]
  },
  {
   "cell_type": "markdown",
   "id": "4d50be3e-3bc8-4928-9320-b7193efff1a7",
   "metadata": {},
   "source": [
    "#### Recursive Token Chunking"
   ]
  },
  {
   "cell_type": "code",
   "execution_count": 146,
   "id": "89eed3ad-53a5-4d0f-a62a-6874200902a6",
   "metadata": {},
   "outputs": [],
   "source": [
    "rec_token_collection = chroma_client.get_or_create_collection(name=\"rec_token_collection_1100\")\n",
    "# add_chunks(rec_tk_chunks, rec_token_collection)"
   ]
  },
  {
   "cell_type": "code",
   "execution_count": 147,
   "id": "69447a38-b236-4c6d-90f3-2132bb5a1869",
   "metadata": {},
   "outputs": [],
   "source": [
    "rag_prompt = ChatPromptTemplate.from_template(rag_prompt_template)\n",
    "rag_chain = rag_prompt | llm | StrOutputParser()"
   ]
  },
  {
   "cell_type": "code",
   "execution_count": 148,
   "id": "043574d8-7c8a-41da-b4c2-0bf509513735",
   "metadata": {},
   "outputs": [],
   "source": [
    "docs, response = chroma_rag(\"Give me who are the best CEO's and elaborate reasons behind it ?\", rec_token_collection)"
   ]
  },
  {
   "cell_type": "code",
   "execution_count": 149,
   "id": "3935bfed-3d10-4925-8089-aab587c2cf1f",
   "metadata": {},
   "outputs": [
    {
     "name": "stdout",
     "output_type": "stream",
     "text": [
      "The best CEOs, as highlighted in the context, are those who adopt an unorthodox approach to management, focusing on long-term value creation rather than short-term growth. These CEOs, often referred to as \"outsider CEOs,\" include figures like Warren Buffett, Henry Singleton, and Rex Tillerson. Their success is attributed to several key principles:\n",
      "\n",
      "1. **Long-term Value Focus**: These CEOs prioritize optimizing long-term value per share over mere organizational growth. They understand that bigger isn't always better and often shrink their operations through asset sales or spin-offs to maximize shareholder value.\n",
      "\n",
      "2. **Capital Allocation**: They are adept at capital allocation, directing resources toward high-return projects and avoiding value-destroying investments. This involves a disciplined approach to financial management, often requiring a minimum return on capital projects.\n",
      "\n",
      "3. **Decentralization**: They run highly decentralized organizations, empowering local managers and reducing the need for a large corporate staff. This approach acknowledges that value is often created at the local level rather than at headquarters.\n",
      "\n",
      "4. **Share Repurchases**: These CEOs frequently engage in share repurchases, not to prop up stock prices but because they see it as a valuable investment in itself. This strategy helps manage the denominator in value per share calculations.\n",
      "\n",
      "5. **Pragmatic and Analytical**: They apply a rational, analytical approach to decision-making, focusing on cash flow rather than reported net income. This mindset allows them to cut through conventional wisdom and peer pressure, making decisions based on core economic realities.\n",
      "\n",
      "6. **Flexibility and Patience**: They exhibit a patient, pragmatic opportunism, adapting their strategies to the circumstances rather than following rigid plans. This flexibility allows them to capitalize on opportunities as they arise.\n",
      "\n",
      "7. **Investor Mindset**: These CEOs think more like investors than traditional managers, acting boldly when they see discrepancies between value and price. They are comfortable waiting for the right opportunities, sometimes for extended periods.\n",
      "\n",
      "Overall, the best CEOs are those who combine a disciplined, analytical approach with a willingness to think independently and act decisively, ultimately creating significant value for shareholders over the long term.\n"
     ]
    }
   ],
   "source": [
    "print(response)"
   ]
  },
  {
   "cell_type": "markdown",
   "id": "fd21d044-c9fc-4d65-a637-f8765028add5",
   "metadata": {},
   "source": [
    "#### Modified Kamradt Chunks"
   ]
  },
  {
   "cell_type": "code",
   "execution_count": 150,
   "id": "bf25d56c-96ba-497f-a3d5-ebc0aa560c34",
   "metadata": {},
   "outputs": [],
   "source": [
    "mod_kamradt_collections = chroma_client.get_or_create_collection(name=\"mod_kamradt_collections_1100\")\n",
    "# add_chunks(modified_kamradt_chunks, mod_kamradt_collections)"
   ]
  },
  {
   "cell_type": "code",
   "execution_count": 151,
   "id": "f7a34fd4-1da5-458e-8fa8-a6e8de58269c",
   "metadata": {},
   "outputs": [],
   "source": [
    "rag_prompt = ChatPromptTemplate.from_template(rag_prompt_template)\n",
    "rag_chain = rag_prompt | llm | StrOutputParser()"
   ]
  },
  {
   "cell_type": "code",
   "execution_count": 152,
   "id": "60266d36-a3cb-4768-bd50-36fad6be2c76",
   "metadata": {},
   "outputs": [],
   "source": [
    "docs, response = chroma_rag(\"Give me who are the best CEO's and elaborate reasons behind it ?\", mod_kamradt_collections)"
   ]
  },
  {
   "cell_type": "code",
   "execution_count": 153,
   "id": "2df365db-087b-4331-9254-fa5701af401d",
   "metadata": {},
   "outputs": [
    {
     "name": "stdout",
     "output_type": "stream",
     "text": [
      "The best CEOs, as highlighted in the context, are those who adopt an unconventional approach to management and resource allocation. These CEOs, often referred to as \"outsider CEOs,\" include individuals like Stonecipher, Tillerson, and others who have achieved extraordinary results by thinking and acting differently from their peers. Here are the key reasons behind their success:\n",
      "\n",
      "1. **Long-term Investor Mindset**: These CEOs think more like investors than traditional managers. They focus on creating long-term value for shareholders rather than short-term gains.\n",
      "\n",
      "2. **Capital Allocation**: They excel in capital allocation, making disciplined acquisitions, buying back stock, and minimizing taxes. They prioritize projects with attractive returns and are comfortable waiting for the right opportunities.\n",
      "\n",
      "3. **Decentralized Organizations**: They run highly decentralized organizations, pushing operating decisions to the lowest levels while maintaining centralized control over capital allocation.\n",
      "\n",
      "4. **Focus on Cash Flow**: Unlike many CEOs who focus on maximizing quarterly net income, these leaders prioritize cash flow, which provides a clearer picture of a company's financial health.\n",
      "\n",
      "5. **Contrarian Approach**: They are intelligent contrarians, willing to act differently from their peers. They avoid the institutional imperative and make decisions based on core economic realities rather than conventional wisdom.\n",
      "\n",
      "6. **Simplicity and Clarity**: These CEOs have a genius for simplicity, cutting through complexity to focus on the essential economic characteristics of their businesses.\n",
      "\n",
      "7. **Unconventional Backgrounds**: Many of these CEOs were first-timers with little prior management experience, which allowed them to bring fresh perspectives and innovative thinking to their roles.\n",
      "\n",
      "8. **Skepticism of Wall Street**: They often forgo providing Wall Street guidance and focus on long-term strategies rather than short-term market expectations.\n",
      "\n",
      "Overall, the success of these CEOs is attributed to their ability to think independently, act decisively, and maintain a disciplined focus on long-term value creation.\n"
     ]
    }
   ],
   "source": [
    "print(response)"
   ]
  },
  {
   "cell_type": "markdown",
   "id": "187e75c8-9c42-4731-9fc4-1c1863e8639e",
   "metadata": {},
   "source": [
    "#### Cluster Chunker"
   ]
  },
  {
   "cell_type": "code",
   "execution_count": 154,
   "id": "c84f7723-6773-4b32-95ed-687340124790",
   "metadata": {},
   "outputs": [],
   "source": [
    "cluster_chunks_collection = chroma_client.get_or_create_collection(name=\"cluster_chunks_collections_1100\")\n",
    "# add_chunks(cluster_chunker_chunks, cluster_chunks_collection)"
   ]
  },
  {
   "cell_type": "code",
   "execution_count": 155,
   "id": "eb921b09-2304-4e76-9d36-15694aaadf40",
   "metadata": {},
   "outputs": [],
   "source": [
    "rag_prompt = ChatPromptTemplate.from_template(rag_prompt_template)\n",
    "rag_chain = rag_prompt | llm | StrOutputParser()"
   ]
  },
  {
   "cell_type": "code",
   "execution_count": 156,
   "id": "a65ac670-4949-4918-9c78-0dfd116a088b",
   "metadata": {},
   "outputs": [],
   "source": [
    "docs, response = chroma_rag(\"Give me who are the best CEO's and elaborate reasons behind it ?\", mod_kamradt_collections)"
   ]
  },
  {
   "cell_type": "code",
   "execution_count": 157,
   "id": "714fcb54-c6c3-476f-84f2-223af5ce7220",
   "metadata": {},
   "outputs": [
    {
     "name": "stdout",
     "output_type": "stream",
     "text": [
      "The best CEOs, as highlighted in the context, are those who adopt an unconventional approach to management and resource allocation. These CEOs, often referred to as \"outsider CEOs,\" include individuals like Stonecipher, Tillerson, and others who have achieved extraordinary results by consistently making decisions that differ from their peers. Here are the key reasons behind their success:\n",
      "\n",
      "1. **Long-term Investor Mindset**: These CEOs think more like investors than traditional managers. They focus on creating value for shareholders by making disciplined capital allocation decisions and optimizing resources.\n",
      "\n",
      "2. **Decentralized Organizations**: They run highly decentralized organizations, allowing for efficient decision-making at local levels while maintaining centralized control over capital allocation.\n",
      "\n",
      "3. **Contrarian Approach**: They are intelligent contrarians, willing to act differently from the crowd. This includes making large acquisitions, buying back stock, and minimizing taxes, all while avoiding dividends and Wall Street guidance.\n",
      "\n",
      "4. **Focus on Cash Flow**: Instead of prioritizing quarterly net income, these CEOs emphasize cash flow, which provides a clearer picture of a company's financial health and long-term potential.\n",
      "\n",
      "5. **Pragmatic and Analytical**: They possess a genius for simplicity, cutting through complexity to focus on core economic realities. This pragmatic approach allows them to make value-enhancing decisions and avoid value-destroying ones.\n",
      "\n",
      "6. **Minimal Reliance on External Advice**: These CEOs are comfortable making decisions with minimal input from outside consultants, relying on their own analytical skills and judgment.\n",
      "\n",
      "7. **Adaptability**: They optimize within given circumstances, adapting their strategies to the unique challenges and opportunities they face.\n",
      "\n",
      "Overall, the success of these CEOs is attributed to their ability to think independently, act boldly when necessary, and maintain a disciplined focus on long-term value creation.\n"
     ]
    }
   ],
   "source": [
    "print(response)"
   ]
  }
 ],
 "metadata": {
  "kernelspec": {
   "display_name": "Python 3 (ipykernel)",
   "language": "python",
   "name": "python3"
  },
  "language_info": {
   "codemirror_mode": {
    "name": "ipython",
    "version": 3
   },
   "file_extension": ".py",
   "mimetype": "text/x-python",
   "name": "python",
   "nbconvert_exporter": "python",
   "pygments_lexer": "ipython3",
   "version": "3.12.3"
  }
 },
 "nbformat": 4,
 "nbformat_minor": 5
}
