{
 "cells": [
  {
   "cell_type": "code",
   "execution_count": 4,
   "id": "42dd779b-b829-4b0a-910e-613f1f9e6f25",
   "metadata": {},
   "outputs": [],
   "source": [
    "import subprocess\n",
    "import shlex\n",
    "from typing import Optional\n",
    "\n",
    "import pandas as pd\n",
    "import networkx as nx\n",
    "import matplotlib.pyplot as plt\n",
    "\n",
    "from langchain_openai import ChatOpenAI\n",
    "from langchain_text_splitters import TokenTextSplitter\n",
    "from langchain_core.prompts import ChatPromptTemplate\n",
    "from langchain_core.output_parsers import StrOutputParser"
   ]
  },
  {
   "cell_type": "code",
   "execution_count": 5,
   "id": "befd86e6-4d9a-4453-82aa-6b76dab18ccc",
   "metadata": {},
   "outputs": [],
   "source": [
    "main_path = \"/home/aswath/Projects/deep_learning/backup_brain/test_2/\""
   ]
  },
  {
   "cell_type": "markdown",
   "id": "6abb88af-6184-4999-89a7-7ab2965a47c6",
   "metadata": {},
   "source": [
    "#### load data"
   ]
  },
  {
   "cell_type": "code",
   "execution_count": 6,
   "id": "966eb964-b833-4d81-980c-30023b703d0e",
   "metadata": {},
   "outputs": [],
   "source": [
    "entities_path = main_path + \"output/entities.parquet\"\n",
    "communities_path = main_path + \"output/communities.parquet\"\n",
    "community_reports_path = main_path + \"output/community_reports.parquet\"\n",
    "documents_path = main_path + \"output/documents.parquet\"\n",
    "relationships_path = \"output/relationships.parquet\"\n",
    "\n",
    "entity_df = pd.read_parquet(entities_path)\n",
    "community_df = pd.read_parquet(communities_path)\n",
    "community_report_df = pd.read_parquet(community_reports_path)\n",
    "documents_df = pd.read_parquet(documents_path)\n",
    "relationships_df = pd.read_parquet(relationships_path)"
   ]
  },
  {
   "cell_type": "code",
   "execution_count": 15,
   "id": "c469db27-dd31-4915-96a7-d67dade4082b",
   "metadata": {},
   "outputs": [],
   "source": [
    "def ask_graph(query, root_path, method = \"global\", timeout = None, community_level = 2, dynamic_community_selection = False):    \n",
    "    if community_level < 0:\n",
    "        raise ValueError(\"Community level must be non-negative\")\n",
    "    \n",
    "    command = ['graphrag', 'query', '--root', root_path, '--method', method, '--query', query, '--community-level', str(community_level)]\n",
    "    if dynamic_community_selection:\n",
    "        command.append('--dynamic-community-selection')\n",
    "\n",
    "    result = subprocess.run(command, capture_output=True, text=True, timeout=timeout)\n",
    "    result.check_returncode()\n",
    "    \n",
    "    return result"
   ]
  },
  {
   "cell_type": "code",
   "execution_count": null,
   "id": "c8dc016e-28b7-46cd-abb0-6bb9d436ada4",
   "metadata": {},
   "outputs": [],
   "source": [
    "result_local = ask_graph(\n",
    "    query=\"Give me the best CEO's and the reasons behind it\",\n",
    "    root_path = \"/home/aswath/Projects/deep_learning/backup_brain/test_2\",\n",
    "    method=\"local\"\n",
    ")\n",
    "\n",
    "result_global = ask_graph(\n",
    "    query=\"Give me the best CEO's and the reasons behind it\",\n",
    "    root_path = \"/home/aswath/Projects/deep_learning/backup_brain/test_2\",\n",
    "    method=\"global\"\n",
    ")"
   ]
  },
  {
   "cell_type": "markdown",
   "id": "2e50de65-a15e-4767-b3ff-c0ad09a28cb2",
   "metadata": {},
   "source": [
    "### Global Search Response"
   ]
  },
  {
   "cell_type": "code",
   "execution_count": 28,
   "id": "42557248-eff2-4f4b-a7a1-d8af1d032444",
   "metadata": {
    "scrolled": true
   },
   "outputs": [
    {
     "name": "stdout",
     "output_type": "stream",
     "text": [
      "SUCCESS: Global Search Response:\n",
      "### Warren Buffett\n",
      "\n",
      "Warren Buffett, the chairman and CEO of Berkshire Hathaway, is widely regarded as one of the best CEOs due to his strategic investment decisions and leadership. His ability to identify and capitalize on opportunities during financial crises has been pivotal in maintaining the company's success. For instance, following the 2008 Lehman Brothers collapse, Buffett made strategic investments that significantly benefited Berkshire Hathaway. His shift from traditional value investing to prioritizing companies with strong brands reflects his adaptability and insight into market dynamics [Data: Reports (1, 7, 8, 9)].\n",
      "\n",
      "### Charlie Munger\n",
      "\n",
      "Charlie Munger, the vice chairman of Berkshire Hathaway, has played a significant role in shaping Warren Buffett's investment strategy. His insights have been instrumental in the company's shift towards investing in companies with strong competitive advantages. Munger's partnership with Buffett is a cornerstone of Berkshire Hathaway's success, highlighting the importance of collaborative leadership in the business world [Data: Reports (8, 1, 7)].\n",
      "\n",
      "### John Malone\n",
      "\n",
      "John Malone is known for his aggressive capital allocation strategies, which were crucial in steering Liberty Media through the financial crisis. His leadership involved strategic financial maneuvers that leveraged Liberty Media's assets to ensure growth and stability. Malone's approach to capital allocation during this period exemplifies how strategic leadership can navigate companies through economic turbulence [Data: Reports (3)].\n",
      "\n",
      "### William Stiritz\n",
      "\n",
      "William Stiritz is recognized for his independent and analytical approach to management, focusing on key financial metrics rather than traditional accounting measures. His strategic mindset is akin to that of private equity, prioritizing acquisitions that enhance the company's financial standing. Stiritz's influence extends beyond his direct business activities, as he shapes the management styles of future business leaders [Data: Reports (2)].\n",
      "\n",
      "These leaders exemplify different aspects of effective leadership, from strategic investment and adaptability to collaborative leadership and innovative management approaches. Each has made significant contributions to their respective companies, demonstrating the diverse qualities that can define a successful CEO.\n"
     ]
    }
   ],
   "source": [
    "print(result_global.stdout.strip())"
   ]
  },
  {
   "cell_type": "markdown",
   "id": "4ee552b9-b9f9-4a13-b892-9823abf563ac",
   "metadata": {},
   "source": [
    "### Local Search Response"
   ]
  },
  {
   "cell_type": "code",
   "execution_count": 27,
   "id": "291cec26-3eed-40f7-8524-c93c65aed2ec",
   "metadata": {},
   "outputs": [
    {
     "name": "stdout",
     "output_type": "stream",
     "text": [
      "INFO: Vector Store Args: {\n",
      "    \"default_vector_store\": {\n",
      "        \"type\": \"lancedb\",\n",
      "        \"db_uri\": \"/home/aswath/Projects/deep_learning/backup_brain/test_2/output/lancedb\",\n",
      "        \"url\": null,\n",
      "        \"audience\": null,\n",
      "        \"container_name\": \"==== REDACTED ====\",\n",
      "        \"database_name\": null,\n",
      "        \"overwrite\": true\n",
      "    }\n",
      "}\n",
      "\n",
      "SUCCESS: Local Search Response:\n",
      "Determining the \"best\" CEOs can be subjective and depends on various criteria such as leadership style, financial performance, innovation, and impact on the industry. However, based on the data provided, we can highlight some notable CEOs and the reasons for their recognition.\n",
      "\n",
      "### Warren Buffett\n",
      "\n",
      "**Leadership and Strategic Acquisitions**  \n",
      "Warren Buffett, the chairman and CEO of Berkshire Hathaway, is widely regarded as one of the most successful investors of all time. His leadership is characterized by strategic acquisitions and investments that have significantly contributed to Berkshire Hathaway's growth and influence. Buffett's ability to identify and capitalize on opportunities during financial crises, such as his investments following the 2008 Lehman Brothers collapse, has been pivotal in maintaining the company's success [Data: Reports (1, 8); Entities (29); Relationships (28, 64, 65)].\n",
      "\n",
      "**Investment Philosophy**  \n",
      "Buffett's investment strategy evolved from traditional value investing to focusing on companies with strong brands and market positions. This adaptability has allowed Berkshire Hathaway to thrive even during economic downturns. His contrarian insight, influenced by Charlie Munger, led him to invest in consumer brands and media properties, emphasizing long-term growth and market dominance [Data: Reports (8); Sources (46)].\n",
      "\n",
      "### Charlie Munger\n",
      "\n",
      "**Influence on Investment Strategy**  \n",
      "Charlie Munger, the vice chairman of Berkshire Hathaway, has played a crucial role in shaping the company's investment strategy. His insights and strategic thinking have been instrumental in the company's shift towards investing in companies with strong competitive advantages. Munger's partnership with Buffett is a cornerstone of Berkshire Hathaway's success, highlighting the importance of collaborative leadership in the business world [Data: Reports (1, 8); Entities (30); Relationships (27, 58)].\n",
      "\n",
      "### John Malone\n",
      "\n",
      "**Aggressive Capital Allocation**  \n",
      "John Malone, known for his aggressive capital allocation strategies, particularly during financial crises, has been a significant figure in the media industry. His leadership of Liberty Media and its entities during the financial crisis following the Lehman Brothers collapse demonstrated his ability to navigate complex financial landscapes and capitalize on distressed opportunities [Data: Entities (61); Relationships (67, 68); Sources (55)].\n",
      "\n",
      "### Stiritz\n",
      "\n",
      "**Innovative Management Approach**  \n",
      "Stiritz is recognized for his independent and analytical approach to management, focusing on key financial metrics and avoiding traditional accounting measures. His strategic acquisitions and private equity-like mindset in managing Ralston emphasized cash flow and shareholder value. Stiritz's approach to sourcing acquisitions through direct contact with sellers and his disdain for traditional financial models set him apart as a forward-thinking leader [Data: Entities (0); Relationships (0, 6); Sources (38)].\n",
      "\n",
      "### Conclusion\n",
      "\n",
      "These CEOs have demonstrated exceptional leadership and strategic thinking, contributing to their companies' success and setting benchmarks in their respective industries. Their ability to adapt to changing market conditions, focus on long-term growth, and make strategic acquisitions are key factors that have earned them recognition as some of the best CEOs.\n"
     ]
    }
   ],
   "source": [
    "print(result_local.stdout.strip())"
   ]
  },
  {
   "cell_type": "markdown",
   "id": "c569fe24-67fa-42ef-92d8-ff27d5b248b4",
   "metadata": {},
   "source": [
    "### Response from model\n",
    "\n",
    "The \"best\" CEOs can vary depending on the criteria—such as innovation, shareholder returns, leadership during crises, or long-term vision. However, here are some widely recognized CEOs and the reasons behind their acclaim:\n",
    "\n",
    "---\n",
    "\n",
    "##### **Satya Nadella – Microsoft**\n",
    "\n",
    "* **Why**: Transformed Microsoft from a stagnating legacy tech company into a cloud powerhouse with Azure.\n",
    "* **Impact**: Stock price surged over 800% since he became CEO in 2014. Fostered a more open, collaborative culture.\n",
    "* **Vision**: Shifted focus from Windows to cloud services, AI, and enterprise tools.\n",
    "\n",
    "---\n",
    "\n",
    "##### **Tim Cook – Apple**\n",
    "\n",
    "* **Why**: Successfully succeeded Steve Jobs and turned Apple into the world’s first \\$3 trillion company.\n",
    "* **Impact**: Streamlined supply chains, massively grew revenue, and expanded into new product lines like Apple Watch and services.\n",
    "* **Vision**: Focused on sustainability, privacy, and services diversification.\n",
    "\n",
    "---\n",
    "\n",
    "##### **Elon Musk – Tesla / SpaceX**\n",
    "\n",
    "* **Why**: Disrupted the automotive and aerospace industries simultaneously.\n",
    "* **Impact**: Made EVs mainstream and drastically lowered the cost of launching payloads into space.\n",
    "* **Vision**: Committed to solving global problems like climate change and space colonization.\n",
    "\n",
    "---\n",
    "\n",
    "##### **Reed Hastings – Netflix (former)**\n",
    "\n",
    "* **Why**: Pioneered streaming and revolutionized how the world consumes media.\n",
    "* **Impact**: Took Netflix from a DVD rental business to a global content and tech company.\n",
    "* **Vision**: Always focused on future media trends, even cannibalizing his own model to stay ahead.\n",
    "\n",
    "---\n",
    "\n",
    "##### **Jensen Huang – NVIDIA**\n",
    "\n",
    "* **Why**: Positioned NVIDIA as the core enabler of AI and GPU computing.\n",
    "* **Impact**: Market cap exploded due to AI boom. Dominates GPU tech crucial for gaming, AI, and data centers.\n",
    "* **Vision**: Focused on being not just a chipmaker but a full-stack AI company.\n",
    "\n",
    "---\n",
    "\n",
    "##### **Mary Barra – General Motors**\n",
    "\n",
    "* **Why**: First female CEO of a major global automaker, pushing hard into EVs and autonomous driving.\n",
    "* **Impact**: Reoriented GM toward a more sustainable future, including investments in EV platform Ultium.\n",
    "* **Vision**: Committed to zero crashes, zero emissions, and zero congestion.\n",
    "\n",
    "---\n",
    "\n",
    "##### **Andy Jassy – Amazon (current)**\n",
    "\n",
    "* **Why**: Successfully transitioned from AWS CEO to leading Amazon as a whole.\n",
    "* **Impact**: Managing complex operations across retail, AWS, logistics, and more during uncertain economic times.\n",
    "* **Vision**: Focused on long-term investments and operational discipline."
   ]
  },
  {
   "cell_type": "code",
   "execution_count": null,
   "id": "a4c3f79b-771c-49d9-b4fa-d26ce3515d99",
   "metadata": {},
   "outputs": [],
   "source": []
  }
 ],
 "metadata": {
  "kernelspec": {
   "display_name": "Python 3 (ipykernel)",
   "language": "python",
   "name": "python3"
  },
  "language_info": {
   "codemirror_mode": {
    "name": "ipython",
    "version": 3
   },
   "file_extension": ".py",
   "mimetype": "text/x-python",
   "name": "python",
   "nbconvert_exporter": "python",
   "pygments_lexer": "ipython3",
   "version": "3.12.3"
  }
 },
 "nbformat": 4,
 "nbformat_minor": 5
}
