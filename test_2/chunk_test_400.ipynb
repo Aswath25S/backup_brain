{
 "cells": [
  {
   "cell_type": "code",
   "execution_count": 1,
   "id": "b836b372-bcaf-4f80-9e56-859c03cdc4fb",
   "metadata": {},
   "outputs": [],
   "source": [
    "import os\n",
    "import chromadb\n",
    "import openai\n",
    "import tiktoken\n",
    "from chromadb.utils import embedding_functions\n",
    "\n",
    "from chunking_evaluation.utils import openai_token_count\n",
    "from chunking_evaluation.chunking import ClusterSemanticChunker, LLMSemanticChunker, FixedTokenChunker\n",
    "from chunking_evaluation.chunking import RecursiveTokenChunker, KamradtModifiedChunker\n",
    "\n",
    "from langchain_openai import ChatOpenAI\n",
    "from langchain_core.prompts import ChatPromptTemplate\n",
    "from langchain_experimental.text_splitter import SemanticChunker\n",
    "from langchain_openai.embeddings import OpenAIEmbeddings\n",
    "from langchain_core.output_parsers import StrOutputParser\n",
    "from langchain_text_splitters import TokenTextSplitter"
   ]
  },
  {
   "cell_type": "code",
   "execution_count": 2,
   "id": "a5cfc2eb-8ff8-4f3b-b6cc-a5c0b540b3e6",
   "metadata": {},
   "outputs": [],
   "source": [
    "main_path = \"/home/aswath/Projects/deep_learning/backup_brain/test_2/\"\n",
    "input_path = main_path + \"input/outsiders.txt\"\n",
    "\n",
    "with open(input_path, 'r') as file:\n",
    "    document = file.read()"
   ]
  },
  {
   "cell_type": "code",
   "execution_count": 3,
   "id": "22166369-6906-4608-915b-022fb708feb9",
   "metadata": {},
   "outputs": [
    {
     "name": "stdout",
     "output_type": "stream",
     "text": [
      "The OUTSIDERS\n",
      "\n",
      "\n",
      "\n",
      "Introduction\n",
      "\n",
      "An Intelligent Iconoclasm\n",
      "\n",
      "It is impossible to produce superior performance unless you do something different.\n",
      "\n",
      "—John Templeton\n",
      "\n",
      "\n",
      "The New Yorker’s Atul Gawande uses the term positive deviant to describe unusually effective performers in the field of medicine. To Gawande, it is natural that we should study these outliers in order to learn from them and improve performance.1\n",
      "\n",
      "Surprisingly, in business the best are not studied as closely as in other fields like medicine, the law, politics, or sports. After studying Henry Singleton, I began, with the help of a talented group of Harvard MBA students, to look for other cases where one company handily beat both its peers and Jack Welch (in terms of relative market performance). It turned out, as Warren Buffett’s quote in the preface suggests, that these companies (and CEOs) were rare as hen’s teeth. After extensive searching in databases at Harvard Business School’s Baker Library, we came across only seven other\n"
     ]
    }
   ],
   "source": [
    "print(document[:1000])"
   ]
  },
  {
   "cell_type": "markdown",
   "id": "6172ad39-88f9-4707-9731-22b022ff5694",
   "metadata": {},
   "source": [
    "### General Helper Functions"
   ]
  },
  {
   "cell_type": "code",
   "execution_count": 4,
   "id": "4b9190b6-3a33-49d0-a079-609baf6a1edd",
   "metadata": {},
   "outputs": [],
   "source": [
    "def analyze_chunks(chunks, use_tokens=False):\n",
    "    # Print the chunks of interest\n",
    "    print(\"\\nNumber of Chunks:\", len(chunks))\n",
    "    print(\"\\n\", \"=\"*50, \"10th Chunk\", \"=\"*50,\"\\n\", chunks[9])\n",
    "    print(\"\\n\", \"=\"*50, \"11st Chunk\", \"=\"*50,\"\\n\", chunks[10])\n",
    "    \n",
    "    chunk1, chunk2 = chunks[9], chunks[10]\n",
    "    \n",
    "    if use_tokens:\n",
    "        encoding = tiktoken.get_encoding(\"cl100k_base\")\n",
    "        tokens1 = encoding.encode(chunk1)\n",
    "        tokens2 = encoding.encode(chunk2)\n",
    "        \n",
    "        # Find overlapping tokens\n",
    "        for i in range(len(tokens1), 0, -1):\n",
    "            if tokens1[-i:] == tokens2[:i]:\n",
    "                overlap = encoding.decode(tokens1[-i:])\n",
    "                print(\"\\n\", \"=\"*50, f\"\\nOverlapping text ({i} tokens):\", overlap)\n",
    "                return\n",
    "        print(\"\\nNo token overlap found\")\n",
    "    else:\n",
    "        # Find overlapping characters\n",
    "        for i in range(min(len(chunk1), len(chunk2)), 0, -1):\n",
    "            if chunk1[-i:] == chunk2[:i]:\n",
    "                print(\"\\n\", \"=\"*50, f\"\\nOverlapping text ({i} chars):\", chunk1[-i:])\n",
    "                return\n",
    "        print(\"\\nNo character overlap found\")"
   ]
  },
  {
   "cell_type": "markdown",
   "id": "1fe9f2c3-3686-4053-a7d9-4770f980bc95",
   "metadata": {},
   "source": [
    "### Simple Split"
   ]
  },
  {
   "cell_type": "code",
   "execution_count": 5,
   "id": "b601809a-a0a9-4a94-bf65-dc4654d00768",
   "metadata": {},
   "outputs": [],
   "source": [
    "def chunk_text(document, chunk_size, overlap):\n",
    "    chunks = []\n",
    "    stride = chunk_size - overlap\n",
    "    current_idx = 0\n",
    "    \n",
    "    while current_idx < len(document):\n",
    "        # Take chunk_size characters starting from current_idx\n",
    "        chunk = document[current_idx:current_idx + chunk_size]\n",
    "        if not chunk:  # Break if we're out of text\n",
    "            break\n",
    "        chunks.append(chunk)\n",
    "        current_idx += stride  # Move forward by stride\n",
    "    \n",
    "    return chunks"
   ]
  },
  {
   "cell_type": "code",
   "execution_count": 6,
   "id": "eb93ea6a-6b66-4034-bd85-036513b70059",
   "metadata": {},
   "outputs": [
    {
     "name": "stdout",
     "output_type": "stream",
     "text": [
      "\n",
      "Number of Chunks: 1059\n",
      "\n",
      " ================================================== 10th Chunk ================================================== \n",
      " . Only two had MBAs. As a group, they did not attract or seek the spotlight. Rather, they labored in relative obscurity and were generally appreciated by only a handful of sophisticated investors and aficionados.\n",
      "\n",
      "As a group, they shared old-fashioned, premodern values including frugality, humility, independence, and an unusual combination of conservatism and boldness. They typically worked out of\n",
      "\n",
      " ================================================== 11st Chunk ================================================== \n",
      "  independence, and an unusual combination of conservatism and boldness. They typically worked out of bare-bones offices (of which they were inordinately proud), generally eschewed perks such as corporate planes, avoided the spotlight wherever possible, and rarely communicated with Wall Street or the business press. They also actively avoided bankers and other advisers, preferring their own counsel\n",
      "\n",
      " ================================================== \n",
      "Overlapping text (100 chars):  independence, and an unusual combination of conservatism and boldness. They typically worked out of\n"
     ]
    }
   ],
   "source": [
    "simp_chunks = chunk_text(document, chunk_size=400, overlap=100)\n",
    "analyze_chunks(simp_chunks)"
   ]
  },
  {
   "cell_type": "markdown",
   "id": "13792fcc-0a53-4bda-83c0-a4c8630805ed",
   "metadata": {},
   "source": [
    "### Token Split"
   ]
  },
  {
   "cell_type": "code",
   "execution_count": 7,
   "id": "2fa6a60d-1d2f-4e44-9062-6547aac2731f",
   "metadata": {},
   "outputs": [],
   "source": [
    "def count_tokens(text, model=\"cl100k_base\"):\n",
    "    encoder = tiktoken.get_encoding(model)\n",
    "    return print(f\"Number of tokens: {len(encoder.encode(text))}\")"
   ]
  },
  {
   "cell_type": "code",
   "execution_count": 8,
   "id": "4d523413-52fd-4001-a4c4-72fc26cefd9b",
   "metadata": {},
   "outputs": [
    {
     "name": "stdout",
     "output_type": "stream",
     "text": [
      "Tokens: [28400, 1625, 63811, 1625, 7731, 389, 279, 6558]\n",
      "Token 1: hum\n",
      "Token 2: pty\n",
      "Token 3:  dum\n",
      "Token 4: pty\n",
      "Token 5:  sat\n",
      "Token 6:  on\n",
      "Token 7:  the\n",
      "Token 8:  floor\n",
      "Full Decoding:  humpty dumpty sat on the floor\n"
     ]
    }
   ],
   "source": [
    "encoder = tiktoken.get_encoding(\"cl100k_base\")\n",
    "\n",
    "text = \"humpty dumpty sat on the floor\"\n",
    "tokens = encoder.encode(text)\n",
    "\n",
    "print(\"Tokens:\", tokens)\n",
    "\n",
    "for i in range(len(tokens)):\n",
    "    print(f\"Token {i+1}:\", encoder.decode([tokens[i]]))\n",
    "\n",
    "print(\"Full Decoding: \", encoder.decode(tokens))"
   ]
  },
  {
   "cell_type": "code",
   "execution_count": 9,
   "id": "b7a0c414-45ff-4baa-8ad3-7dd6674a2e5e",
   "metadata": {},
   "outputs": [
    {
     "name": "stdout",
     "output_type": "stream",
     "text": [
      "\n",
      "Number of Chunks: 1048\n",
      "\n",
      " ================================================== 10th Chunk ================================================== \n",
      "  spotlight. Rather, they labored in relative obscurity and were generally appreciated by only a handful of sophisticated investors and aficionados.\n",
      "\n",
      "As a group, they shared old-fashioned, premodern values including frugality, humility, independence, and an unusual combination of conservatism and boldness. They typically worked out of bare-bones offices (of\n",
      "\n",
      " ================================================== 11st Chunk ================================================== \n",
      "  out of bare-bones offices (of which they were inordinately proud), generally eschewed perks such as corporate planes, avoided the spotlight wherever possible, and rarely communicated with Wall Street or the business press. They also actively avoided bankers and other advisers, preferring their own counsel and that of a select group around them. Ben Franklin would\n",
      "\n",
      " ================================================== \n",
      "Overlapping text (8 tokens):  out of bare-bones offices (of\n"
     ]
    }
   ],
   "source": [
    "fixed_token_chunker = FixedTokenChunker(chunk_size=68, chunk_overlap=8, encoding_name=\"cl100k_base\")\n",
    "token_chunks = fixed_token_chunker.split_text(document)\n",
    "analyze_chunks(token_chunks, use_tokens=True)"
   ]
  },
  {
   "cell_type": "code",
   "execution_count": 10,
   "id": "0c7dff2a-7726-48c3-a24d-5c4a854746df",
   "metadata": {},
   "outputs": [
    {
     "name": "stdout",
     "output_type": "stream",
     "text": [
      "Number of tokens: 68\n"
     ]
    }
   ],
   "source": [
    "count_tokens(token_chunks[0])"
   ]
  },
  {
   "cell_type": "markdown",
   "id": "9abbf1f0-35b5-4528-a865-b495d85eaed8",
   "metadata": {},
   "source": [
    "### Recursive Character Split"
   ]
  },
  {
   "cell_type": "code",
   "execution_count": 11,
   "id": "8ce2894f-5a4e-4df2-9268-afe1e78b9b60",
   "metadata": {},
   "outputs": [
    {
     "name": "stdout",
     "output_type": "stream",
     "text": [
      "\n",
      "Number of Chunks: 1253\n",
      "\n",
      " ================================================== 10th Chunk ================================================== \n",
      " The residents of Singletonville, however, represent a refreshing rejoinder to this stereotype. All were first-time CEOs, most with very little prior management experience. Not one came to the job from a high-profile position, and all but one were new to their industries and companies. Only two had MBAs. As a group, they did not attract or seek the spotlight\n",
      "\n",
      " ================================================== 11st Chunk ================================================== \n",
      " . Only two had MBAs. As a group, they did not attract or seek the spotlight. Rather, they labored in relative obscurity and were generally appreciated by only a handful of sophisticated investors and aficionados.\n",
      "\n",
      " ================================================== \n",
      "Overlapping text (75 chars): . Only two had MBAs. As a group, they did not attract or seek the spotlight\n"
     ]
    }
   ],
   "source": [
    "recursive_character_chunker = RecursiveTokenChunker(chunk_size=400, chunk_overlap=100, length_function=len, separators=[\"\\n\\n\", \"\\n\", \".\", \"?\", \"!\", \" \", \"\"])\n",
    "rec_ch_chunks = recursive_character_chunker.split_text(document)\n",
    "analyze_chunks(rec_ch_chunks, use_tokens=False)"
   ]
  },
  {
   "cell_type": "code",
   "execution_count": 12,
   "id": "fe633509-5dd5-4447-811f-0fcddb3abf18",
   "metadata": {},
   "outputs": [
    {
     "data": {
      "text/plain": [
       "149"
      ]
     },
     "execution_count": 12,
     "metadata": {},
     "output_type": "execute_result"
    }
   ],
   "source": [
    "len(rec_ch_chunks[71])"
   ]
  },
  {
   "cell_type": "markdown",
   "id": "5ecfa155-ab1b-4a64-96df-0ad008cfbb42",
   "metadata": {},
   "source": [
    "### Recursive Token Split"
   ]
  },
  {
   "cell_type": "code",
   "execution_count": 85,
   "id": "33dd7abb-1a84-418a-add6-b4359585c1a3",
   "metadata": {
    "scrolled": true
   },
   "outputs": [
    {
     "name": "stdout",
     "output_type": "stream",
     "text": [
      "\n",
      "Number of Chunks: 785\n",
      "\n",
      " ================================================== 10th Chunk ================================================== \n",
      " The word iconoclast is derived from Greek and means “smasher of icons.” The word has evolved to have the more general meaning of someone who is determinedly different, proudly eccentric. The original iconoclasts came from outside the societies (and temples) where icons resided; they were challengers of societal norms and conventions, and they were much feared in ancient Greece\n",
      "\n",
      " ================================================== 11st Chunk ================================================== \n",
      " . The CEOs profiled in this book were not nearly so fearsome, but they did share interesting similarities with their ancient forbears: they were also outsiders, disdaining long-accepted conventional approaches (like paying dividends or avoiding share repurchases) and relishing their unorthodoxy.\n",
      "\n",
      "No token overlap found\n"
     ]
    }
   ],
   "source": [
    "recursive_token_chunker = RecursiveTokenChunker(chunk_size=120, chunk_overlap=12, length_function=openai_token_count, separators=[\"\\n\\n\", \"\\n\", \".\", \"?\", \"!\", \" \", \"\"])\n",
    "rec_tk_chunks = recursive_token_chunker.split_text(document)\n",
    "analyze_chunks(rec_tk_chunks, use_tokens=True)"
   ]
  },
  {
   "cell_type": "markdown",
   "id": "a24bf2c1-b48c-45ce-9786-f59b85fe904a",
   "metadata": {},
   "source": [
    "### Semantic Chunker"
   ]
  },
  {
   "cell_type": "markdown",
   "id": "b2689da1-9813-45c2-be4f-75f0fd6f2ec1",
   "metadata": {},
   "source": [
    "#### Lang Chain Semantic Chunker"
   ]
  },
  {
   "cell_type": "code",
   "execution_count": 17,
   "id": "3333ee41-1889-44c9-a73e-06a9579f2e08",
   "metadata": {},
   "outputs": [],
   "source": [
    "openai.api_key = 'dummy_val'"
   ]
  },
  {
   "cell_type": "code",
   "execution_count": 18,
   "id": "8a2e39cb-124a-4d9a-ad66-021117a15092",
   "metadata": {},
   "outputs": [],
   "source": [
    "embedding_function = embedding_functions.OpenAIEmbeddingFunction(api_key=openai.api_key, model_name=\"text-embedding-3-large\")"
   ]
  },
  {
   "cell_type": "code",
   "execution_count": 19,
   "id": "cea68ffe-bf02-41e9-a0f4-0e6ce6ac8235",
   "metadata": {},
   "outputs": [],
   "source": [
    "lc_semantic_chunker = SemanticChunker(OpenAIEmbeddings(api_key=openai.api_key))\n",
    "lc_semantic_chunks = lc_semantic_chunker.create_documents([document])"
   ]
  },
  {
   "cell_type": "code",
   "execution_count": 20,
   "id": "43872f1a-fa2e-4bb4-b944-33f6640457df",
   "metadata": {
    "scrolled": true
   },
   "outputs": [
    {
     "name": "stdout",
     "output_type": "stream",
     "text": [
      "# of Chunks: 111 \n",
      "\n",
      ". take a bite of something else.”3 What’s interesting, however, is that his peers at other media companies didn’t follow this path. Rather, they tended, like CBS, to follow fashion and diversify into unrelated businesses, build large corporate staffs, and overpay for marquee media properties. Capital Cities under Murphy was an extremely successful example of what we would now call a roll-up. In a typical roll-up, a company acquires a series of businesses, attempts to improve operations, and then keeps acquiring, benefiting over time from scale advantages and best management practices. This concept came into vogue in the mid- to late 1990s and flamed out in the early 2000s as many of the leading companies collapsed under the burden of too much debt. These companies typically failed because they acquired too rapidly and underestimated the difficulty and importance of integrating acquisitions and improving operations. Murphy’s approach to the roll-up was different. He moved slowly, developed real operational expertise, and focused on a small number of large acquisitions that he knew to be high-probability bets. Under Murphy, Capital Cities combined excellence in both operations and capital allocation to an unusual degree. As Murphy told me, “The business of business is a lot of little decisions every day mixed up with a few big decisions.”\n",
      "\n",
      ". . . Tom Murphy was born in 1925 in Brooklyn, New York. He served in the navy in World War II, graduated from Cornell on the GI Bill, and was a prominent member of the legendary Harvard Business School (HBS) class of 1949 (whose graduates included a future SEC chairman and numerous successful entrepreneurs and Fortune 500 CEOs). After graduation from HBS, Murphy worked as a product manager for consumer packaged goods giant Lever Brothers. Ironically (since he’s a teetotaler), his life changed irrevocably when he attended a summer cocktail party in 1954 at his parents’ home in Schenectady, New York. His father, a prominent local judge, had also invited a longtime friend, Frank Smith, the business manager for famed broadcast journalist Lowell Thomas and a serial entrepreneur. Smith immediately pigeonholed Murphy and began to tell him about his latest venture—WTEN, a struggling UHF TV station in Albany that Smith had just purchased out of bankruptcy. The station was located in an abandoned former convent, and before the evening was over, young Murphy had agreed to leave his prestigious job in New York and relocate to Albany to run it. He had no broadcasting experience nor for that matter any relevant management experience of any kind. From the outset, Smith managed the business from his office in downtown Manhattan, leaving day-to-day operations largely to Murphy. After a couple of years of operating losses, Murphy turned the station into a consistent cash generator by improving programming and aggressively managing costs, a formula that the company would apply repeatedly in the years ahead. In 1957, Smith and Murphy bought a second station, in Raleigh, North Carolina, this one located in a former sanitarium. After the addition of a third station, in Providence, Rhode Island, the company adopted the name Capital Cities. In 1961, Murphy hired Dan Burke, a thirty-year-old Harvard MBA—also with no prior broadcast experience—as his replacement at the Albany station. Burke had been originally introduced to Murphy in the late 1950s by his older brother Jim, who was a classmate of Murphy’s at HBS and a rising young executive at Johnson & Johnson (he would eventually become CEO and win accolades for his handling of the Tylenol crisis in the mid-1980s). Dan Burke had served in the Korean War and then entered HBS, graduating in the class of 1955. He then joined General Foods as a product manager in the Jell-O division and, in 1961, signed on with Capital Cities, where Murphy quickly indoctrinated him into the company’s lean, decentralized operating philosophy, which he would come to exemplify. Murphy then moved to New York to work with Smith to build the company through acquisition. Over the next four years, under Smith and Murphy’s direction, Capital Cities grew by selectively acquiring additional radio and television stations, until Smith’s death in 1966. After Smith’s death, Murphy became CEO (at age forty). The company had finished the preceding year with revenue of just $28 million. Murphy’s first move was to elevate Burke to the role of president and chief operating officer. Theirs was an excellent partnership with a very clear division of labor: Burke was responsible for daily management of operations, and Murphy for acquisitions, capital allocation, and occasional interaction with Wall Street. As Burke told me, “Our relationship was built on a foundation of mutual respect. I had an appetite for and a willingness to do things that Murphy was not interested in doing.” Burke believed his “job was to create the free cash flow and Murphy’s was to spend it.”4 He exemplifies the central role played in this book by exceptionally strong COOs whose close oversight of operations allowed their CEO partners to focus on longer-term strategic and capital allocation issues. Once in the CEO seat, it did not take Murphy long to make his mark. In 1967, he bought KTRK, the Houston ABC affiliate, for $22 million—the largest acquisition in broadcast history up to that time. In 1968, Murphy bought Fairchild Communications, a leading publisher of trade magazines, for $42 million. And in 1970, he made his largest purchase yet with the acquisition of broadcaster Triangle Communications from Walter Annenberg for $120 million. After the Triangle transaction, Capital Cities owned five VHF TV stations, the maximum then allowed by the FCC. Murphy next turned his attention to newspaper publishing, which, as an advertising-driven business with attractive margins and strong competitive barriers, had close similarities to the broadcasting business. After purchasing several small dailies in the early 1970s, he bought the Fort Worth Telegram for $75 million in 1974 and the Kansas City Star for $95 million in 1977. In 1980, looking for other growth avenues in related businesses, he entered the nascent cable television business with the purchase of Cablecom for $139 million. During the extended bear market of the mid-1970s to early 1980s, Murphy became an aggressive purchaser of his own shares, eventually buying in close to 50 percent, most of it at single-digit price-to-earnings (P/E) multiples. In 1984, the FCC relaxed its station ownership rules, and in January 1986, Murphy, in his masterstroke, bought the ABC Network and its related broadcasting assets (including major-market TV stations in New York, Chicago, and Los Angeles) for nearly $3.5 billion with financing from his friend Warren Buffett. The ABC deal was the largest non–oil and gas transaction in business history to that point and an enormous bet-the-company transaction for Murphy, representing over 100 percent of Capital Cities’ enterprise value. The acquisition stunned the media world and was greeted with the headline “Minnow Swallows Whale” in the Wall Street Journal. At closing, Burke said to media investor Gordon Crawford, “This is the acquisition I’ve been training for my whole life.”5\n",
      "\n",
      "The core economic rationale for the deal was Murphy’s conviction that he could improve the margins for ABC’s TV stations from the low thirties up to Capital Cities’ industry-leading levels (50-plus percent). Under Burke’s oversight, the staff that oversaw ABC’s TV station group dropped from sixty to eight, the head count at the flagship WABC station in New York was reduced from six hundred to four hundred, and the margin gap was closed in just two years. Burke and Murphy wasted little time in implementing Capital Cities’ lean, decentralized approach—immediately cutting unnecessary perks, such as the executive elevator and the private dining room, and moving quickly to eliminate redundant positions, laying off fifteen hundred employees in the first several months after the transaction closed. They also consolidated offices and sold off unnecessary real estate, collecting $175 million for the headquarters building in midtown Manhattan. As Bob Zelnick of ABC News said, “After the mid-80s, we stopped flying first class.”6\n",
      "\n",
      "A story from this time demonstrates the culture clash between network executives and the leaner, more entrepreneurial acquirers. ABC, in fact the whole broadcasting industry, was a limousine culture—one of the most cherished perks for an industry executive was the ability to take a limo for even a few blocks to lunch. Murphy, however, was a cab man and from very early on showed up to all ABC meetings in cabs. Before long, this practice rippled through the ABC executive ranks, and the broader Capital Cities ethos slowly began to permeate the ABC culture. When asked whether this was a case of leading by example, Murphy responded, “Is there any other way?”\n",
      "\n",
      "In the nine years after the transaction, revenues and cash flows grew significantly in every major ABC business line, including the TV stations, the publishing assets, and ESPN. Even the network, which had been in last place at the time of the acquisition, was ranked number one in prime time ratings and was more profitable than either CBS or NBC. Capital Cities never made another large-scale acquisition after the ABC deal, focusing instead on integration, smaller acquisitions, and continued stock repurchases. In 1993, immediately after his sixty-fifth birthday, Burke retired from Capital Cities, surprising even Murphy. (Burke subsequently bought the Portland Sea Dogs baseball team, where he oversaw the rebirth of that franchise, now one of the most respected in the minor leagues.)\n",
      "\n",
      "In the summer of 1995, Buffett suggested to Murphy that he sit down with Michael Eisner, the CEO of Disney, at the annual Allen & Company gathering of media nabobs in Sun Valley, Idaho. Murphy, who was seventy years old and without an apparent successor, agreed to meet Eisner, who had expressed an interest in buying the company. Over several days, Murphy negotiated an extraordinary $19 billion price for his shareholders, a multiple of 13.5 times cash flow and 28 times net income. Murphy took a seat on Disney’s board and subsequently retired from active management. He left behind an ecstatic group of shareholders—if you had invested a dollar with Tom Murphy as he became CEO in 1966, that dollar would have been worth $204 by the time he sold the company to Disney. That’s a remarkable 19.9 percent internal rate of return over twenty-nine years, significantly outpacing the 10.1 percent return for the S&P 500 and 13.2 percent return for an index of leading media companies over the same period. (The investment also proved lucrative for Warren Buffett, generating a compound annual return of greater than 20 percent for Berkshire Hathaway over a ten-year holding period.) As figure 1-1 shows, in his twenty-nine years at Capital Cities, Murphy outperformed the S&P by a phenomenal 16.7 times and his peers by almost fourfold. FIGURE 1-1\n",
      "\n",
      "Capital Cities’ stock performance\n",
      "\n",
      "\n",
      "\n",
      "Note: Media basket includes Taft Communications (September 1966–April 1986), Metromedia (September 1966–August 1980), Times Mirror (August 1966–January 1995), Cox Communications (September 1966–August 1985), Gannett (March 1969–January 1996), Knight Ridder (August 1969–January 1996), Harte-Hanks (February 1973–September 1984), and Dow Jones (December 1972–January 1996). The Nuts and Bolts\n",
      "\n",
      "One of the major themes in this book is resource allocation. There are two basic types of resources that any CEO needs to allocate: financial and human. We’ve touched on the former already. The latter is, however, also critically important, and here again the outsider CEOs shared an unconventional approach, one that emphasized flat organizations and dehydrated corporate staffs. There is a fundamental humility to decentralization, an admission that headquarters does not have all the answers and that much of the real value is created by local managers in the field. At no company was decentralization more central to the corporate ethos than at Capital Cities. The hallmark of the company’s culture—extraordinary autonomy for operating managers—was stated succinctly in a single paragraph on the inside cover of every Capital Cities annual report: “Decentralization is the cornerstone of our philosophy. Our goal is to hire the best people we can and give them the responsibility and authority they need to perform their jobs. All decisions are made at the local level. . . . We expect our managers . . . to be forever cost conscious and to recognize and exploit sales potential.”\n",
      "\n",
      "Headquarters staff was anorexic, and its primary purpose was to support the general managers of operating units. There were no vice presidents in functional areas like marketing, strategic planning, or human resources; no corporate counsel and no public relations department (Murphy’s secretary fielded all calls from the media). In the Capital Cities culture, the publishers and station managers had the power and prestige internally, and they almost never heard from New York if they were hitting their numbers. It was an environment that selected for and promoted independent, entrepreneurial general managers. The company’s guiding human resource philosophy, repeated ad infinitum by Murphy, was to “hire the best people you can and leave them alone.” As Burke told me, the company’s extreme decentralized approach “kept both costs and rancor down.”\n",
      "\n",
      "The guinea pig in the development of this philosophy was Dan Burke himself. In 1961, after he took over as general manager at WTEN, Burke began sending weekly memos to Murphy as he had been trained to do at General Foods. After several months of receiving no response, he stopped sending them, realizing his time was better spent on local operations than on reporting to headquarters. As Burke said in describing his early years in Albany, “Murphy delegates to the point of anarchy.”7\n",
      "\n",
      "Frugality was also central to the ethos. Murphy and Burke realized early on that while you couldn’t control your revenues at a TV station, you could control your costs. They believed that the best defense against the revenue lumpiness inherent in advertising-supported businesses was a constant vigilance on costs, which became deeply embedded in the company’s culture. In fact, in one of the earliest and most often told corporate legends, Murphy even scrutinized the company’s expenditures on paint. Shortly after Murphy arrived in Albany, Smith asked him to paint the dilapidated former convent that housed the studio to project a more professional image to advertisers. Murphy’s immediate response was to paint the two sides facing the road leaving the other sides untouched (“forever cost conscious”). A picture of WTEN still hangs in Murphy’s New York office. Murphy and Burke believed that even the smallest operating decisions, particularly those relating to head count, could have unforeseen long-term costs and needed to be watched constantly. Phil Meek, head of the publishing division, took this message to heart and ran the entire publishing operation (six daily newspapers, several magazine groups, and a stable of weekly shoppers) with only three people at headquarters, including an administrative assistant. Burke pursued economic efficiency with a zeal that earned him the nickname “The Cardinal.” To run the company’s dispersed operations, he developed a legendarily detailed annual budgeting process. Each year, every general manager came to New York for extensive budget meetings. In these sessions, management presented operating and capital budgets for the coming year, and Burke and his CFO, Ron Doerfler, went through them in line-by-line detail (interestingly, Burke could be as tough on minority hiring shortfalls as on excessive costs). The budget sessions were not perfunctory and almost always produced material changes. Particular attention was paid to capital expenditures and expenses. Managers were expected to outperform their peers, and great attention was paid to margins, which Burke viewed as “a form of report card.” Outside of these meetings, managers were left alone and sometimes went months without hearing from corporate. The company did not simply cut its way to high margins, however. It also emphasized investing in its businesses for longterm growth. Murphy and Burke realized that the key drivers of profitability in most of their businesses were revenue growth and advertising market share, and they were prepared to invest in their properties to ensure leadership in local markets. For example, Murphy and Burke realized early on that the TV station that was number one in local news ended up with a disproportionate share of the market’s advertising revenue. As a result, Capital Cities stations always invested heavily in news talent and technology, and remarkably, virtually every one of its stations led in its local market. In another example, Burke insisted on spending substantially more money to upgrade the Fort Worth printing plant than Phil Meek had requested, realizing the importance of color printing in maintaining the Telegram’s longterm competitive position. As Phil Beuth, an early employee, told me, “The company was careful, not just cheap.”8\n",
      "\n",
      "The company’s hiring practices were equally unconventional. With no prior broadcasting experience themselves before joining Capital Cities, Murphy and Burke shared a clear preference for intelligence, ability, and drive over direct industry experience. They were looking for talented, younger foxes with fresh perspectives. When the company made an acquisition or entered a new industry, it inevitably designated a top Capital Cities executive, often from an unrelated division, to oversee the new property. In this vein, Bill James, who had been running the flagship radio property, WJR in Detroit, was tapped to run the cable division, and John Sias, previously head of the publishing division, took over the ABC Network. Neither had any prior industry experience; both produced excellent results. Murphy and Burke were also comfortable giving responsibility to promising young managers. As Murphy described it to me, “We’d been fortunate enough to have it ourselves and knew it could work.” Bill James was thirty-five and had no radio experience when he took over WJR; Phil Meek came over from the Ford Motor Company at thirty-two with no publishing experience to run the Pontiac Press; and Bob Iger was thirty-seven and had spent his career in broadcast sports when he moved from New York to Hollywood to assume responsibility for ABC Entertainment. The company also had exceptionally low turnover. As Robert Price, a rival broadcaster, once remarked, “We always see lots of résumés but we never see any from Capital Cities.” 9 Dan Burke related to me a conversation with Frank Smith on the effectiveness of this philosophy. Burke recalls Smith saying, “The system in place corrupts you with so much autonomy and authority that you can’t imagine leaving.”\n",
      "\n",
      ". .\n",
      "\n",
      "\n",
      " ================================================== \n",
      "\n",
      "\n",
      ". In the area of capital allocation, Murphy’s approach was highly differentiated from his peers. He eschewed diversification, paid de minimis dividends, rarely issued stock, made active use of leverage, regularly repurchased shares, and between long periods of inactivity, made the occasional very large acquisition. The two primary sources of capital for Capital Cities were internal operating cash flow and debt. As we’ve seen, the company produced consistently high, industry-leading levels of operating cash flow, providing Murphy with a reliable source of capital to allocate to acquisitions, buybacks, debt repayment, and other investment options. Murphy also frequently used debt to fund acquisitions, once summarizing his approach as “always, we’ve . . . taken the assets once we’ve paid them off and leveraged them again to buy other assets.”10 After closing an acquisition, Murphy actively deployed free cash flow to reduce debt levels, and these loans were typically paid down ahead of schedule. The bulk of the ABC debt was retired within three years of the transaction. Interestingly, Murphy never borrowed money to fund a share repurchase, preferring to utilize leverage for the purchase of operating businesses. Murphy and Burke actively avoided dilution from equity offerings. Other than the sale of stock to Berkshire Hathaway to help finance the ABC acquisition, the company did not issue new stock over the twenty years prior to the Disney sale, and over this period total shares outstanding shrank by 47 percent as a result of repeated repurchases. Acquisitions were far and away the largest outlet for the company’s capital during Murphy’s tenure. According to recent studies, somewhere around two-thirds of all acquisitions actually destroy value for shareholders. How then was such enormous value created by acquisitions at Capital Cities? Acquisitions were Murphy’s bailiwick and where he spent the majority of his time. He did not delegate acquisition decisions, never used investment bankers, and over time, evolved an idiosyncratic approach that was both effective and different in significant and important ways from his competitors’. To Murphy, as a capital allocator, the company’s extreme decentralization had important benefits: it allowed the company to operate more profitably than its peers (Capital Cities had the highest margins in each of its business lines), which in turn gave the company an advantage in acquisitions by allowing Murphy to buy properties and know that under Burke, they would quickly be made more profitable, lowering the effective price paid. In other words, the company’s operating and integration expertise occasionally gave Murphy that scarcest of business commodities: conviction. And when he had conviction, Murphy was prepared to act aggressively. Under his leadership, Capital Cities was extremely acquisitive, three separate times doing the largest deal in the history of the broadcast industry, culminating in the massive ABC transaction. Over this time period, the company was also involved with several of the largest newspaper acquisitions in the country, as well as transactions in the radio, cable TV, and magazine publishing industries. Murphy was willing to wait a long time for an attractive acquisition. He once said, “I get paid not just to make deals, but to make good deals.”11 When he saw something that he liked, however, Murphy was prepared to make a very large bet, and much of the value created during his nearly thirty-year tenure as CEO was the result of a handful of large acquisition decisions, each of which produced excellent long-terms returns. These acquisitions each represented 25 percent or more of the company’s market capitalization at the time they were made. Murphy was a master at prospecting for deals. He was known for his sense of humor and for his honesty and integrity. Unlike other media company CEOs, he stayed out of the public eye (although this became more difficult after the ABC acquisition). These traits helped him as he prospected for potential acquisitions. Murphy knew what he wanted to buy, and he spent years developing relationships with the owners of desirable properties. He never participated in a hostile takeover situation, and every major transaction that the company completed was sourced via direct contact with sellers, such as Walter Annenberg of Triangle and Leonard Goldenson of ABC. He worked hard to become a preferred buyer by treating employees fairly and running properties that were consistent leaders in their markets. This reputation helped him enormously when he approached Goldenson about buying ABC in 1984 (in his typical self-deprecating style, Murphy began his pitch with “Leonard, please don’t throw me out the window, but I’d like to buy your company.”)\n",
      "\n",
      "Beneath this avuncular, outgoing exterior, however, lurked a razor-sharp business mind. Murphy was a highly disciplined buyer who had strict return requirements and did not stretch for acquisitions—once missing a very large newspaper transaction involving three Texas properties over a $5 million difference in price. Like others in this book, he relied on simple but powerful rules in evaluating transactions. For Murphy, that benchmark was a double-digit after-tax return over ten years without leverage. As a result of this pricing discipline, he never prevailed in an auction, although he participated in many. Murphy told me that his auction bids consistently ended up at only 60 to 70 percent of the eventual transaction price. Murphy had an unusual negotiating style. He believed in “leaving something on the table” for the seller and said that in the best transactions, everyone came away happy. He would often ask the seller what they thought their property was worth, and if he thought their offer was fair he’d take it (as he did when Annenberg told him the Triangle stations were worth ten times pretax profits). If he thought their proposal was high, he would counter with his best price, and if the seller rejected his offer, Murphy would walk away. He believed this straightforward approach saved time and avoided unnecessary acrimony. Share repurchases were another important outlet for Murphy, providing him with an important capital allocation benchmark, and he made frequent use of them over the years. When the company’s multiple was low relative to private market comparables, Murphy bought back stock. Over the years, Murphy devoted over $1.8 billion to buybacks, mostly at single-digit multiples of cash flow. Collectively, these repurchases represented a very large bet for the company, second in size only to the ABC transaction, and they generated excellent returns for shareholders, with a cumulative compound return of 22.4 percent over nineteen years. As Murphy says today, “I only wished I’d bought more.”\n",
      "\n",
      "The Publishing Division\n",
      "\n",
      "After the Triangle transaction in 1970, Capital Cities was prevented from owning additional TV stations by FCC regulations. As a result, Murphy turned his attention to newspapers and, between 1974 and 1978, initiated the two largest transactions in the industry’s history to that time—the acquisition of the Fort Worth Telegram and the Kansas City Star—as well as the purchase of several smaller daily and weekly newspapers across the United States. The company’s performance in its newspaper publishing division provides an interesting litmus test of its operating skills. Under the leadership of Jim Hale and Phil Meek, Capital Cities evolved an approach to the newspaper business that grew out of its experience in operating TV stations, with an emphasis on careful cost control and maximizing advertising market share. What is remarkable in looking at the company’s four major newspaper operations is the consistent year-after-year-after-year growth in revenues and operating cash flow. Amazingly, these properties, which were sold to Knight Ridder in 1997, collectively produced a 25 percent compound rate of return over an average twenty-year holding period. According to the Kansas City Star’s publisher Bob Woodworth (subsequently the CEO of Pulitzer Inc.), the operating margin at the Star, the company’s largest paper, expanded from the single digits in the mid-1970s to a high of 35 percent in 1996, while cash flow grew from $12.5 million to $68 million. The phenomenal long-term performance of Capital Cities drew the admiration of the country’s top media investors. Warren Buffett and Mario Gabelli each went back to the legendary Yankee sluggers of their respective eras (Ruth and Gehrig for Buffett, and Mantle and Maris for Gabelli) to find analogies for Murphy and Burke’s managerial performance. Gordon Crawford, a shareholder from 1972 until the Disney sale and one of the most influential media investors in the country, believed Murphy and Burke’s unique blend of operating and capital allocation skills created a “perpetual motion machine for returns.”12 Capital Cities’ admirers also included Bill Ruane of Ruane, Cunniff, and David Wargo of State Street Research. Chronicle Publishing: A Successful Transplant\n",
      "\n",
      "Capital Cities’ distinctive approach to operations and human resources was successfully transplanted to a West Coast media company, Chronicle Publishing, in the mid- to late 1990s by John Sias, the former head of Capital Cities’ publishing division and the ABC Network. In 1993, Sias took over as the CEO of Chronicle, a diversified, family-owned media company, headquartered in San Francisco. Chronicle owned the San Francisco Chronicle newspaper, the NBC affiliate in San Francisco (KRON), three hundred thousand cable subscribers, and a book publishing company. Prior to Sias’s arrival, the company had been torn by family squabbling, and operations had suffered. Sias and his young CFO, Alan Nichols, wasted no time in implementing the Capital Cities operating model, radically transforming the company’s operations. They immediately eliminated an entire layer of executives at corporate headquarters, instituted a rigorous budgeting process, and gave significant authority and autonomy to the general managers (many of whom, uncomfortable in the new, more demanding culture, left in the first year). The results were stunning. The margins at KRON improved by an incredible 2,000 basis points, from 30 percent to 50 percent (KRON was eventually sold for over $730 million in June 2000), and the operating margins at the Chronicle newspaper (which operated under an unusual joint operating agreement with the San Francisco Examiner) more than doubled, from 4 percent to 10 percent (Hearst bought the paper for an astronomical $660 million in 1999). Sias and Nichols also merged the cable subscribers into Tele-Communications Inc. (TCI) in a tax-free exchange and sold the book division at an attractive price to one of the family members. Sias retired from the company in 1999, after having created hundreds of millions of dollars of value for its shareholders. The Diaspora\n",
      "\n",
      "As with the large number of successful NFL coaches who once worked for Bill Walsh or surgeons who worked at the Peter Bent Brigham Hospital in Boston in the 1950s and 1960s under Francis Moore, the media world is littered with Capital Cities alums. The company’s culture and operating model were widely admired, and in addition to Sias at Chronicle, former company executives have occupied top management slots at a dizzying variety of media companies, starting with Disney itself (now run by Bob Iger). Capital Cities alums have also held executive positions at LIN Broadcasting (CEO), Pulitzer (CEO), Hearst (CFO), and E. W. Scripps (head of newspaper operations), among others. Dan Burke’s son, Steve, formerly COO of Comcast, is now the CEO of NBCUniversal. Although the focus here is on quantifiable business performance, it is worth noting that Murphy built a universally admired company at Capital Cities with an exceptionally strong culture and esprit de corps (at least two different groups of executives still hold regular reunions). The company was widely respected by employees, advertisers, and community leaders, in addition to Wall Street analysts. Phil Meek told me a story about a bartender at one of the management retreats who made a handsome return by buying Capital Cities stock in the early 1970s. When an executive later asked why he had made the investment, the bartender replied, “I’ve worked at a lot of corporate events over the years, but Capital Cities was the only company where you couldn’t tell who the bosses were.”13\n",
      "\n",
      "Transdigm: A Contemporary Doppelgänger\n",
      "\n",
      "A contemporary analog for Capital Cities can be found in Transdigm, a little-known, publicly traded aerospace components manufacturer. This remarkable company has grown its cash flow at a compound rate of over 25 percent since 1993 through a combination of internal growth and an exceptionally effective acquisition program. Like Capital Cities, the company focuses on a very specific type of business with exceptional economic characteristics. In Transdigm’s case, this area of specialization is highly engineered aviation parts and components. These parts, once engineered into a military or commercial aircraft, cannot be easily replaced and require regular maintenance and replacement. They are critical to the performance of the aircraft and have no substitutes, and their cost is insignificant relative to the overall cost of the aircraft. As a result, their customers—the largest military and commercial aircraft manufacturers—are more focused on performance than price, and the company has an attractive combination of pricing power and phenomenal margins (cash flow [defined as EBITDA, or earnings before interest, taxes, depreciation, and amortization] margins are north of 40 percent). Transdigm’s management team, led by CEO Nick Howley, realized these excellent economic characteristics in the early 1990s and evolved a highly decentralized corporate structure and operating system for optimizing the profitability of these specialized-parts businesses. Howley, like Murphy at Capital Cities, knows that his team will be able to quickly and dramatically improve the profitability of acquired companies, lowering the effective purchase price paid and providing a compelling logic for future acquisitions. Since going public, the company has also pursued an unusual and aggressive capital allocation strategy (one that has caused a fair amount of comment and confusion on Wall Street), maintaining generally high levels of leverage, repurchasing shares, and announcing a large special dividend (financed with debt) in the depths of the recent financial crisis. Not surprisingly, returns for the shareholders have also been excellent—the stock has appreciated over fourfold since the company’s 2006 initial public offering. CHAPTER 2\n",
      "\n",
      "\n",
      "An Unconventional Conglomerateur\n",
      "\n",
      "Henry Singleton and Teledyne\n",
      "\n",
      "Henry Singleton has the best operating and capital deployment record in American business . .\n",
      "\n",
      "\n",
      " ================================================== \n",
      "\n",
      "\n",
      "Number of tokens: 3833\n",
      "Number of tokens: 2885\n"
     ]
    }
   ],
   "source": [
    "print(\"# of Chunks:\", len(lc_semantic_chunks), \"\\n\")\n",
    "print(lc_semantic_chunks[9].page_content)\n",
    "print(\"\\n\\n\", \"=\"*50, \"\\n\\n\")\n",
    "print(lc_semantic_chunks[10].page_content)\n",
    "print(\"\\n\\n\", \"=\"*50, \"\\n\\n\")\n",
    "\n",
    "count_tokens(lc_semantic_chunks[9].page_content)\n",
    "count_tokens(lc_semantic_chunks[10].page_content)"
   ]
  },
  {
   "cell_type": "code",
   "execution_count": 21,
   "id": "b22d8699-b75e-4e39-81e8-bb33b5087371",
   "metadata": {},
   "outputs": [
    {
     "data": {
      "text/plain": [
       "19159"
      ]
     },
     "execution_count": 21,
     "metadata": {},
     "output_type": "execute_result"
    }
   ],
   "source": [
    "len(lc_semantic_chunks[9].page_content)"
   ]
  },
  {
   "cell_type": "markdown",
   "id": "12419fe4-d899-42f1-8e0d-668910dd455c",
   "metadata": {},
   "source": [
    "#### Greg Kamradt Semantic Chunker"
   ]
  },
  {
   "cell_type": "code",
   "execution_count": 104,
   "id": "c31fda7f-8596-4f62-a13f-d02f68933e55",
   "metadata": {},
   "outputs": [],
   "source": [
    "kamradt_chunker = KamradtModifiedChunker(avg_chunk_size=85, min_chunk_size=8, embedding_function=embedding_function)\n",
    "modified_kamradt_chunks = kamradt_chunker.split_text(document)"
   ]
  },
  {
   "cell_type": "code",
   "execution_count": 105,
   "id": "8d34e7d6-a2ae-40b3-a4f5-753982bbc995",
   "metadata": {},
   "outputs": [
    {
     "name": "stdout",
     "output_type": "stream",
     "text": [
      "\n",
      "Number of Chunks: 756\n",
      "\n",
      " ================================================== 10th Chunk ================================================== \n",
      " The residents of Singletonville, however, represent a refreshing rejoinder to this stereotype . All were first-time CEOs, most\n",
      "\n",
      " ================================================== 11st Chunk ================================================== \n",
      " with very little prior management experience . Not one came to the job from a high-profile position, and all but one were new to their industries and companies . Only two had MBAs . As a group, they did not attract or seek the spotlight . Rather, they labored in relative obscurity and were generally appreciated by only a handful of sophisticated investors and aficionados . As a group, they shared old-fashioned, premodern values including\n",
      "\n",
      "No token overlap found\n",
      "\n",
      "\n",
      " ================================================== \n",
      "\n",
      "\n",
      "Number of tokens: 24\n",
      "Number of tokens: 87\n"
     ]
    }
   ],
   "source": [
    "analyze_chunks(modified_kamradt_chunks, use_tokens=True)\n",
    "print(\"\\n\\n\", \"=\"*50, \"\\n\\n\")\n",
    "count_tokens(modified_kamradt_chunks[9])\n",
    "count_tokens(modified_kamradt_chunks[10])"
   ]
  },
  {
   "cell_type": "markdown",
   "id": "41f6fca1-ff14-4bc4-935f-fb2e13426783",
   "metadata": {},
   "source": [
    "#### Cluster Semantic Chunker"
   ]
  },
  {
   "cell_type": "code",
   "execution_count": 128,
   "id": "9253e89d-52a6-4741-99ba-ecf86657530b",
   "metadata": {},
   "outputs": [],
   "source": [
    "cluster_chunker = ClusterSemanticChunker(embedding_function=embedding_function, max_chunk_size=210, length_function=openai_token_count)\n",
    "cluster_chunker_chunks = cluster_chunker.split_text(document)"
   ]
  },
  {
   "cell_type": "code",
   "execution_count": 129,
   "id": "7a12cf03-92aa-4db6-b11f-4e3bd8794dc2",
   "metadata": {},
   "outputs": [
    {
     "name": "stdout",
     "output_type": "stream",
     "text": [
      "\n",
      "Number of Chunks: 750\n",
      "\n",
      " ================================================== 10th Chunk ================================================== \n",
      " Like Singleton, these CEOs consistently made very different decisions than their peers did. They were not, however, blindly contrarian . Theirs was an intelligent iconoclasm informed by careful analysis and often expressed in unusual financial metrics that were distinctly different from industry or Wall Street conventions.\n",
      "\n",
      " ================================================== 11st Chunk ================================================== \n",
      " In this way, their iconoclasm was similar to Billy Beane’s as described by Michael Lewis in Moneyball .2 Beane, the general manager of the perennially cash-strapped Oakland A’s baseball team, used statistical analysis to gain an edge over his better-heeled competitors . His approach centered on new metrics—on-base and slugging percentages—that correlated more highly with team winning percentage than the traditional statistical troika of home runs, batting average, and runs batted in. Beane’s analytical insights influenced every aspect of how he ran the A’s—from drafting and trading strategies to whether or not to steal bases or use sacrifice bunts in games (no, in both cases)\n",
      "\n",
      "No token overlap found\n"
     ]
    }
   ],
   "source": [
    "analyze_chunks(cluster_chunker_chunks, use_tokens=True)"
   ]
  },
  {
   "cell_type": "code",
   "execution_count": 132,
   "id": "e9a71e68-87a2-44d9-801b-0b163087a6f1",
   "metadata": {},
   "outputs": [
    {
     "name": "stdout",
     "output_type": "stream",
     "text": [
      "422.776\n"
     ]
    }
   ],
   "source": [
    "length = 0\n",
    "for i in cluster_chunker_chunks:\n",
    "    length += len(i)\n",
    "print(length/len(cluster_chunker_chunks))"
   ]
  },
  {
   "cell_type": "markdown",
   "id": "70467e5d-e2fd-48de-a6d7-5a7344bd4083",
   "metadata": {},
   "source": [
    "### Testing Chunks"
   ]
  },
  {
   "cell_type": "code",
   "execution_count": 30,
   "id": "0a09646f-b8bf-4baa-8cde-c8cc34f48eae",
   "metadata": {},
   "outputs": [],
   "source": [
    "llm = ChatOpenAI(temperature=0.0, model=\"gpt-4o\", api_key= openai.api_key)"
   ]
  },
  {
   "cell_type": "markdown",
   "id": "51ffb968-7ef0-40c1-8dc7-13d7a85d2a85",
   "metadata": {},
   "source": [
    "simp_chunks, token_chunks, rec_ch_chunks, rec_tk_chunks, lc_semantic_chunks, modified_kamradt_chunks, cluster_chunker_chunks, llm_chunker_chunks"
   ]
  },
  {
   "cell_type": "code",
   "execution_count": 31,
   "id": "cbc69ab0-2942-47cb-b36e-4c82184e0188",
   "metadata": {},
   "outputs": [],
   "source": [
    "def add_chunks(texts, collection):\n",
    "    add_count = 0\n",
    "    for text in texts:\n",
    "        collection.add(documents=[text], ids=f\"chunk_{add_count}\")\n",
    "        add_count += 1\n",
    "\n",
    "def chroma_retrieval(query, collection, num_results=15):\n",
    "    results = collection.query(query_texts=[query], n_results=num_results)\n",
    "    return results\n",
    "\n",
    "def chroma_rag(query, collection):\n",
    "    retrieved_docs = chroma_retrieval(query, collection)[\"documents\"][0]\n",
    "    response = rag_chain.invoke({\"retrieved_docs\": retrieved_docs, \"query\": query})\n",
    "    return retrieved_docs, response"
   ]
  },
  {
   "cell_type": "code",
   "execution_count": 32,
   "id": "5c6bf843-4692-45d6-9e0f-300c0503e644",
   "metadata": {},
   "outputs": [],
   "source": [
    "client_path = main_path + \"/notebook/chromadb\"\n",
    "chroma_client = chromadb.PersistentClient(path=client_path)"
   ]
  },
  {
   "cell_type": "code",
   "execution_count": 33,
   "id": "e9402805-9926-4b28-be95-b98215cd6491",
   "metadata": {},
   "outputs": [],
   "source": [
    "rag_prompt_template = \"\"\"\n",
    "Generate a response that responds to the user's question, summarizing all information in the input data tables, and incorporating any relevant general knowledge.\n",
    "\n",
    "Do not include information where the supporting evidence for it is not provided.\n",
    "\n",
    "Context: {retrieved_docs}\n",
    "\n",
    "User Question: {query}\n",
    "\n",
    "\"\"\""
   ]
  },
  {
   "cell_type": "markdown",
   "id": "99db9dce-fd76-47c9-9408-a10a7b3389c1",
   "metadata": {},
   "source": [
    "#### Simple Chunking"
   ]
  },
  {
   "cell_type": "code",
   "execution_count": 34,
   "id": "83eda4fe-4a88-42a2-902d-9e011321de0a",
   "metadata": {},
   "outputs": [],
   "source": [
    "simple_collection = chroma_client.get_or_create_collection(name=\"simple_collection\")\n",
    "# add_chunks(simp_chunks, simple_collection)"
   ]
  },
  {
   "cell_type": "code",
   "execution_count": 35,
   "id": "12192e6b-23ce-45e4-8f3c-68f708dfb41f",
   "metadata": {},
   "outputs": [],
   "source": [
    "rag_prompt = ChatPromptTemplate.from_template(rag_prompt_template)\n",
    "rag_chain = rag_prompt | llm | StrOutputParser()"
   ]
  },
  {
   "cell_type": "code",
   "execution_count": 36,
   "id": "dcf4c3f4-a18f-4db9-99b9-6fad31516f2f",
   "metadata": {},
   "outputs": [],
   "source": [
    "docs, response = chroma_rag(\"Give me the best CEO's and elaborate reasons behind it ?\", simple_collection)"
   ]
  },
  {
   "cell_type": "code",
   "execution_count": 37,
   "id": "75c6402a-9497-4392-beee-d30d2680f816",
   "metadata": {},
   "outputs": [
    {
     "name": "stdout",
     "output_type": "stream",
     "text": [
      "The input data highlights the characteristics and strategies of successful CEOs, often referred to as \"outsider CEOs,\" who have demonstrated effective leadership through unconventional approaches. These CEOs are not necessarily the most charismatic or technically skilled, but they excel in resource allocation and long-term value creation. Here are some key reasons why these CEOs are considered among the best:\n",
      "\n",
      "1. **Investor Mindset**: These CEOs think more like investors than traditional managers. They focus on optimizing long-term value per share rather than just organizational growth. This perspective allows them to make decisions that prioritize shareholder value.\n",
      "\n",
      "2. **Resource Allocation**: They emphasize careful deployment of both financial and human resources. This includes leading the allocation process themselves rather than delegating it, ensuring that every investment is scrutinized for its potential return.\n",
      "\n",
      "3. **Focus on Cash Flow**: Unlike many public company CEOs who focus on maximizing quarterly net income, these leaders prioritize cash flow. This approach helps them see the true economic reality of their businesses and make decisions that enhance long-term sustainability.\n",
      "\n",
      "4. **Analytical Skills**: These CEOs possess strong analytical skills, often having backgrounds in engineering or similar fields. They use these skills to cut through complexity and focus on the core economic characteristics of their businesses.\n",
      "\n",
      "5. **Unorthodox Strategies**: They often employ unconventional strategies, such as maintaining flat organizational structures and reducing corporate bureaucracy. This allows for more agile decision-making and efficient operations.\n",
      "\n",
      "6. **Boldness and Rationality**: When they identify compelling opportunities, these CEOs are prepared to act boldly. Their decisions are grounded in rationality and logic, often leading to competitive advantages across various industries.\n",
      "\n",
      "7. **Long-Term Perspective**: They wear the hat of a long-term investor or owner, rather than a high-paid employee. This mindset helps them focus on sustainable growth and value creation over time.\n",
      "\n",
      "Overall, the best CEOs, as described in the input data, are those who combine a deep understanding of capital allocation with a commitment to long-term value creation, all while maintaining a pragmatic and analytical approach to leadership.\n"
     ]
    }
   ],
   "source": [
    "print(response)"
   ]
  },
  {
   "cell_type": "markdown",
   "id": "89f58fbd-434b-4f23-b170-c29bbe1d8252",
   "metadata": {},
   "source": [
    "#### Token Chunking"
   ]
  },
  {
   "cell_type": "code",
   "execution_count": 38,
   "id": "3c5ff1c2-3617-4338-b3c2-aec928b34a7f",
   "metadata": {},
   "outputs": [],
   "source": [
    "token_collection = chroma_client.get_or_create_collection(name=\"token_collection\")\n",
    "# add_chunks(token_chunks, token_collection)"
   ]
  },
  {
   "cell_type": "code",
   "execution_count": 39,
   "id": "af1d54fe-052b-40d3-9665-60a60aa14048",
   "metadata": {},
   "outputs": [],
   "source": [
    "rag_prompt = ChatPromptTemplate.from_template(rag_prompt_template)\n",
    "rag_chain = rag_prompt | llm | StrOutputParser()"
   ]
  },
  {
   "cell_type": "code",
   "execution_count": 40,
   "id": "6ecfb5cf-ca9a-41fd-80f4-50eb5ed138d3",
   "metadata": {},
   "outputs": [],
   "source": [
    "docs, response = chroma_rag(\"Give me the best CEO's and elaborate reasons behind it ?\", token_collection)"
   ]
  },
  {
   "cell_type": "code",
   "execution_count": 41,
   "id": "afd6371e-d28c-4e1d-9d3e-5dc72e6cf961",
   "metadata": {},
   "outputs": [
    {
     "name": "stdout",
     "output_type": "stream",
     "text": [
      "The context provided discusses the characteristics and philosophies of effective CEOs, particularly those who are considered \"outsider CEOs.\" These CEOs are noted for their unconventional approaches and focus on optimizing long-term value per share rather than pursuing organizational growth for its own sake. Here are some key reasons why these CEOs are considered effective:\n",
      "\n",
      "1. **Capital Allocation Focus**: These CEOs prioritize understanding and optimizing capital allocation. They carefully deploy company resources to create shareholder value, always considering the return on investment and proceeding only with projects that offer attractive returns based on conservative assumptions.\n",
      "\n",
      "2. **Investor Mindset**: Unlike traditional managers, these CEOs think more like investors. They have confidence in their analytical skills and are prepared to act boldly when they identify discrepancies between value and price. For example, they might buy back stock when it is undervalued.\n",
      "\n",
      "3. **Long-term Value over Growth**: The primary goal for these CEOs is to optimize long-term value per share, not just to grow the organization. This approach contrasts with the common business urge to expand for the sake of size, which often garners more attention and higher executive salaries.\n",
      "\n",
      "4. **Simplicity and Focus**: These CEOs have a talent for cutting through the noise and focusing on the core economic characteristics of their businesses. They emphasize cash flow over the pursuit of maximizing quarterly reported earnings, which is often the focus of public company CEOs.\n",
      "\n",
      "5. **Decentralization and Humility**: They favor flat organizational structures and decentralized decision-making, recognizing that real value is often created by local managers in the field. This approach reflects a fundamental humility and an acknowledgment that headquarters does not have all the answers.\n",
      "\n",
      "6. **Checklist Approach**: They use checklists to guide resource allocation decisions, ensuring that these decisions are CEO-led and not delegated. This includes determining a hurdle rate, which is the minimum acceptable return for investment projects.\n",
      "\n",
      "Overall, these CEOs are characterized by their intelligent iconoclasm, informed by careful analysis and a focus on long-term value creation. Their success is attributed more to their temperament and decision-making clarity than to any extraordinary intellectual ability.\n"
     ]
    }
   ],
   "source": [
    "print(response)"
   ]
  },
  {
   "cell_type": "markdown",
   "id": "76a58ba6-18fa-48a5-86f3-843ab9fee07e",
   "metadata": {},
   "source": [
    "#### Recursive Character Chunking"
   ]
  },
  {
   "cell_type": "code",
   "execution_count": 43,
   "id": "1d755c92-93f6-417c-a39a-aff249c5bf2a",
   "metadata": {},
   "outputs": [],
   "source": [
    "rec_ch_collection = chroma_client.get_or_create_collection(name=\"rec_ch_collection\")\n",
    "add_chunks(rec_ch_chunks, rec_ch_collection)"
   ]
  },
  {
   "cell_type": "code",
   "execution_count": null,
   "id": "7b781353-4be6-4894-97f1-4efe1ed47f90",
   "metadata": {},
   "outputs": [],
   "source": [
    "rag_prompt = ChatPromptTemplate.from_template(rag_prompt_template)\n",
    "rag_chain = rag_prompt | llm | StrOutputParser()"
   ]
  },
  {
   "cell_type": "code",
   "execution_count": 44,
   "id": "f8b2b2b4-cbb3-475b-ace7-c41c988db01a",
   "metadata": {},
   "outputs": [],
   "source": [
    "docs, response = chroma_rag(\"Give me the best CEO's and elaborate reasons behind it ?\", rec_ch_collection)"
   ]
  },
  {
   "cell_type": "code",
   "execution_count": 45,
   "id": "406ee332-8911-4000-a705-07504b20c1b8",
   "metadata": {},
   "outputs": [
    {
     "name": "stdout",
     "output_type": "stream",
     "text": [
      "The book discusses a group of CEOs who are considered exceptional due to their unconventional management philosophies and strategies. These CEOs are characterized by their focus on optimizing long-term value per share rather than pursuing organizational growth for its own sake. They think more like investors than traditional managers, emphasizing careful resource allocation and capital deployment.\n",
      "\n",
      "Key reasons these CEOs are considered among the best include:\n",
      "\n",
      "1. **Investor Mindset**: They approach their roles with an investor's perspective, focusing on discrepancies between value and price and acting boldly when opportunities arise.\n",
      "\n",
      "2. **Long-term Value Focus**: Their primary goal is to maximize long-term value per share, which contrasts with the common business urge to prioritize growth and short-term earnings.\n",
      "\n",
      "3. **Resource Allocation**: They excel in allocating both financial and human resources, often employing flat organizational structures and lean corporate staffs to enhance efficiency.\n",
      "\n",
      "4. **Contrarian but Informed Decisions**: These CEOs make decisions that differ from their peers, not out of contrarianism but through careful analysis and unique financial metrics.\n",
      "\n",
      "5. **Cash Flow Emphasis**: They prioritize cash flow over reported earnings, which is a departure from the typical focus on quarterly net income favored by Wall Street.\n",
      "\n",
      "6. **Share Repurchases**: Many of these CEOs have significantly reduced their companies' share bases through repurchases, a strategy that is rare but effective in enhancing shareholder value.\n",
      "\n",
      "7. **Adaptability**: They adapt to changing market conditions and maintain a strong focus on capital allocation, which provides a competitive advantage.\n",
      "\n",
      "The lessons from these CEOs are relevant to any manager or business owner, emphasizing that one does not need to be a charismatic visionary to be effective. Their strategies have proven successful in both historical and contemporary contexts, as demonstrated by companies like Pre-Paid Legal and ExxonMobil.\n"
     ]
    }
   ],
   "source": [
    "print(response)"
   ]
  },
  {
   "cell_type": "markdown",
   "id": "4d50be3e-3bc8-4928-9320-b7193efff1a7",
   "metadata": {},
   "source": [
    "#### Recursive Token Chunking"
   ]
  },
  {
   "cell_type": "code",
   "execution_count": 91,
   "id": "89eed3ad-53a5-4d0f-a62a-6874200902a6",
   "metadata": {},
   "outputs": [],
   "source": [
    "rec_token_collection = chroma_client.get_or_create_collection(name=\"rec_token_collection\")\n",
    "add_chunks(rec_tk_chunks, rec_token_collection)"
   ]
  },
  {
   "cell_type": "code",
   "execution_count": 92,
   "id": "69447a38-b236-4c6d-90f3-2132bb5a1869",
   "metadata": {},
   "outputs": [],
   "source": [
    "rag_prompt = ChatPromptTemplate.from_template(rag_prompt_template)\n",
    "rag_chain = rag_prompt | llm | StrOutputParser()"
   ]
  },
  {
   "cell_type": "code",
   "execution_count": 93,
   "id": "043574d8-7c8a-41da-b4c2-0bf509513735",
   "metadata": {},
   "outputs": [],
   "source": [
    "docs, response = chroma_rag(\"Give me the best CEO's and elaborate reasons behind it ?\", rec_token_collection)"
   ]
  },
  {
   "cell_type": "code",
   "execution_count": 94,
   "id": "3935bfed-3d10-4925-8089-aab587c2cf1f",
   "metadata": {
    "scrolled": true
   },
   "outputs": [
    {
     "name": "stdout",
     "output_type": "stream",
     "text": [
      "The book discussed in the context does not single out specific CEOs as the \"best\" but rather highlights a group of CEOs who shared a distinctive and effective managerial philosophy. These CEOs are characterized by their focus on capital allocation and long-term value creation rather than short-term growth or charismatic leadership. Here are the key reasons behind their effectiveness:\n",
      "\n",
      "1. **Investor Mindset**: These CEOs thought more like investors than traditional managers. They were analytical and willing to act boldly when they identified discrepancies between value and price. This approach allowed them to make strategic decisions, such as buying back stock when it was undervalued or using it to acquire other companies when it was overvalued.\n",
      "\n",
      "2. **Capital Allocation**: A central theme was their disciplined approach to capital allocation. They consistently directed resources toward high-return projects and avoided value-destroying investments. This focus on efficient capital use was a significant competitive advantage.\n",
      "\n",
      "3. **Long-term Value Maximization**: Their primary goal was to optimize long-term value per share rather than simply growing the organization. This often meant shrinking operations through asset sales or spin-offs and making opportunistic share repurchases when they offered attractive returns.\n",
      "\n",
      "4. **Unorthodox Strategies**: These CEOs often employed unconventional strategies, such as maintaining flat organizational structures and reducing corporate staff. Their decisions were informed by careful analysis and often diverged from industry norms.\n",
      "\n",
      "5. **Conservative Assumptions**: They were cautious in their assumptions and only pursued projects that promised attractive returns. This conservative approach helped them avoid risky ventures that could potentially destroy shareholder value.\n",
      "\n",
      "6. **CEO-led Allocation**: The resource allocation process was led by the CEOs themselves, ensuring that strategic decisions aligned with their vision and understanding of the company's needs.\n",
      "\n",
      "Overall, these CEOs demonstrated a radical rationality and a focus on long-term shareholder value, which set them apart from their peers and contributed to their success across various industries and market conditions.\n"
     ]
    }
   ],
   "source": [
    "print(response)"
   ]
  },
  {
   "cell_type": "markdown",
   "id": "409e2439-31b1-412f-acdd-233d18230d52",
   "metadata": {},
   "source": [
    "#### LC Semantic Chunker"
   ]
  },
  {
   "cell_type": "code",
   "execution_count": 59,
   "id": "d66933ad-d55d-4b91-8d1a-e91900b4799c",
   "metadata": {},
   "outputs": [],
   "source": [
    "lc_sem_chunks = [doc.page_content for doc in lc_semantic_chunks]"
   ]
  },
  {
   "cell_type": "code",
   "execution_count": 60,
   "id": "be677648-2916-4104-86c0-d04f643007c1",
   "metadata": {},
   "outputs": [],
   "source": [
    "lc_sem_collection = chroma_client.get_or_create_collection(name=\"lc_sem_collection\")\n",
    "add_chunks(lc_sem_chunks, lc_sem_collection)"
   ]
  },
  {
   "cell_type": "code",
   "execution_count": 61,
   "id": "cdc75d98-2d25-4126-ac26-e9af4b6ff322",
   "metadata": {},
   "outputs": [],
   "source": [
    "rag_prompt = ChatPromptTemplate.from_template(rag_prompt_template)\n",
    "rag_chain = rag_prompt | llm | StrOutputParser()"
   ]
  },
  {
   "cell_type": "code",
   "execution_count": 65,
   "id": "61a43a5e-eccf-4e9a-90db-6ad45ad925ed",
   "metadata": {},
   "outputs": [],
   "source": [
    "docs, response = chroma_rag(\"Give me the best CEO's and elaborate reasons behind it ?\", lc_sem_collection)"
   ]
  },
  {
   "cell_type": "code",
   "execution_count": 66,
   "id": "bea2f4db-8f9f-4065-8eb1-3eb1d01f1e05",
   "metadata": {},
   "outputs": [
    {
     "name": "stdout",
     "output_type": "stream",
     "text": [
      "The best CEOs, as highlighted in the context provided, are those who have demonstrated exceptional performance by thinking differently and focusing on long-term value creation rather than short-term gains. These CEOs, often referred to as \"outsiders,\" include figures like Warren Buffett, Henry Singleton, and John Malone. Here are the key reasons behind their success:\n",
      "\n",
      "1. **Capital Allocation Mastery**: These CEOs excelled in capital allocation, a critical skill for creating shareholder value. They focused on deploying resources where they would generate the highest returns, often thinking more like investors than traditional managers. For instance, Warren Buffett's approach at Berkshire Hathaway involved investing in high-return businesses and avoiding low-return ones, which significantly boosted the company's long-term performance.\n",
      "\n",
      "2. **Contrarian Thinking**: The outsider CEOs often went against conventional wisdom. During periods of economic uncertainty, such as the 1974–1982 economic malaise, they were active in making acquisitions and repurchasing shares while others were hesitant. This contrarian approach allowed them to capitalize on opportunities that others missed.\n",
      "\n",
      "3. **Decentralized Operations with Centralized Capital Allocation**: While they ran highly decentralized organizations, these CEOs maintained tight control over capital allocation decisions. This blend of delegation and centralization allowed them to be nimble and make high-impact decisions quickly.\n",
      "\n",
      "4. **Focus on Cash Flow**: Instead of prioritizing reported earnings, these CEOs emphasized optimizing free cash flow. This focus informed their strategic decisions, such as stock buybacks and acquisitions, and helped them maintain financial flexibility.\n",
      "\n",
      "5. **Long-Term Perspective**: They prioritized long-term value over short-term earnings, often making decisions that temporarily penalized short-term profits to enhance long-term competitive positions. For example, ExxonMobil maintained its exploration spending during financial downturns to secure future growth.\n",
      "\n",
      "6. **Independence and Rationality**: These CEOs were independent thinkers who often avoided the influence of Wall Street and external advisers. They relied on their own analysis and were comfortable making bold decisions based on empirical data.\n",
      "\n",
      "7. **Selective Boldness**: While generally conservative, they were willing to act decisively when they identified high-return opportunities. This included making large acquisitions or significant stock repurchases when conditions were favorable.\n",
      "\n",
      "8. **Iconoclastic Approach**: They often defied industry norms, such as avoiding dividends or focusing on unconventional financial metrics, which set them apart from their peers and contributed to their exceptional performance.\n",
      "\n",
      "Overall, the success of these CEOs can be attributed to their unique blend of analytical rigor, independent thinking, and a steadfast focus on long-term value creation.\n"
     ]
    }
   ],
   "source": [
    "print(response)"
   ]
  },
  {
   "cell_type": "markdown",
   "id": "fd21d044-c9fc-4d65-a637-f8765028add5",
   "metadata": {},
   "source": [
    "#### Modified Kamradt Chunks"
   ]
  },
  {
   "cell_type": "code",
   "execution_count": 109,
   "id": "bf25d56c-96ba-497f-a3d5-ebc0aa560c34",
   "metadata": {},
   "outputs": [],
   "source": [
    "mod_kamradt_collections = chroma_client.get_or_create_collection(name=\"mod_kamradt_collections\")\n",
    "add_chunks(modified_kamradt_chunks, mod_kamradt_collections)"
   ]
  },
  {
   "cell_type": "code",
   "execution_count": 110,
   "id": "f7a34fd4-1da5-458e-8fa8-a6e8de58269c",
   "metadata": {},
   "outputs": [],
   "source": [
    "rag_prompt = ChatPromptTemplate.from_template(rag_prompt_template)\n",
    "rag_chain = rag_prompt | llm | StrOutputParser()"
   ]
  },
  {
   "cell_type": "code",
   "execution_count": 111,
   "id": "60266d36-a3cb-4768-bd50-36fad6be2c76",
   "metadata": {},
   "outputs": [],
   "source": [
    "docs, response = chroma_rag(\"Give me the best CEO's and elaborate reasons behind it ?\", mod_kamradt_collections)"
   ]
  },
  {
   "cell_type": "code",
   "execution_count": 112,
   "id": "2df365db-087b-4331-9254-fa5701af401d",
   "metadata": {
    "scrolled": true
   },
   "outputs": [
    {
     "name": "stdout",
     "output_type": "stream",
     "text": [
      "The input data highlights a group of CEOs known for their unconventional and highly effective management styles, often referred to as \"outsider CEOs.\" These leaders are characterized by their focus on capital allocation, decentralization, and long-term value creation, rather than short-term profit maximization or charismatic leadership.\n",
      "\n",
      "1. **Capital Allocation**: These CEOs prioritize careful deployment of resources to maximize shareholder value. They focus on both the numerator (total company value) and the denominator (shares outstanding) by making strategic investments and share repurchases. This approach is exemplified by ExxonMobil's aggressive stock buybacks, which were made as investments rather than to manipulate stock prices.\n",
      "\n",
      "2. **Decentralization**: A hallmark of their management style is running highly decentralized organizations. This involves granting significant autonomy to local managers, as seen in companies like Capital Cities, where decisions are made at the local level. This approach acknowledges that value is often created by those closest to the operations.\n",
      "\n",
      "3. **Investor Mindset**: These CEOs think more like investors than traditional managers. They are willing to wait for compelling investment opportunities and act boldly when discrepancies between value and price arise. This mindset allows them to make high-return decisions and avoid the institutional imperative, a tendency for CEOs to mimic their peers.\n",
      "\n",
      "4. **Focus on Cash Flow**: Instead of chasing quarterly earnings, these CEOs emphasize cash flow and use cash flow-based metrics to guide their decisions. This focus helps them avoid the pitfalls of distorted net income figures and ensures that their actions are aligned with long-term value creation.\n",
      "\n",
      "5. **Independence and Boldness**: They exhibit a feisty independence, often going against conventional wisdom and making large acquisitions or strategic moves that others might avoid. This boldness, combined with a rational and logical approach, provides a competitive advantage across various industries.\n",
      "\n",
      "Overall, the best CEOs, according to the input data, are those who prioritize long-term value creation through strategic capital allocation, decentralization, and an investor-like mindset, rather than relying on charisma or short-term financial metrics.\n"
     ]
    }
   ],
   "source": [
    "print(response)"
   ]
  },
  {
   "cell_type": "markdown",
   "id": "187e75c8-9c42-4731-9fc4-1c1863e8639e",
   "metadata": {},
   "source": [
    "#### Cluster Chunker"
   ]
  },
  {
   "cell_type": "code",
   "execution_count": 133,
   "id": "c84f7723-6773-4b32-95ed-687340124790",
   "metadata": {},
   "outputs": [],
   "source": [
    "cluster_chunks_collection = chroma_client.get_or_create_collection(name=\"cluster_chunks_collections\")\n",
    "add_chunks(cluster_chunker_chunks, cluster_chunks_collection)"
   ]
  },
  {
   "cell_type": "code",
   "execution_count": 134,
   "id": "eb921b09-2304-4e76-9d36-15694aaadf40",
   "metadata": {},
   "outputs": [],
   "source": [
    "rag_prompt = ChatPromptTemplate.from_template(rag_prompt_template)\n",
    "rag_chain = rag_prompt | llm | StrOutputParser()"
   ]
  },
  {
   "cell_type": "code",
   "execution_count": 135,
   "id": "a65ac670-4949-4918-9c78-0dfd116a088b",
   "metadata": {},
   "outputs": [],
   "source": [
    "docs, response = chroma_rag(\"Give me the best CEO's and elaborate reasons behind it ?\", mod_kamradt_collections)"
   ]
  },
  {
   "cell_type": "code",
   "execution_count": 136,
   "id": "1637aa33-775b-4fd6-88cb-cac5bc2c7478",
   "metadata": {},
   "outputs": [
    {
     "name": "stdout",
     "output_type": "stream",
     "text": [
      "The best CEOs, as highlighted in the context, are those who adopt an unconventional and highly effective approach to management and capital allocation. These CEOs, often referred to as \"outsider CEOs,\" share several key characteristics that set them apart:\n",
      "\n",
      "1. **Radical Rationality and Long-term Perspective**: These CEOs think like long-term investors rather than high-paid employees. They focus on capital allocation and resource deployment to create shareholder value, always considering the return on investment before proceeding with projects.\n",
      "\n",
      "2. **Decentralization and Autonomy**: They run highly decentralized organizations, granting significant autonomy to local managers. This approach acknowledges that real value is often created at the local level, not at headquarters. Capital Cities is a prime example, where decentralization was a core philosophy.\n",
      "\n",
      "3. **Focus on Cash Flow and Shareholder Value**: Instead of chasing quarterly earnings, these CEOs prioritize cash flow and shareholder value. They are known for buying back stock when it offers attractive returns and making acquisitions only when they are economically sensible.\n",
      "\n",
      "4. **Avoidance of the Institutional Imperative**: They resist the pressure to imitate peers, a phenomenon Warren Buffett calls the \"institutional imperative.\" Instead, they develop unique management philosophies that guide their decisions.\n",
      "\n",
      "5. **Analytical Skills and Bold Actions**: These CEOs have confidence in their analytical abilities and are willing to act boldly when they identify discrepancies between value and price. They are patient, sometimes waiting years for the right opportunities.\n",
      "\n",
      "6. **Unconventional Backgrounds**: Many of these CEOs come from non-traditional backgrounds, which contributes to their unique perspectives and approaches.\n",
      "\n",
      "7. **Exceptional Long-term Performance**: Over their long tenures, often exceeding twenty years, these CEOs have delivered outstanding performance, significantly outperforming their peers.\n",
      "\n",
      "In summary, the best CEOs are those who combine a long-term investment mindset with a decentralized operational approach, focus on cash flow, and resist conventional pressures, leading to exceptional shareholder returns.\n"
     ]
    }
   ],
   "source": [
    "print(response)"
   ]
  }
 ],
 "metadata": {
  "kernelspec": {
   "display_name": "Python 3 (ipykernel)",
   "language": "python",
   "name": "python3"
  },
  "language_info": {
   "codemirror_mode": {
    "name": "ipython",
    "version": 3
   },
   "file_extension": ".py",
   "mimetype": "text/x-python",
   "name": "python",
   "nbconvert_exporter": "python",
   "pygments_lexer": "ipython3",
   "version": "3.12.3"
  }
 },
 "nbformat": 4,
 "nbformat_minor": 5
}
